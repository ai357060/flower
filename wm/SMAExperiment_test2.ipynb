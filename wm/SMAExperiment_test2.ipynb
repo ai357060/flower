{
 "cells": [
  {
   "cell_type": "code",
   "execution_count": 1,
   "metadata": {},
   "outputs": [],
   "source": [
    "import os\n",
    "cwd = os.getcwd()\n",
    "if cwd[0:2] != \"C:\":\n",
    "    from google.colab import drive\n",
    "    drive.mount('/content/gdrive',force_remount=True)\n",
    "    %cd \"/content/gdrive/My Drive/Projects\"\n",
    "    !git clone https://github.com/ai357060/modelF.git\n",
    "    import sys\n",
    "    root_dir=\"/content/gdrive/My Drive/Projects/modelF\"\n",
    "    sys.path.append(root_dir)\n",
    "    %cd \"/content/gdrive/My Drive/Projects/modelF/wm\"\n",
    "    !git fetch --all\n",
    "    !git reset --hard origin/master"
   ]
  },
  {
   "cell_type": "code",
   "execution_count": 2,
   "metadata": {},
   "outputs": [],
   "source": [
    "import os\n",
    "cwd = os.getcwd()\n",
    "if cwd[0:2] != \"C:\":\n",
    "    from google.colab import drive\n",
    "    drive.mount('/content/gdrive',force_remount=True)\n",
    "    %cd \"/content/gdrive/My Drive/Projects\"\n",
    "#     !git clone https://github.com/ai357060/modelF.git\n",
    "    import sys\n",
    "    root_dir=\"/content/gdrive/My Drive/Projects/modelF\"\n",
    "    sys.path.append(root_dir)\n",
    "    %cd \"/content/gdrive/My Drive/Projects/modelF/wm\"\n",
    "#     !git pull"
   ]
  },
  {
   "cell_type": "code",
   "execution_count": 3,
   "metadata": {},
   "outputs": [],
   "source": [
    "import os\n",
    "import sys\n",
    "module_path = os.path.abspath(os.path.join('..'))\n",
    "if module_path not in sys.path:\n",
    "    sys.path.append(module_path)"
   ]
  },
  {
   "cell_type": "code",
   "execution_count": 4,
   "metadata": {},
   "outputs": [],
   "source": [
    "import pandas as pd\n",
    "import numpy as np\n",
    "import datetime as dt\n",
    "import importlib\n",
    "import tradestats\n",
    "import pandas as pd\n",
    "from datetime import datetime"
   ]
  },
  {
   "cell_type": "code",
   "execution_count": 5,
   "metadata": {},
   "outputs": [],
   "source": [
    "from sklearn import datasets\n",
    "from sklearn.tree import DecisionTreeRegressor\n",
    "from sklearn.tree import DecisionTreeClassifier \n",
    "from sklearn import tree\n",
    "# import graphviz"
   ]
  },
  {
   "cell_type": "code",
   "execution_count": 6,
   "metadata": {},
   "outputs": [],
   "source": [
    "importlib.reload(tradestats)\n",
    "from tradestats import *"
   ]
  },
  {
   "cell_type": "code",
   "execution_count": 7,
   "metadata": {},
   "outputs": [],
   "source": [
    "prices = loaddata_1D('AUDUSD_Candlestick_1_D_BID_03.08.2003-24.10.2021.csv')\n",
    "# prices = loaddata_1D('EURUSD_Candlestick_1_D_BID_03.08.2003-24.10.2021.csv')"
   ]
  },
  {
   "cell_type": "code",
   "execution_count": 8,
   "metadata": {},
   "outputs": [
    {
     "data": {
      "text/plain": [
       "4753"
      ]
     },
     "execution_count": 8,
     "metadata": {},
     "output_type": "execute_result"
    }
   ],
   "source": [
    "len(prices)"
   ]
  },
  {
   "cell_type": "code",
   "execution_count": 9,
   "metadata": {},
   "outputs": [
    {
     "name": "stdout",
     "output_type": "stream",
     "text": [
      "0:00:00.544368\n"
     ]
    }
   ],
   "source": [
    "importlib.reload(tradestats)\n",
    "from tradestats import *\n",
    "starttime = datetime.now()\n",
    "\n",
    "maKey  = [5,10,20,30,40,50,60,80,100,120,130,140,160]\n",
    "atrKey = [20]\n",
    "# srsKey = [0]\n",
    "dictList = []\n",
    "colFeat = []\n",
    "keyList = []\n",
    "maDict   = ma2(prices, maKey)\n",
    "atrDict  = atr(prices, atrKey)\n",
    "# srsDict  = srs(prices, srsKey)\n",
    "dictList.append(maDict.df); colFeat.append('ma'); keyList.append(maKey) \n",
    "dictList.append(atrDict.df); colFeat.append('atr'); keyList.append(atrKey) \n",
    "# dictList.append(srsDict.df); colFeat.append('srs'); keyList.append(srsKey) \n",
    "\n",
    "endtime = datetime.now()\n",
    "print(str(endtime - starttime))"
   ]
  },
  {
   "cell_type": "code",
   "execution_count": 10,
   "metadata": {},
   "outputs": [],
   "source": [
    "# prices.dropna(inplace=True)\n",
    "masterFrame = pd.DataFrame(index=prices.index)\n",
    "masterFrame[['id','year','month','day','date','weekday','open','high','low','close','volume']] = prices[['id','year','month','day','date','weekday','open','high','low','close','volume']]   "
   ]
  },
  {
   "cell_type": "code",
   "execution_count": 11,
   "metadata": {},
   "outputs": [],
   "source": [
    "for i in range(0,len(dictList)):#iteracja po funkcjach\n",
    "    for j in keyList[i]: #iteracja po okresach\n",
    "        for k in list(dictList[i][j]): #iteracja po kolumnach danej funkcji w okresie\n",
    "            colID = colFeat[i] + str(j) + k\n",
    "            masterFrame[colID] = dictList[i][j][k]"
   ]
  },
  {
   "cell_type": "code",
   "execution_count": 12,
   "metadata": {},
   "outputs": [],
   "source": [
    "# masterFrame.to_csv(sep=';',path_or_buf='../Data/masterFrame.csv',date_format=\"%Y-%m-%d\",index = False,na_rep='')"
   ]
  },
  {
   "cell_type": "code",
   "execution_count": 13,
   "metadata": {
    "scrolled": true
   },
   "outputs": [],
   "source": [
    "masterFrame = masterFrame.dropna()"
   ]
  },
  {
   "cell_type": "code",
   "execution_count": 14,
   "metadata": {},
   "outputs": [
    {
     "data": {
      "text/html": [
       "<div>\n",
       "<style scoped>\n",
       "    .dataframe tbody tr th:only-of-type {\n",
       "        vertical-align: middle;\n",
       "    }\n",
       "\n",
       "    .dataframe tbody tr th {\n",
       "        vertical-align: top;\n",
       "    }\n",
       "\n",
       "    .dataframe thead th {\n",
       "        text-align: right;\n",
       "    }\n",
       "</style>\n",
       "<table border=\"1\" class=\"dataframe\">\n",
       "  <thead>\n",
       "    <tr style=\"text-align: right;\">\n",
       "      <th></th>\n",
       "      <th>id</th>\n",
       "      <th>year</th>\n",
       "      <th>month</th>\n",
       "      <th>day</th>\n",
       "      <th>date</th>\n",
       "      <th>weekday</th>\n",
       "      <th>open</th>\n",
       "      <th>high</th>\n",
       "      <th>low</th>\n",
       "      <th>close</th>\n",
       "      <th>...</th>\n",
       "      <th>ma140SMAvs10_prev</th>\n",
       "      <th>ma140SMAvs20_prev</th>\n",
       "      <th>ma140SMAdiffseq_prev</th>\n",
       "      <th>ma160SMA_prev</th>\n",
       "      <th>ma160SMAdiffdiff_prev</th>\n",
       "      <th>ma160SMAvs5_prev</th>\n",
       "      <th>ma160SMAvs10_prev</th>\n",
       "      <th>ma160SMAvs20_prev</th>\n",
       "      <th>ma160SMAdiffseq_prev</th>\n",
       "      <th>atr20atr_prev</th>\n",
       "    </tr>\n",
       "  </thead>\n",
       "  <tbody>\n",
       "    <tr>\n",
       "      <th>4748</th>\n",
       "      <td>4748</td>\n",
       "      <td>2021</td>\n",
       "      <td>10</td>\n",
       "      <td>18</td>\n",
       "      <td>2021-10-18 21:00:00</td>\n",
       "      <td>0</td>\n",
       "      <td>0.74146</td>\n",
       "      <td>0.74370</td>\n",
       "      <td>0.73781</td>\n",
       "      <td>0.74102</td>\n",
       "      <td>...</td>\n",
       "      <td>-0.016704</td>\n",
       "      <td>-0.021228</td>\n",
       "      <td>-5</td>\n",
       "      <td>0.752543</td>\n",
       "      <td>0.000026</td>\n",
       "      <td>-0.014523</td>\n",
       "      <td>-0.018927</td>\n",
       "      <td>-0.023451</td>\n",
       "      <td>-5</td>\n",
       "      <td>0.006553</td>\n",
       "    </tr>\n",
       "    <tr>\n",
       "      <th>4749</th>\n",
       "      <td>4749</td>\n",
       "      <td>2021</td>\n",
       "      <td>10</td>\n",
       "      <td>19</td>\n",
       "      <td>2021-10-19 21:00:00</td>\n",
       "      <td>1</td>\n",
       "      <td>0.74080</td>\n",
       "      <td>0.74851</td>\n",
       "      <td>0.74074</td>\n",
       "      <td>0.74715</td>\n",
       "      <td>...</td>\n",
       "      <td>-0.015292</td>\n",
       "      <td>-0.020256</td>\n",
       "      <td>-5</td>\n",
       "      <td>0.752395</td>\n",
       "      <td>0.000017</td>\n",
       "      <td>-0.013045</td>\n",
       "      <td>-0.017537</td>\n",
       "      <td>-0.022502</td>\n",
       "      <td>-5</td>\n",
       "      <td>0.006606</td>\n",
       "    </tr>\n",
       "    <tr>\n",
       "      <th>4750</th>\n",
       "      <td>4750</td>\n",
       "      <td>2021</td>\n",
       "      <td>10</td>\n",
       "      <td>20</td>\n",
       "      <td>2021-10-20 21:00:00</td>\n",
       "      <td>2</td>\n",
       "      <td>0.74715</td>\n",
       "      <td>0.75222</td>\n",
       "      <td>0.74647</td>\n",
       "      <td>0.75144</td>\n",
       "      <td>...</td>\n",
       "      <td>-0.013338</td>\n",
       "      <td>-0.018910</td>\n",
       "      <td>-5</td>\n",
       "      <td>0.752243</td>\n",
       "      <td>-0.000004</td>\n",
       "      <td>-0.010427</td>\n",
       "      <td>-0.015567</td>\n",
       "      <td>-0.021139</td>\n",
       "      <td>-5</td>\n",
       "      <td>0.006687</td>\n",
       "    </tr>\n",
       "    <tr>\n",
       "      <th>4751</th>\n",
       "      <td>4751</td>\n",
       "      <td>2021</td>\n",
       "      <td>10</td>\n",
       "      <td>21</td>\n",
       "      <td>2021-10-21 21:00:00</td>\n",
       "      <td>3</td>\n",
       "      <td>0.75128</td>\n",
       "      <td>0.75460</td>\n",
       "      <td>0.74581</td>\n",
       "      <td>0.74655</td>\n",
       "      <td>...</td>\n",
       "      <td>-0.010826</td>\n",
       "      <td>-0.017488</td>\n",
       "      <td>-5</td>\n",
       "      <td>0.752106</td>\n",
       "      <td>0.000015</td>\n",
       "      <td>-0.007544</td>\n",
       "      <td>-0.012988</td>\n",
       "      <td>-0.019650</td>\n",
       "      <td>-5</td>\n",
       "      <td>0.006611</td>\n",
       "    </tr>\n",
       "    <tr>\n",
       "      <th>4752</th>\n",
       "      <td>4752</td>\n",
       "      <td>2021</td>\n",
       "      <td>10</td>\n",
       "      <td>22</td>\n",
       "      <td>2021-10-22 21:00:00</td>\n",
       "      <td>4</td>\n",
       "      <td>0.74654</td>\n",
       "      <td>0.75118</td>\n",
       "      <td>0.74533</td>\n",
       "      <td>0.74631</td>\n",
       "      <td>...</td>\n",
       "      <td>-0.009133</td>\n",
       "      <td>-0.016485</td>\n",
       "      <td>-5</td>\n",
       "      <td>0.751905</td>\n",
       "      <td>-0.000064</td>\n",
       "      <td>-0.006325</td>\n",
       "      <td>-0.011227</td>\n",
       "      <td>-0.018580</td>\n",
       "      <td>-5</td>\n",
       "      <td>0.006588</td>\n",
       "    </tr>\n",
       "  </tbody>\n",
       "</table>\n",
       "<p>5 rows × 90 columns</p>\n",
       "</div>"
      ],
      "text/plain": [
       "        id  year  month  day                date  weekday     open     high  \\\n",
       "4748  4748  2021     10   18 2021-10-18 21:00:00        0  0.74146  0.74370   \n",
       "4749  4749  2021     10   19 2021-10-19 21:00:00        1  0.74080  0.74851   \n",
       "4750  4750  2021     10   20 2021-10-20 21:00:00        2  0.74715  0.75222   \n",
       "4751  4751  2021     10   21 2021-10-21 21:00:00        3  0.75128  0.75460   \n",
       "4752  4752  2021     10   22 2021-10-22 21:00:00        4  0.74654  0.75118   \n",
       "\n",
       "          low    close  ...  ma140SMAvs10_prev  ma140SMAvs20_prev  \\\n",
       "4748  0.73781  0.74102  ...          -0.016704          -0.021228   \n",
       "4749  0.74074  0.74715  ...          -0.015292          -0.020256   \n",
       "4750  0.74647  0.75144  ...          -0.013338          -0.018910   \n",
       "4751  0.74581  0.74655  ...          -0.010826          -0.017488   \n",
       "4752  0.74533  0.74631  ...          -0.009133          -0.016485   \n",
       "\n",
       "      ma140SMAdiffseq_prev  ma160SMA_prev  ma160SMAdiffdiff_prev  \\\n",
       "4748                    -5       0.752543               0.000026   \n",
       "4749                    -5       0.752395               0.000017   \n",
       "4750                    -5       0.752243              -0.000004   \n",
       "4751                    -5       0.752106               0.000015   \n",
       "4752                    -5       0.751905              -0.000064   \n",
       "\n",
       "      ma160SMAvs5_prev  ma160SMAvs10_prev  ma160SMAvs20_prev  \\\n",
       "4748         -0.014523          -0.018927          -0.023451   \n",
       "4749         -0.013045          -0.017537          -0.022502   \n",
       "4750         -0.010427          -0.015567          -0.021139   \n",
       "4751         -0.007544          -0.012988          -0.019650   \n",
       "4752         -0.006325          -0.011227          -0.018580   \n",
       "\n",
       "      ma160SMAdiffseq_prev  atr20atr_prev  \n",
       "4748                    -5       0.006553  \n",
       "4749                    -5       0.006606  \n",
       "4750                    -5       0.006687  \n",
       "4751                    -5       0.006611  \n",
       "4752                    -5       0.006588  \n",
       "\n",
       "[5 rows x 90 columns]"
      ]
     },
     "execution_count": 14,
     "metadata": {},
     "output_type": "execute_result"
    }
   ],
   "source": [
    "masterFrame.tail(5)"
   ]
  },
  {
   "cell_type": "code",
   "execution_count": null,
   "metadata": {},
   "outputs": [],
   "source": []
  },
  {
   "cell_type": "code",
   "execution_count": 15,
   "metadata": {},
   "outputs": [
    {
     "name": "stdout",
     "output_type": "stream",
     "text": [
      "0.9 : 0.8 : 0 : -16  open: 1\n",
      "0:00:00.538888\n"
     ]
    }
   ],
   "source": [
    "importlib.reload(tradestats)\n",
    "from tradestats import *\n",
    "starttime = datetime.now()\n",
    "atrperiod = 'atr20atr_prev'\n",
    "sl = [0.9]\n",
    "tp = [0.8]\n",
    "tsl = [0]\n",
    "# alltrades = preparetrades_brut_tsl(masterFrame,[1],[0.001,0.002,0.003,0.004,0.005,0.006],[0.001,0.002,0.003,0.004,0.005,0.006],[0.001,0.002,0.003,0.004,0.005,0.006],2015,2021)\n",
    "# alltrades = preparetrades_brut_tp(masterFrame,[1],[0.003,0.004,0.005,0.006,0.007,0.008,0.009,0.01],[0.003,0.004,0.005,0.006,0.007,0.008,0.009,0.01],2003,2021)\n",
    "# alltrades = preparetrades_brut_tp(masterFrame,[-1,1],[0.5],[0.9],2020,2021,atrperiod)\n",
    "# alltrades = preparetrades_brut_tp(masterFrame,[-1],[0.3,0.4,0.5,0.6,0.7,0.8,0.9],[0.6,0.7,0.8,0.9,1,1.1,1.2,1.3,1.4,1.5],2003,2021,atrperiod)\n",
    "# alltrades = preparetrades_brut_tp(masterFrame,[1],[1,1.2,1.4,1.6,1.8,2,2.2],[1.2,1.4,1.6,1.8,2,2.2,2.4,2.6,2.8,3,3.2],2003,2021,atrperiod)\n",
    "alltrades = preparetrades_brut_tsl(masterFrame,[1],sl,tp,tsl,2003,2021,atrperiod)\n",
    "# alltrades = preparetrades_brut_tp(masterFrame,[-1],[0.003,0.004,0.005,0.006,0.007,0.008,0.009,0.01],[0.006,0.007,0.008,0.009,0.01,0.011,0.012,0.013,0.014,0.015],2003,2021,atrperiod)\n",
    "# alltrades = preparetrades_brut_tp(masterFrame,[-1],[0.003,0.004,0.005,0.006,0.007,0.008,0.01,0.012,0.014],[0.003,0.004,0.005,0.006,0.007,0.008,0.01,0.012,0.014],2003,2021,atrperiod)\n",
    "endtime = datetime.now()\n",
    "print(str(endtime - starttime))"
   ]
  },
  {
   "cell_type": "code",
   "execution_count": 16,
   "metadata": {},
   "outputs": [],
   "source": [
    "importlib.reload(tradestats)\n",
    "from tradestats import *\n",
    "trades = cleartrades_brut(alltrades.copy(),True)\n",
    "# trades,alltrades = preparetrades(masterFrame,[-1,1],[5],[13],[0.002],True)"
   ]
  },
  {
   "cell_type": "code",
   "execution_count": 17,
   "metadata": {},
   "outputs": [
    {
     "data": {
      "text/html": [
       "<div>\n",
       "<style scoped>\n",
       "    .dataframe tbody tr th:only-of-type {\n",
       "        vertical-align: middle;\n",
       "    }\n",
       "\n",
       "    .dataframe tbody tr th {\n",
       "        vertical-align: top;\n",
       "    }\n",
       "\n",
       "    .dataframe thead th {\n",
       "        text-align: right;\n",
       "    }\n",
       "</style>\n",
       "<table border=\"1\" class=\"dataframe\">\n",
       "  <thead>\n",
       "    <tr style=\"text-align: right;\">\n",
       "      <th></th>\n",
       "      <th>id</th>\n",
       "      <th>year</th>\n",
       "      <th>month</th>\n",
       "      <th>day</th>\n",
       "      <th>date</th>\n",
       "      <th>weekday</th>\n",
       "      <th>open</th>\n",
       "      <th>high</th>\n",
       "      <th>low</th>\n",
       "      <th>close</th>\n",
       "      <th>...</th>\n",
       "      <th>stoploss</th>\n",
       "      <th>takeprofit</th>\n",
       "      <th>closeindex</th>\n",
       "      <th>tpcloseindex</th>\n",
       "      <th>closeprice</th>\n",
       "      <th>tpcloseprice</th>\n",
       "      <th>slindex</th>\n",
       "      <th>slprice</th>\n",
       "      <th>profit</th>\n",
       "      <th>profit1</th>\n",
       "    </tr>\n",
       "  </thead>\n",
       "  <tbody>\n",
       "    <tr>\n",
       "      <th>162</th>\n",
       "      <td>162</td>\n",
       "      <td>2004</td>\n",
       "      <td>3</td>\n",
       "      <td>17</td>\n",
       "      <td>2004-03-17 22:00:00</td>\n",
       "      <td>2</td>\n",
       "      <td>0.74192</td>\n",
       "      <td>0.74355</td>\n",
       "      <td>0.7359</td>\n",
       "      <td>0.74081</td>\n",
       "      <td>...</td>\n",
       "      <td>0.730642</td>\n",
       "      <td>0.751945</td>\n",
       "      <td>163.0</td>\n",
       "      <td>163.0</td>\n",
       "      <td>0.751945</td>\n",
       "      <td>0.75308</td>\n",
       "      <td>-1.0</td>\n",
       "      <td>-1.0</td>\n",
       "      <td>100.252</td>\n",
       "      <td>1</td>\n",
       "    </tr>\n",
       "    <tr>\n",
       "      <th>163</th>\n",
       "      <td>163</td>\n",
       "      <td>2004</td>\n",
       "      <td>3</td>\n",
       "      <td>18</td>\n",
       "      <td>2004-03-18 22:00:00</td>\n",
       "      <td>3</td>\n",
       "      <td>0.74107</td>\n",
       "      <td>0.75308</td>\n",
       "      <td>0.7392</td>\n",
       "      <td>0.75065</td>\n",
       "      <td>...</td>\n",
       "      <td>0.730049</td>\n",
       "      <td>0.750866</td>\n",
       "      <td>163.0</td>\n",
       "      <td>163.0</td>\n",
       "      <td>0.750866</td>\n",
       "      <td>0.75308</td>\n",
       "      <td>-1.0</td>\n",
       "      <td>-1.0</td>\n",
       "      <td>97.964</td>\n",
       "      <td>1</td>\n",
       "    </tr>\n",
       "  </tbody>\n",
       "</table>\n",
       "<p>2 rows × 109 columns</p>\n",
       "</div>"
      ],
      "text/plain": [
       "      id  year  month  day                date  weekday     open     high  \\\n",
       "162  162  2004      3   17 2004-03-17 22:00:00        2  0.74192  0.74355   \n",
       "163  163  2004      3   18 2004-03-18 22:00:00        3  0.74107  0.75308   \n",
       "\n",
       "        low    close  ...  stoploss  takeprofit  closeindex  tpcloseindex  \\\n",
       "162  0.7359  0.74081  ...  0.730642    0.751945       163.0         163.0   \n",
       "163  0.7392  0.75065  ...  0.730049    0.750866       163.0         163.0   \n",
       "\n",
       "     closeprice  tpcloseprice  slindex  slprice   profit  profit1  \n",
       "162    0.751945       0.75308     -1.0     -1.0  100.252        1  \n",
       "163    0.750866       0.75308     -1.0     -1.0   97.964        1  \n",
       "\n",
       "[2 rows x 109 columns]"
      ]
     },
     "execution_count": 17,
     "metadata": {},
     "output_type": "execute_result"
    }
   ],
   "source": [
    "#____________________________________________________________________________________________________________________\n",
    "#\n",
    "#\n",
    "alltrades.head(2)"
   ]
  },
  {
   "cell_type": "code",
   "execution_count": 18,
   "metadata": {},
   "outputs": [
    {
     "name": "stdout",
     "output_type": "stream",
     "text": [
      "ma_t2_2003_2021_1_atr20atr_prev_ma40SMAvs5_prev\n",
      "allexecs:  18\n",
      "finish:         2021-12-19 17:28:22.881048\n",
      "duration:       0:00:00.185807\n"
     ]
    }
   ],
   "source": [
    "importlib.reload(tradestats)\n",
    "from tradestats import *\n",
    "# for i in [10,14,20,30,40]:\n",
    "for i in [20]:\n",
    "    atrperiod = 'atr'+str(i)+'atr_prev'\n",
    "    runstats_test2(alltrades,'40',atrperiod,sl,tp,tsl)"
   ]
  },
  {
   "cell_type": "code",
   "execution_count": null,
   "metadata": {},
   "outputs": [],
   "source": []
  },
  {
   "cell_type": "code",
   "execution_count": null,
   "metadata": {},
   "outputs": [],
   "source": []
  },
  {
   "cell_type": "code",
   "execution_count": null,
   "metadata": {},
   "outputs": [],
   "source": []
  },
  {
   "cell_type": "code",
   "execution_count": null,
   "metadata": {},
   "outputs": [],
   "source": []
  }
 ],
 "metadata": {
  "kernelspec": {
   "display_name": "Python 3 (ipykernel)",
   "language": "python",
   "name": "python3"
  },
  "language_info": {
   "codemirror_mode": {
    "name": "ipython",
    "version": 3
   },
   "file_extension": ".py",
   "mimetype": "text/x-python",
   "name": "python",
   "nbconvert_exporter": "python",
   "pygments_lexer": "ipython3",
   "version": "3.9.7"
  }
 },
 "nbformat": 4,
 "nbformat_minor": 2
}
