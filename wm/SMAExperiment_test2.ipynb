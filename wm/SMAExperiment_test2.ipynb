{
 "cells": [
  {
   "cell_type": "code",
   "execution_count": 1,
   "metadata": {},
   "outputs": [],
   "source": [
    "import os\n",
    "cwd = os.getcwd()\n",
    "if cwd[0:2] != \"C:\":\n",
    "    from google.colab import drive\n",
    "    drive.mount('/content/gdrive',force_remount=True)\n",
    "    %cd \"/content/gdrive/My Drive/Projects\"\n",
    "    !git clone https://github.com/ai357060/modelF.git\n",
    "    import sys\n",
    "    root_dir=\"/content/gdrive/My Drive/Projects/modelF\"\n",
    "    sys.path.append(root_dir)\n",
    "    %cd \"/content/gdrive/My Drive/Projects/modelF/wm\"\n",
    "    !git fetch --all\n",
    "    !git reset --hard origin/master"
   ]
  },
  {
   "cell_type": "code",
   "execution_count": 2,
   "metadata": {},
   "outputs": [],
   "source": [
    "import os\n",
    "cwd = os.getcwd()\n",
    "if cwd[0:2] != \"C:\":\n",
    "    from google.colab import drive\n",
    "    drive.mount('/content/gdrive',force_remount=True)\n",
    "    %cd \"/content/gdrive/My Drive/Projects\"\n",
    "#     !git clone https://github.com/ai357060/modelF.git\n",
    "    import sys\n",
    "    root_dir=\"/content/gdrive/My Drive/Projects/modelF\"\n",
    "    sys.path.append(root_dir)\n",
    "    %cd \"/content/gdrive/My Drive/Projects/modelF/wm\"\n",
    "#     !git pull"
   ]
  },
  {
   "cell_type": "code",
   "execution_count": 3,
   "metadata": {},
   "outputs": [],
   "source": [
    "import os\n",
    "import sys\n",
    "module_path = os.path.abspath(os.path.join('..'))\n",
    "if module_path not in sys.path:\n",
    "    sys.path.append(module_path)"
   ]
  },
  {
   "cell_type": "code",
   "execution_count": 4,
   "metadata": {},
   "outputs": [],
   "source": [
    "import pandas as pd\n",
    "import numpy as np\n",
    "import datetime as dt\n",
    "import importlib\n",
    "import tradestats\n",
    "import pandas as pd\n",
    "from datetime import datetime"
   ]
  },
  {
   "cell_type": "code",
   "execution_count": 5,
   "metadata": {},
   "outputs": [],
   "source": [
    "from sklearn import datasets\n",
    "from sklearn.tree import DecisionTreeRegressor\n",
    "from sklearn.tree import DecisionTreeClassifier \n",
    "from sklearn import tree\n",
    "# import graphviz"
   ]
  },
  {
   "cell_type": "code",
   "execution_count": 6,
   "metadata": {},
   "outputs": [],
   "source": [
    "importlib.reload(tradestats)\n",
    "from tradestats import *"
   ]
  },
  {
   "cell_type": "code",
   "execution_count": 7,
   "metadata": {},
   "outputs": [],
   "source": [
    "prices = loaddata_1D('AUDUSD_Candlestick_1_D_BID_03.08.2003-24.10.2021.csv')\n",
    "# prices = loaddata_1D('EURUSD_Candlestick_1_D_BID_03.08.2003-24.10.2021.csv')"
   ]
  },
  {
   "cell_type": "code",
   "execution_count": 8,
   "metadata": {},
   "outputs": [
    {
     "data": {
      "text/plain": [
       "4753"
      ]
     },
     "execution_count": 8,
     "metadata": {},
     "output_type": "execute_result"
    }
   ],
   "source": [
    "len(prices)"
   ]
  },
  {
   "cell_type": "code",
   "execution_count": 9,
   "metadata": {},
   "outputs": [
    {
     "name": "stdout",
     "output_type": "stream",
     "text": [
      "0:00:00.533991\n"
     ]
    }
   ],
   "source": [
    "importlib.reload(tradestats)\n",
    "from tradestats import *\n",
    "starttime = datetime.now()\n",
    "\n",
    "maKey  = [5,10,20,30,40,50,60,80,100,120,130,140,160]\n",
    "atrKey = [20]\n",
    "# srsKey = [0]\n",
    "dictList = []\n",
    "colFeat = []\n",
    "keyList = []\n",
    "maDict   = ma2(prices, maKey)\n",
    "atrDict  = atr(prices, atrKey)\n",
    "# srsDict  = srs(prices, srsKey)\n",
    "dictList.append(maDict.df); colFeat.append('ma'); keyList.append(maKey) \n",
    "dictList.append(atrDict.df); colFeat.append('atr'); keyList.append(atrKey) \n",
    "# dictList.append(srsDict.df); colFeat.append('srs'); keyList.append(srsKey) \n",
    "\n",
    "endtime = datetime.now()\n",
    "print(str(endtime - starttime))"
   ]
  },
  {
   "cell_type": "code",
   "execution_count": 10,
   "metadata": {},
   "outputs": [],
   "source": [
    "# prices.dropna(inplace=True)\n",
    "masterFrame = pd.DataFrame(index=prices.index)\n",
    "masterFrame[['id','year','month','day','date','weekday','open','high','low','close','volume']] = prices[['id','year','month','day','date','weekday','open','high','low','close','volume']]   "
   ]
  },
  {
   "cell_type": "code",
   "execution_count": 11,
   "metadata": {},
   "outputs": [],
   "source": [
    "for i in range(0,len(dictList)):#iteracja po funkcjach\n",
    "    for j in keyList[i]: #iteracja po okresach\n",
    "        for k in list(dictList[i][j]): #iteracja po kolumnach danej funkcji w okresie\n",
    "            colID = colFeat[i] + str(j) + k\n",
    "            masterFrame[colID] = dictList[i][j][k]"
   ]
  },
  {
   "cell_type": "code",
   "execution_count": 12,
   "metadata": {},
   "outputs": [],
   "source": [
    "# masterFrame.to_csv(sep=';',path_or_buf='../Data/masterFrame.csv',date_format=\"%Y-%m-%d\",index = False,na_rep='')"
   ]
  },
  {
   "cell_type": "code",
   "execution_count": 13,
   "metadata": {
    "scrolled": true
   },
   "outputs": [],
   "source": [
    "masterFrame = masterFrame.dropna()"
   ]
  },
  {
   "cell_type": "code",
   "execution_count": 14,
   "metadata": {
    "scrolled": true
   },
   "outputs": [],
   "source": [
    "# masterFrame.tail(5)"
   ]
  },
  {
   "cell_type": "code",
   "execution_count": null,
   "metadata": {},
   "outputs": [],
   "source": []
  },
  {
   "cell_type": "code",
   "execution_count": 24,
   "metadata": {},
   "outputs": [
    {
     "name": "stdout",
     "output_type": "stream",
     "text": [
      "0.3 : 0.4 : 0 : -5  open: 0\n",
      "0.3 : 0.4 : 0.1 : -7  open: 1\n",
      "0.3 : 0.4 : 0.3 : -10  open: 1\n",
      "0.3 : 0.4 : 0.5 : -15  open: 1\n",
      "0.3 : 0.4 : 0.7 : -26  open: 1\n",
      "0.3 : 0.4 : 0.9 : -31  open: 1\n",
      "0.3 : 0.6 : 0 : -5  open: 0\n",
      "0.3 : 0.6 : 0.1 : -11  open: 1\n",
      "0.3 : 0.6 : 0.3 : -11  open: 1\n",
      "0.3 : 0.6 : 0.5 : -15  open: 1\n",
      "0.3 : 0.6 : 0.7 : -26  open: 1\n",
      "0.3 : 0.6 : 0.9 : -31  open: 1\n",
      "0.3 : 0.8 : 0 : -9  open: 1\n",
      "0.3 : 0.8 : 0.1 : -11  open: 1\n",
      "0.3 : 0.8 : 0.3 : -12  open: 2\n",
      "0.3 : 0.8 : 0.5 : -15  open: 2\n",
      "0.3 : 0.8 : 0.7 : -26  open: 2\n",
      "0.3 : 0.8 : 0.9 : -31  open: 2\n",
      "0.3 : 1 : 0 : -11  open: 1\n",
      "0.3 : 1 : 0.1 : -12  open: 1\n",
      "0.3 : 1 : 0.3 : -12  open: 2\n",
      "0.3 : 1 : 0.5 : -18  open: 2\n",
      "0.3 : 1 : 0.7 : -26  open: 2\n",
      "0.3 : 1 : 0.9 : -31  open: 2\n",
      "0.3 : 1.2 : 0 : -13  open: 2\n",
      "0.3 : 1.2 : 0.1 : -14  open: 2\n",
      "0.3 : 1.2 : 0.3 : -16  open: 2\n",
      "0.3 : 1.2 : 0.5 : -18  open: 2\n",
      "0.3 : 1.2 : 0.7 : -26  open: 2\n",
      "0.3 : 1.2 : 0.9 : -31  open: 2\n",
      "0.5 : 0.4 : 0 : -6  open: 0\n",
      "0.5 : 0.4 : 0.1 : -8  open: 1\n",
      "0.5 : 0.4 : 0.3 : -11  open: 1\n",
      "0.5 : 0.4 : 0.5 : -15  open: 1\n",
      "0.5 : 0.4 : 0.7 : -28  open: 1\n",
      "0.5 : 0.4 : 0.9 : -31  open: 1\n",
      "0.5 : 0.6 : 0 : -12  open: 0\n",
      "0.5 : 0.6 : 0.1 : -13  open: 1\n",
      "0.5 : 0.6 : 0.3 : -15  open: 1\n",
      "0.5 : 0.6 : 0.5 : -16  open: 1\n",
      "0.5 : 0.6 : 0.7 : -28  open: 1\n",
      "0.5 : 0.6 : 0.9 : -31  open: 1\n",
      "0.5 : 0.8 : 0 : -13  open: 1\n",
      "0.5 : 0.8 : 0.1 : -15  open: 1\n",
      "0.5 : 0.8 : 0.3 : -15  open: 2\n",
      "0.5 : 0.8 : 0.5 : -16  open: 2\n",
      "0.5 : 0.8 : 0.7 : -28  open: 2\n",
      "0.5 : 0.8 : 0.9 : -31  open: 2\n",
      "0.5 : 1 : 0 : -14  open: 1\n",
      "0.5 : 1 : 0.1 : -15  open: 1\n",
      "0.5 : 1 : 0.3 : -15  open: 2\n",
      "0.5 : 1 : 0.5 : -18  open: 2\n",
      "0.5 : 1 : 0.7 : -28  open: 2\n",
      "0.5 : 1 : 0.9 : -31  open: 2\n",
      "0.5 : 1.2 : 0 : -17  open: 2\n",
      "0.5 : 1.2 : 0.1 : -18  open: 2\n",
      "0.5 : 1.2 : 0.3 : -25  open: 2\n",
      "0.5 : 1.2 : 0.5 : -25  open: 2\n",
      "0.5 : 1.2 : 0.7 : -28  open: 2\n",
      "0.5 : 1.2 : 0.9 : -32  open: 2\n",
      "0.7 : 0.4 : 0 : -8  open: 0\n",
      "0.7 : 0.4 : 0.1 : -12  open: 1\n",
      "0.7 : 0.4 : 0.3 : -12  open: 1\n",
      "0.7 : 0.4 : 0.5 : -15  open: 1\n",
      "0.7 : 0.4 : 0.7 : -28  open: 1\n",
      "0.7 : 0.4 : 0.9 : -31  open: 1\n",
      "0.7 : 0.6 : 0 : -12  open: 0\n",
      "0.7 : 0.6 : 0.1 : -13  open: 1\n",
      "0.7 : 0.6 : 0.3 : -15  open: 1\n",
      "0.7 : 0.6 : 0.5 : -16  open: 1\n",
      "0.7 : 0.6 : 0.7 : -28  open: 1\n",
      "0.7 : 0.6 : 0.9 : -31  open: 1\n",
      "0.7 : 0.8 : 0 : -13  open: 1\n",
      "0.7 : 0.8 : 0.1 : -15  open: 1\n",
      "0.7 : 0.8 : 0.3 : -15  open: 2\n",
      "0.7 : 0.8 : 0.5 : -16  open: 2\n",
      "0.7 : 0.8 : 0.7 : -30  open: 2\n",
      "0.7 : 0.8 : 0.9 : -31  open: 2\n",
      "0.7 : 1 : 0 : -17  open: 1\n",
      "0.7 : 1 : 0.1 : -18  open: 1\n",
      "0.7 : 1 : 0.3 : -18  open: 2\n",
      "0.7 : 1 : 0.5 : -24  open: 2\n",
      "0.7 : 1 : 0.7 : -30  open: 2\n",
      "0.7 : 1 : 0.9 : -33  open: 2\n",
      "0.7 : 1.2 : 0 : -21  open: 2\n",
      "0.7 : 1.2 : 0.1 : -22  open: 2\n",
      "0.7 : 1.2 : 0.3 : -25  open: 2\n",
      "0.7 : 1.2 : 0.5 : -27  open: 2\n",
      "0.7 : 1.2 : 0.7 : -30  open: 2\n",
      "0.7 : 1.2 : 0.9 : -33  open: 2\n",
      "0.9 : 0.4 : 0 : -10  open: 0\n",
      "0.9 : 0.4 : 0.1 : -12  open: 1\n",
      "0.9 : 0.4 : 0.3 : -13  open: 1\n",
      "0.9 : 0.4 : 0.5 : -15  open: 1\n",
      "0.9 : 0.4 : 0.7 : -29  open: 1\n",
      "0.9 : 0.4 : 0.9 : -31  open: 1\n",
      "0.9 : 0.6 : 0 : -13  open: 0\n",
      "0.9 : 0.6 : 0.1 : -14  open: 1\n",
      "0.9 : 0.6 : 0.3 : -15  open: 1\n",
      "0.9 : 0.6 : 0.5 : -17  open: 1\n",
      "0.9 : 0.6 : 0.7 : -29  open: 1\n",
      "0.9 : 0.6 : 0.9 : -31  open: 1\n",
      "0.9 : 0.8 : 0 : -16  open: 1\n",
      "0.9 : 0.8 : 0.1 : -17  open: 1\n",
      "0.9 : 0.8 : 0.3 : -17  open: 2\n",
      "0.9 : 0.8 : 0.5 : -23  open: 2\n",
      "0.9 : 0.8 : 0.7 : -30  open: 2\n",
      "0.9 : 0.8 : 0.9 : -31  open: 2\n",
      "0.9 : 1 : 0 : -20  open: 1\n",
      "0.9 : 1 : 0.1 : -21  open: 1\n",
      "0.9 : 1 : 0.3 : -22  open: 2\n",
      "0.9 : 1 : 0.5 : -24  open: 2\n",
      "0.9 : 1 : 0.7 : -30  open: 2\n",
      "0.9 : 1 : 0.9 : -34  open: 2\n",
      "0.9 : 1.2 : 0 : -26  open: 2\n",
      "0.9 : 1.2 : 0.1 : -28  open: 2\n",
      "0.9 : 1.2 : 0.3 : -29  open: 2\n",
      "0.9 : 1.2 : 0.5 : -29  open: 2\n",
      "0.9 : 1.2 : 0.7 : -41  open: 2\n",
      "0.9 : 1.2 : 0.9 : -43  open: 2\n",
      "0:01:20.811954\n"
     ]
    }
   ],
   "source": [
    "importlib.reload(tradestats)\n",
    "from tradestats import *\n",
    "starttime = datetime.now()\n",
    "atrperiod = 'atr20atr_prev'\n",
    "sl = [0.3,0.5,0.7,0.9]\n",
    "# tp = [0.4]\n",
    "# tsl = [0,0.1]\n",
    "tp = [0.4,0.6,0.8,1,1.2]\n",
    "tsl = [0,0.1,0.3,0.5,0.7,0.9]\n",
    "# alltrades = preparetrades_brut_tsl(masterFrame,[1],[0.001,0.002,0.003,0.004,0.005,0.006],[0.001,0.002,0.003,0.004,0.005,0.006],[0.001,0.002,0.003,0.004,0.005,0.006],2015,2021)\n",
    "# alltrades = preparetrades_brut_tp(masterFrame,[1],[0.003,0.004,0.005,0.006,0.007,0.008,0.009,0.01],[0.003,0.004,0.005,0.006,0.007,0.008,0.009,0.01],2003,2021)\n",
    "# alltrades = preparetrades_brut_tp(masterFrame,[-1,1],[0.5],[0.9],2020,2021,atrperiod)\n",
    "# alltrades = preparetrades_brut_tp(masterFrame,[-1],[0.3,0.4,0.5,0.6,0.7,0.8,0.9],[0.6,0.7,0.8,0.9,1,1.1,1.2,1.3,1.4,1.5],2003,2021,atrperiod)\n",
    "# alltrades = preparetrades_brut_tp(masterFrame,[1],[1,1.2,1.4,1.6,1.8,2,2.2],[1.2,1.4,1.6,1.8,2,2.2,2.4,2.6,2.8,3,3.2],2003,2021,atrperiod)\n",
    "alltrades = preparetrades_brut_tsl(masterFrame,[1],sl,tp,tsl,2003,2021,atrperiod)\n",
    "# alltrades = preparetrades_brut_tp(masterFrame,[-1],[0.003,0.004,0.005,0.006,0.007,0.008,0.009,0.01],[0.006,0.007,0.008,0.009,0.01,0.011,0.012,0.013,0.014,0.015],2003,2021,atrperiod)\n",
    "# alltrades = preparetrades_brut_tp(masterFrame,[-1],[0.003,0.004,0.005,0.006,0.007,0.008,0.01,0.012,0.014],[0.003,0.004,0.005,0.006,0.007,0.008,0.01,0.012,0.014],2003,2021,atrperiod)\n",
    "endtime = datetime.now()\n",
    "print(str(endtime - starttime))"
   ]
  },
  {
   "cell_type": "code",
   "execution_count": null,
   "metadata": {},
   "outputs": [],
   "source": []
  },
  {
   "cell_type": "code",
   "execution_count": 25,
   "metadata": {},
   "outputs": [
    {
     "name": "stdout",
     "output_type": "stream",
     "text": [
      "trades_len:  550824\n"
     ]
    }
   ],
   "source": [
    "importlib.reload(tradestats)\n",
    "from tradestats import *\n",
    "trades = cleartrades_brut(alltrades.copy(),False)\n",
    "# trades,alltrades = preparetrades(masterFrame,[-1,1],[5],[13],[0.002],True)"
   ]
  },
  {
   "cell_type": "code",
   "execution_count": 26,
   "metadata": {},
   "outputs": [],
   "source": [
    "#____________________________________________________________________________________________________________________\n",
    "#\n",
    "#\n",
    "# alltrades.head(2)"
   ]
  },
  {
   "cell_type": "code",
   "execution_count": 228,
   "metadata": {},
   "outputs": [],
   "source": [
    "def runstats_test2(alltrades,ma1,atrperiod,sl,tp,tsl,fxs=False):\n",
    "    ma2 = '5'\n",
    "    stats = runstats_ma_test2(alltrades,'ma'+ma1+'SMAdiffseq_prev', 'ma'+ma1+'SMAdiffdiff_prev','ma'+ma1+'SMAvs'+ma2+'_prev', 'ma'+ma2+'SMAdiffseq_prev', 'ma'+ma2+'SMAdiffdiff_prev',atrperiod,sl,tp,tsl,fxs)\n",
    "    return stats\n",
    "\n",
    "def runstats_ma_test2(alltrades,a,b,vs,aa,bb,atr,sl,tp,tsl,fxs=False):\n",
    "    conf   = {}\n",
    "    params = {}\n",
    "\n",
    "    params['tradetype'] = [2,[1]]\n",
    "    params['sl'] =        [2,sl]\n",
    "    params['tp'] =        [2,tp]\n",
    "    params['tsl'] =       [2,tsl]\n",
    "    params[atr]  =        [3,[-1000],[0.015]]\n",
    "    params[a]    =        [0,[1,2],[1000]]\n",
    "    params[b]    =        [0,[-1000,0,1000],[-1000,0,1000]]\n",
    "#     params[c]    =        [3,[0],[1000]]\n",
    "    params[vs]    =        [3,[0],[1000]]\n",
    "    params[aa]   =        [3,[2],[1000]]\n",
    "    params[bb]   =        [0,[-1000,0,1000],[-1000,0,1000]]\n",
    "#     params[cc]   =        [3,[-1000],[1000]]\n",
    "    conf['filename'] =    'ma_test2_2003_2021_1_'+atr+'_'+vs\n",
    "    print(conf['filename'])\n",
    "    conf['fxs'] = fxs\n",
    "    stats = stathyperparams2(alltrades,params,conf)\n",
    "    return stats"
   ]
  },
  {
   "cell_type": "code",
   "execution_count": 224,
   "metadata": {},
   "outputs": [
    {
     "name": "stdout",
     "output_type": "stream",
     "text": [
      "ma_test2_2003_2021_1_atr20atr_prev_ma40SMAvs5_prev\n",
      "allexecs:  2160\n",
      "finish:         2021-12-22 22:37:41.481089\n",
      "duration:       0:00:06.257940\n"
     ]
    }
   ],
   "source": [
    "importlib.reload(tradestats)\n",
    "from tradestats import *\n",
    "# for i in [10,14,20,30,40]:\n",
    "for i in [20]:\n",
    "    atrperiod = 'atr'+str(i)+'atr_prev'\n",
    "    stats = runstats_test2(alltrades,'40',atrperiod,sl,tp,tsl)"
   ]
  },
  {
   "cell_type": "code",
   "execution_count": 229,
   "metadata": {},
   "outputs": [
    {
     "name": "stdout",
     "output_type": "stream",
     "text": [
      "ma_test2_2003_2021_1_atr20atr_prev_ma40SMAvs5_prev\n",
      "allexecs:  2160\n",
      "           tradetype      1\n",
      "                  sl    0.3\n",
      "                  tp      1\n",
      "                 tsl      0\n",
      "       atr20atr_prev  -1000  0.015\n",
      " ma40SMAdiffseq_prev      1   1000\n",
      "ma40SMAdiffdiff_prev  -1000      0\n",
      "     ma40SMAvs5_prev      0   1000\n",
      "  ma5SMAdiffseq_prev      2   1000\n",
      " ma5SMAdiffdiff_prev  -1000      0\n",
      "{'ii': 0, 'c': 332, 'cu': 100, 'cd': 232, 'p_sm': 2534.2230000000086, 'maxp': 2574.8875000000057, 'maxd2': -343.4359999999974, 'mu': 0, 'md': 0, 'avgsl': 25.947939759036156, 'r': 97.66567301812415, 'd': -13.235578746879073, 'rd2': 7.497430380041769}\n",
      "--------------OR--------------\n",
      "           tradetype      1\n",
      "                  sl    0.3\n",
      "                  tp      1\n",
      "                 tsl      0\n",
      "       atr20atr_prev  -1000  0.015\n",
      " ma40SMAdiffseq_prev      1   1000\n",
      "ma40SMAdiffdiff_prev      0   1000\n",
      "     ma40SMAvs5_prev      0   1000\n",
      "  ma5SMAdiffseq_prev      2   1000\n",
      " ma5SMAdiffdiff_prev      0   1000\n",
      "{'ii': 0, 'c': 366, 'cu': 72, 'cd': 294, 'p_sm': -1098.3189999999959, 'maxp': 676.1899999999989, 'maxd2': -1315.3874999999935, 'mu': 0, 'md': 0, 'avgsl': 25.35129918032785, 'r': -43.32397295252906, 'd': -51.886394091420385, 'rd2': 0.514061445771685}\n",
      "--------------OR--------------\n",
      "{'ii': 0, 'c': 698, 'cu': 172, 'cd': 526, 'p_sm': 1435.9040000000132, 'maxp': 2334.317500000002, 'maxd2': -929.8459999999941, 'mu': 0, 'md': 0, 'avgsl': 25.63508810888254, 'r': 56.01322663300983, 'd': -36.27239337156025, 'rd2': 2.510434523566286}\n"
     ]
    },
    {
     "data": {
      "image/png": "[encoded data removed]",
      "text/plain": [
       "<Figure size 1440x720 with 1 Axes>"
      ]
     },
     "metadata": {
      "needs_background": "light"
     },
     "output_type": "display_data"
    }
   ],
   "source": [
    "importlib.reload(tradestats)\n",
    "from tradestats import *\n",
    "# for i in [10,14,20,30,40]:\n",
    "for i in [20]:\n",
    "    atrperiod = 'atr'+str(i)+'atr_prev'\n",
    "    fxs=runstats_test2(alltrades,'40',atrperiod,sl,tp,tsl,True)\n",
    "\n",
    "sub = calcandplot(alltrades,fxs,[325,333])    "
   ]
  },
  {
   "cell_type": "code",
   "execution_count": null,
   "metadata": {},
   "outputs": [],
   "source": []
  }
 ],
 "metadata": {
  "kernelspec": {
   "display_name": "Python 3 (ipykernel)",
   "language": "python",
   "name": "python3"
  },
  "language_info": {
   "codemirror_mode": {
    "name": "ipython",
    "version": 3
   },
   "file_extension": ".py",
   "mimetype": "text/x-python",
   "name": "python",
   "nbconvert_exporter": "python",
   "pygments_lexer": "ipython3",
   "version": "3.9.7"
  }
 },
 "nbformat": 4,
 "nbformat_minor": 2
}
