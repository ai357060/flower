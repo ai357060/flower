{
 "cells": [
  {
   "cell_type": "code",
   "execution_count": 1,
   "metadata": {},
   "outputs": [],
   "source": [
    "import os\n",
    "cwd = os.getcwd()\n",
    "if cwd[0:2] != \"C:\":\n",
    "    from google.colab import drive\n",
    "    drive.mount('/content/gdrive',force_remount=True)\n",
    "    %cd \"/content/gdrive/My Drive/Projects\"\n",
    "    !git clone https://github.com/ai357060/modelF.git\n",
    "    import sys\n",
    "    root_dir=\"/content/gdrive/My Drive/Projects/modelF\"\n",
    "    sys.path.append(root_dir)\n",
    "    %cd \"/content/gdrive/My Drive/Projects/modelF/wm\"\n",
    "    !git fetch --all\n",
    "    !git reset --hard origin/master"
   ]
  },
  {
   "cell_type": "code",
   "execution_count": 2,
   "metadata": {},
   "outputs": [],
   "source": [
    "import os\n",
    "cwd = os.getcwd()\n",
    "if cwd[0:2] != \"C:\":\n",
    "    from google.colab import drive\n",
    "    drive.mount('/content/gdrive',force_remount=True)\n",
    "    %cd \"/content/gdrive/My Drive/Projects\"\n",
    "#     !git clone https://github.com/ai357060/modelF.git\n",
    "    import sys\n",
    "    root_dir=\"/content/gdrive/My Drive/Projects/modelF\"\n",
    "    sys.path.append(root_dir)\n",
    "    %cd \"/content/gdrive/My Drive/Projects/modelF/wm\"\n",
    "#     !git pull"
   ]
  },
  {
   "cell_type": "code",
   "execution_count": 3,
   "metadata": {},
   "outputs": [],
   "source": [
    "import os\n",
    "import sys\n",
    "module_path = os.path.abspath(os.path.join('..'))\n",
    "if module_path not in sys.path:\n",
    "    sys.path.append(module_path)"
   ]
  },
  {
   "cell_type": "code",
   "execution_count": 4,
   "metadata": {},
   "outputs": [],
   "source": [
    "import pandas as pd\n",
    "import numpy as np\n",
    "import datetime as dt\n",
    "import importlib\n",
    "import tradestats\n",
    "import pandas as pd\n",
    "from datetime import datetime\n",
    "importlib.reload(tradestats)\n",
    "from tradestats import *"
   ]
  },
  {
   "cell_type": "code",
   "execution_count": 5,
   "metadata": {},
   "outputs": [],
   "source": [
    "prices = loaddata_1D('AUDUSD_Candlestick_1_D_BID_03.08.2003-24.10.2021.csv')\n",
    "# prices = loaddata_1D('EURUSD_Candlestick_1_D_BID_03.08.2003-24.10.2021.csv')"
   ]
  },
  {
   "cell_type": "code",
   "execution_count": 6,
   "metadata": {},
   "outputs": [
    {
     "data": {
      "text/plain": [
       "4753"
      ]
     },
     "execution_count": 6,
     "metadata": {},
     "output_type": "execute_result"
    }
   ],
   "source": [
    "len(prices)"
   ]
  },
  {
   "cell_type": "code",
   "execution_count": 7,
   "metadata": {},
   "outputs": [],
   "source": [
    "dictList = []\n",
    "colFeat = []\n",
    "keyList = []\n",
    "\n",
    "maKey  = [3,5,7,30,35,40,45,60,80,100,120,140,160]\n",
    "atrKey = [20]\n",
    "# srsKey = [0]\n",
    "rsiKey = [15]\n",
    "\n",
    "maDict   = ma3(prices, maKey,3,5,7)\n",
    "atrDict  = atr(prices, atrKey)\n",
    "# srsDict  = srs(prices, srsKey)\n",
    "rsiDict = rsi(prices,rsiKey)\n",
    "\n",
    "dictList.append(maDict.df); colFeat.append('ma'); keyList.append(maKey) \n",
    "dictList.append(atrDict.df); colFeat.append('atr'); keyList.append(atrKey) \n",
    "# dictList.append(srsDict.df); colFeat.append('srs'); keyList.append(srsKey) \n",
    "dictList.append(rsiDict.df); colFeat.append('rsi'); keyList.append(rsiKey) \n",
    "\n",
    "tt = [1]\n",
    "sl = [0.6,0.65,0.7,0.75,0.8,0.85,0.9]\n",
    "tp = [0.7,0.75,0.8,0.85,0.9]\n",
    "tsl = [0,0.3,0.5,0.7]\n",
    "atrperiod = 'atr20atr_prev'\n",
    "savetrades = False"
   ]
  },
  {
   "cell_type": "code",
   "execution_count": 8,
   "metadata": {},
   "outputs": [],
   "source": [
    "# prices.dropna(inplace=True)\n",
    "masterFrame = pd.DataFrame(index=prices.index)\n",
    "masterFrame[['id','year','month','day','date','weekday','open','high','low','close','volume']] = prices[['id','year','month','day','date','weekday','open','high','low','close','volume']]   "
   ]
  },
  {
   "cell_type": "code",
   "execution_count": 9,
   "metadata": {},
   "outputs": [
    {
     "name": "stderr",
     "output_type": "stream",
     "text": [
      "C:\\Users\\piotrek\\AppData\\Local\\Temp/ipykernel_1240/3922565144.py:5: PerformanceWarning: DataFrame is highly fragmented.  This is usually the result of calling `frame.insert` many times, which has poor performance.  Consider joining all columns at once using pd.concat(axis=1) instead.  To get a de-fragmented frame, use `newframe = frame.copy()`\n",
      "  masterFrame[colID] = dictList[i][j][k]\n"
     ]
    }
   ],
   "source": [
    "for i in range(0,len(dictList)):#iteracja po funkcjach\n",
    "    for j in keyList[i]: #iteracja po okresach\n",
    "        for k in list(dictList[i][j]): #iteracja po kolumnach danej funkcji w okresie\n",
    "            colID = colFeat[i] + str(j) + k\n",
    "            masterFrame[colID] = dictList[i][j][k]"
   ]
  },
  {
   "cell_type": "code",
   "execution_count": 10,
   "metadata": {},
   "outputs": [],
   "source": [
    "# masterFrame.to_csv(sep=';',path_or_buf='../Data/masterFrame.csv',date_format=\"%Y-%m-%d\",index = False,na_rep='')"
   ]
  },
  {
   "cell_type": "code",
   "execution_count": 11,
   "metadata": {
    "scrolled": true
   },
   "outputs": [],
   "source": [
    "masterFrame = masterFrame.dropna()"
   ]
  },
  {
   "cell_type": "code",
   "execution_count": 12,
   "metadata": {},
   "outputs": [
    {
     "name": "stdout",
     "output_type": "stream",
     "text": [
      "0.6 : 0.7 : 0 : -12  open: 0\n",
      "0.6 : 0.7 : 0.3 : -15  open: 1\n",
      "0.6 : 0.7 : 0.5 : -16  open: 1\n",
      "0.6 : 0.7 : 0.7 : -28  open: 1\n",
      "0.6 : 0.75 : 0 : -13  open: 1\n",
      "0.6 : 0.75 : 0.3 : -15  open: 1\n",
      "0.6 : 0.75 : 0.5 : -16  open: 1\n",
      "0.6 : 0.75 : 0.7 : -28  open: 1\n",
      "0.6 : 0.8 : 0 : -13  open: 1\n",
      "0.6 : 0.8 : 0.3 : -15  open: 2\n",
      "0.6 : 0.8 : 0.5 : -16  open: 2\n",
      "0.6 : 0.8 : 0.7 : -28  open: 2\n",
      "0.6 : 0.85 : 0 : -13  open: 1\n",
      "0.6 : 0.85 : 0.3 : -15  open: 2\n",
      "0.6 : 0.85 : 0.5 : -16  open: 2\n",
      "0.6 : 0.85 : 0.7 : -28  open: 2\n",
      "0.6 : 0.9 : 0 : -13  open: 1\n",
      "0.6 : 0.9 : 0.3 : -15  open: 2\n",
      "0.6 : 0.9 : 0.5 : -16  open: 2\n",
      "0.6 : 0.9 : 0.7 : -28  open: 2\n",
      "0.6 : 100 : 0 : -22  open: 1\n",
      "0.65 : 0.7 : 0 : -12  open: 0\n",
      "0.65 : 0.7 : 0.3 : -15  open: 1\n",
      "0.65 : 0.7 : 0.5 : -16  open: 1\n",
      "0.65 : 0.7 : 0.7 : -28  open: 1\n",
      "0.65 : 0.75 : 0 : -13  open: 1\n",
      "0.65 : 0.75 : 0.3 : -15  open: 1\n",
      "0.65 : 0.75 : 0.5 : -16  open: 1\n",
      "0.65 : 0.75 : 0.7 : -28  open: 1\n",
      "0.65 : 0.8 : 0 : -13  open: 1\n",
      "0.65 : 0.8 : 0.3 : -15  open: 2\n",
      "0.65 : 0.8 : 0.5 : -16  open: 2\n",
      "0.65 : 0.8 : 0.7 : -28  open: 2\n",
      "0.65 : 0.85 : 0 : -13  open: 1\n",
      "0.65 : 0.85 : 0.3 : -15  open: 2\n",
      "0.65 : 0.85 : 0.5 : -17  open: 2\n",
      "0.65 : 0.85 : 0.7 : -28  open: 2\n",
      "0.65 : 0.9 : 0 : -13  open: 1\n",
      "0.65 : 0.9 : 0.3 : -15  open: 2\n",
      "0.65 : 0.9 : 0.5 : -17  open: 2\n",
      "0.65 : 0.9 : 0.7 : -28  open: 2\n",
      "0.65 : 100 : 0 : -22  open: 1\n",
      "0.7 : 0.7 : 0 : -12  open: 0\n",
      "0.7 : 0.7 : 0.3 : -15  open: 1\n",
      "0.7 : 0.7 : 0.5 : -16  open: 1\n",
      "0.7 : 0.7 : 0.7 : -30  open: 1\n",
      "0.7 : 0.75 : 0 : -13  open: 1\n",
      "0.7 : 0.75 : 0.3 : -15  open: 1\n",
      "0.7 : 0.75 : 0.5 : -16  open: 1\n",
      "0.7 : 0.75 : 0.7 : -30  open: 1\n",
      "0.7 : 0.8 : 0 : -13  open: 1\n",
      "0.7 : 0.8 : 0.3 : -15  open: 2\n",
      "0.7 : 0.8 : 0.5 : -16  open: 2\n",
      "0.7 : 0.8 : 0.7 : -30  open: 2\n",
      "0.7 : 0.85 : 0 : -17  open: 1\n",
      "0.7 : 0.85 : 0.3 : -18  open: 2\n",
      "0.7 : 0.85 : 0.5 : -24  open: 2\n",
      "0.7 : 0.85 : 0.7 : -30  open: 2\n",
      "0.7 : 0.9 : 0 : -17  open: 1\n",
      "0.7 : 0.9 : 0.3 : -18  open: 2\n",
      "0.7 : 0.9 : 0.5 : -24  open: 2\n",
      "0.7 : 0.9 : 0.7 : -30  open: 2\n",
      "0.7 : 100 : 0 : -28  open: 1\n",
      "0.75 : 0.7 : 0 : -12  open: 0\n",
      "0.75 : 0.7 : 0.3 : -15  open: 1\n",
      "0.75 : 0.7 : 0.5 : -16  open: 1\n",
      "0.75 : 0.7 : 0.7 : -30  open: 1\n",
      "0.75 : 0.75 : 0 : -13  open: 1\n",
      "0.75 : 0.75 : 0.3 : -15  open: 1\n",
      "0.75 : 0.75 : 0.5 : -16  open: 1\n",
      "0.75 : 0.75 : 0.7 : -30  open: 1\n",
      "0.75 : 0.8 : 0 : -13  open: 1\n",
      "0.75 : 0.8 : 0.3 : -15  open: 2\n",
      "0.75 : 0.8 : 0.5 : -16  open: 2\n",
      "0.75 : 0.8 : 0.7 : -30  open: 2\n",
      "0.75 : 0.85 : 0 : -17  open: 1\n",
      "0.75 : 0.85 : 0.3 : -18  open: 2\n",
      "0.75 : 0.85 : 0.5 : -24  open: 2\n",
      "0.75 : 0.85 : 0.7 : -30  open: 2\n",
      "0.75 : 0.9 : 0 : -17  open: 1\n",
      "0.75 : 0.9 : 0.3 : -18  open: 2\n",
      "0.75 : 0.9 : 0.5 : -24  open: 2\n",
      "0.75 : 0.9 : 0.7 : -30  open: 2\n",
      "0.75 : 100 : 0 : -28  open: 1\n",
      "0.8 : 0.7 : 0 : -12  open: 0\n",
      "0.8 : 0.7 : 0.3 : -15  open: 1\n",
      "0.8 : 0.7 : 0.5 : -17  open: 1\n",
      "0.8 : 0.7 : 0.7 : -30  open: 1\n",
      "0.8 : 0.75 : 0 : -13  open: 1\n",
      "0.8 : 0.75 : 0.3 : -15  open: 1\n",
      "0.8 : 0.75 : 0.5 : -17  open: 1\n",
      "0.8 : 0.75 : 0.7 : -30  open: 1\n",
      "0.8 : 0.8 : 0 : -13  open: 1\n",
      "0.8 : 0.8 : 0.3 : -15  open: 2\n",
      "0.8 : 0.8 : 0.5 : -21  open: 2\n",
      "0.8 : 0.8 : 0.7 : -30  open: 2\n",
      "0.8 : 0.85 : 0 : -17  open: 1\n",
      "0.8 : 0.85 : 0.3 : -18  open: 2\n",
      "0.8 : 0.85 : 0.5 : -24  open: 2\n",
      "0.8 : 0.85 : 0.7 : -30  open: 2\n",
      "0.8 : 0.9 : 0 : -17  open: 1\n",
      "0.8 : 0.9 : 0.3 : -18  open: 2\n",
      "0.8 : 0.9 : 0.5 : -24  open: 2\n",
      "0.8 : 0.9 : 0.7 : -30  open: 2\n",
      "0.8 : 100 : 0 : -28  open: 1\n",
      "0.85 : 0.7 : 0 : -13  open: 0\n",
      "0.85 : 0.7 : 0.3 : -15  open: 1\n",
      "0.85 : 0.7 : 0.5 : -17  open: 1\n",
      "0.85 : 0.7 : 0.7 : -30  open: 1\n",
      "0.85 : 0.75 : 0 : -14  open: 1\n",
      "0.85 : 0.75 : 0.3 : -15  open: 1\n",
      "0.85 : 0.75 : 0.5 : -17  open: 1\n",
      "0.85 : 0.75 : 0.7 : -30  open: 1\n",
      "0.85 : 0.8 : 0 : -14  open: 1\n",
      "0.85 : 0.8 : 0.3 : -15  open: 2\n",
      "0.85 : 0.8 : 0.5 : -21  open: 2\n",
      "0.85 : 0.8 : 0.7 : -30  open: 2\n",
      "0.85 : 0.85 : 0 : -17  open: 1\n",
      "0.85 : 0.85 : 0.3 : -18  open: 2\n",
      "0.85 : 0.85 : 0.5 : -24  open: 2\n",
      "0.85 : 0.85 : 0.7 : -30  open: 2\n",
      "0.85 : 0.9 : 0 : -17  open: 1\n",
      "0.85 : 0.9 : 0.3 : -18  open: 2\n",
      "0.85 : 0.9 : 0.5 : -24  open: 2\n",
      "0.85 : 0.9 : 0.7 : -30  open: 2\n",
      "0.85 : 100 : 0 : -28  open: 1\n",
      "0.9 : 0.7 : 0 : -16  open: 0\n",
      "0.9 : 0.7 : 0.3 : -17  open: 1\n",
      "0.9 : 0.7 : 0.5 : -23  open: 1\n",
      "0.9 : 0.7 : 0.7 : -30  open: 1\n",
      "0.9 : 0.75 : 0 : -16  open: 1\n",
      "0.9 : 0.75 : 0.3 : -17  open: 1\n",
      "0.9 : 0.75 : 0.5 : -23  open: 1\n",
      "0.9 : 0.75 : 0.7 : -30  open: 1\n",
      "0.9 : 0.8 : 0 : -16  open: 1\n",
      "0.9 : 0.8 : 0.3 : -17  open: 2\n",
      "0.9 : 0.8 : 0.5 : -23  open: 2\n",
      "0.9 : 0.8 : 0.7 : -30  open: 2\n",
      "0.9 : 0.85 : 0 : -17  open: 1\n",
      "0.9 : 0.85 : 0.3 : -18  open: 2\n",
      "0.9 : 0.85 : 0.5 : -24  open: 2\n",
      "0.9 : 0.85 : 0.7 : -30  open: 2\n",
      "0.9 : 0.9 : 0 : -17  open: 1\n",
      "0.9 : 0.9 : 0.3 : -18  open: 2\n",
      "0.9 : 0.9 : 0.5 : -24  open: 2\n",
      "0.9 : 0.9 : 0.7 : -30  open: 2\n",
      "0.9 : 100 : 0 : -31  open: 1\n",
      "0:01:36.539070\n"
     ]
    }
   ],
   "source": [
    "starttime = datetime.now()\n",
    "# alltrades = preparetrades_brut_tsl(masterFrame,[1],[0.001,0.002,0.003,0.004,0.005,0.006],[0.001,0.002,0.003,0.004,0.005,0.006],[0.001,0.002,0.003,0.004,0.005,0.006],2015,2021)\n",
    "# alltrades = preparetrades_brut_tp(masterFrame,[1],[0.003,0.004,0.005,0.006,0.007,0.008,0.009,0.01],[0.003,0.004,0.005,0.006,0.007,0.008,0.009,0.01],2003,2021)\n",
    "# alltrades = preparetrades_brut_tp(masterFrame,[-1,1],[0.5],[0.9],2020,2021,atrperiod)\n",
    "# alltrades = preparetrades_brut_tp(masterFrame,[-1],[0.3,0.4,0.5,0.6,0.7,0.8,0.9],[0.6,0.7,0.8,0.9,1,1.1,1.2,1.3,1.4,1.5],2003,2021,atrperiod)\n",
    "# alltrades = preparetrades_brut_tp(masterFrame,[1],[1,1.2,1.4,1.6,1.8,2,2.2],[1.2,1.4,1.6,1.8,2,2.2,2.4,2.6,2.8,3,3.2],2003,2021,atrperiod)\n",
    "alltrades = preparetrades_brut_tsl(masterFrame,tt,sl,tp+[100],tsl,2003,2021,atrperiod)\n",
    "# alltrades = preparetrades_brut_tsl(masterFrame,[1],sl,tp,tsl,2003,2021,atrperiod)\n",
    "# alltrades = preparetrades_brut_tp(masterFrame,[-1],[0.003,0.004,0.005,0.006,0.007,0.008,0.009,0.01],[0.006,0.007,0.008,0.009,0.01,0.011,0.012,0.013,0.014,0.015],2003,2021,atrperiod)\n",
    "# alltrades = preparetrades_brut_tp(masterFrame,[-1],[0.003,0.004,0.005,0.006,0.007,0.008,0.01,0.012,0.014],[0.003,0.004,0.005,0.006,0.007,0.008,0.01,0.012,0.014],2003,2021,atrperiod)\n",
    "endtime = datetime.now()\n",
    "print(str(endtime - starttime))"
   ]
  },
  {
   "cell_type": "code",
   "execution_count": 13,
   "metadata": {},
   "outputs": [
    {
     "name": "stdout",
     "output_type": "stream",
     "text": [
      "trades_len:  675052\n"
     ]
    }
   ],
   "source": [
    "trades = cleartrades_brut(alltrades.copy(),savetrades)"
   ]
  },
  {
   "cell_type": "code",
   "execution_count": 14,
   "metadata": {},
   "outputs": [],
   "source": [
    "def runstats(alltrades,ma1,atrperiod,sl,tp,tsl,ma2 = 5,fxs=[]):\n",
    "    ma2=str(ma2)\n",
    "    stats = runstats_ma(alltrades,'ma'+ma1+'SMAdiffseq_prev', 'ma'+ma1+'SMAvs'+ma2+'_prev', 'ma'+ma2+'SMAdiffseq_prev', 'rsi15rsidiffseq_prev', 'rsi15rsi_prev', atrperiod,sl,tp,tsl,'x1',fxs)\n",
    "\n",
    "    return stats\n",
    "\n",
    "def runstats_ma(alltrades,a,sv,aa,aaa,bbb,atr='atr140atr_prev',sl=[],tp=[],tsl=[],ff='',fxs=[]):\n",
    "    conf   = {}\n",
    "    params = {}\n",
    "    \n",
    "    params['tradetype'] = [2,[1]]\n",
    "    params['sl'] =        [2,sl]\n",
    "    params['tp'] =        [2,tp]\n",
    "    params['tsl'] =       [2,tsl]\n",
    "    params[atr]  =        [3,[-1000],[0.015]]\n",
    "    params[a]    =        [1,[1,2,3,4]]\n",
    "    params[sv]    =       [0,[-1000,0,1000],[-1000,0,1000]]\n",
    "    params[aa]   =        [1,[1,2,3,4]]\n",
    "    params[aaa]    =      [0,[-1000,0,1000],[-1000,0,1000]]\n",
    "    params[bbb]    =      [0,[0,30,40,50,60,70],[30,40,50,60,70,100]]\n",
    "\n",
    "    conf['filename'] =    'ma_47_2003_2021_1_'+atr+'_'+sv+ff\n",
    "    if (fxs!=[]):\n",
    "        conf['fxs'] = fxs\n",
    "    print(conf['filename'])\n",
    "    stats = stathyperparams2(alltrades,params,conf)\n",
    "    return stats"
   ]
  },
  {
   "cell_type": "code",
   "execution_count": 15,
   "metadata": {},
   "outputs": [
    {
     "name": "stdout",
     "output_type": "stream",
     "text": [
      "ma_47_2003_2021_1_atr20atr_prev_ma35SMAvs3_prevx1\n",
      "allexecs:  5953500\n",
      "____progress:   0.44 %\n",
      "elapsed:        0:00:30.000663\n",
      "last run:       0:00:30.000663\n",
      "remaining:      1:54:20.244965\n",
      "estimated end:  2022-01-01 22:32:35.176376\n",
      "____progress:   0.87 %\n",
      "elapsed:        0:01:00.001596\n",
      "last run:       0:00:30.001937\n",
      "remaining:      1:53:34.098812\n",
      "estimated end:  2022-01-01 22:32:19.032160\n",
      "____progress:   1.31 %\n",
      "elapsed:        0:01:30.004544\n",
      "last run:       0:00:30.001944\n",
      "remaining:      1:52:58.004335\n",
      "estimated end:  2022-01-01 22:32:12.939627\n",
      "____progress:   1.75 %\n",
      "elapsed:        0:02:00.005790\n",
      "last run:       0:00:30.001246\n",
      "remaining:      1:52:23.281408\n",
      "estimated end:  2022-01-01 22:32:08.217946\n",
      "____progress:   2.18 %\n",
      "elapsed:        0:02:30.006681\n",
      "last run:       0:00:30.000891\n",
      "remaining:      1:52:12.375355\n",
      "estimated end:  2022-01-01 22:32:27.312784\n",
      "____progress:   2.62 %\n",
      "elapsed:        0:03:00.007811\n",
      "last run:       0:00:30.001130\n",
      "remaining:      1:51:42.817201\n",
      "estimated end:  2022-01-01 22:32:27.755760\n",
      "____progress:   3.05 %\n",
      "elapsed:        0:03:30.009772\n",
      "last run:       0:00:30.001961\n",
      "remaining:      1:51:09.333804\n",
      "estimated end:  2022-01-01 22:32:24.274324\n",
      "____progress:   3.49 %\n",
      "elapsed:        0:04:00.011010\n",
      "last run:       0:00:30.001238\n",
      "remaining:      1:50:36.041269\n",
      "estimated end:  2022-01-01 22:32:20.983027\n",
      "____progress:   3.92 %\n",
      "elapsed:        0:04:30.011870\n",
      "last run:       0:00:30.000860\n",
      "remaining:      1:50:17.756806\n",
      "estimated end:  2022-01-01 22:32:32.699424\n"
     ]
    },
    {
     "ename": "KeyboardInterrupt",
     "evalue": "",
     "output_type": "error",
     "traceback": [
      "\u001b[1;31m---------------------------------------------------------------------------\u001b[0m",
      "\u001b[1;31mKeyboardInterrupt\u001b[0m                         Traceback (most recent call last)",
      "\u001b[1;32m~\\AppData\\Local\\Temp/ipykernel_1240/1266953740.py\u001b[0m in \u001b[0;36m<module>\u001b[1;34m\u001b[0m\n\u001b[0;32m      1\u001b[0m \u001b[1;31m# runstats(alltrades,'30',atrperiod,sl,tp,tsl,5)\u001b[0m\u001b[1;33m\u001b[0m\u001b[1;33m\u001b[0m\u001b[0m\n\u001b[1;32m----> 2\u001b[1;33m \u001b[0mrunstats\u001b[0m\u001b[1;33m(\u001b[0m\u001b[0malltrades\u001b[0m\u001b[1;33m,\u001b[0m\u001b[1;34m'35'\u001b[0m\u001b[1;33m,\u001b[0m\u001b[0matrperiod\u001b[0m\u001b[1;33m,\u001b[0m\u001b[0msl\u001b[0m\u001b[1;33m,\u001b[0m\u001b[0mtp\u001b[0m\u001b[1;33m,\u001b[0m\u001b[0mtsl\u001b[0m\u001b[1;33m,\u001b[0m\u001b[1;36m3\u001b[0m\u001b[1;33m)\u001b[0m\u001b[1;33m\u001b[0m\u001b[1;33m\u001b[0m\u001b[0m\n\u001b[0m\u001b[0;32m      3\u001b[0m \u001b[1;31m# runstats(alltrades,'40',atrperiod,sl,tp,tsl,5)\u001b[0m\u001b[1;33m\u001b[0m\u001b[1;33m\u001b[0m\u001b[0m\n\u001b[0;32m      4\u001b[0m \u001b[1;31m# runstats(alltrades,'45',atrperiod,sl,tp,tsl,5)\u001b[0m\u001b[1;33m\u001b[0m\u001b[1;33m\u001b[0m\u001b[0m\n\u001b[0;32m      5\u001b[0m \u001b[1;31m# runstats(alltrades,'60',atrperiod,sl,tp,tsl,5)\u001b[0m\u001b[1;33m\u001b[0m\u001b[1;33m\u001b[0m\u001b[0m\n",
      "\u001b[1;32m~\\AppData\\Local\\Temp/ipykernel_1240/3690099298.py\u001b[0m in \u001b[0;36mrunstats\u001b[1;34m(alltrades, ma1, atrperiod, sl, tp, tsl, ma2, fxs)\u001b[0m\n\u001b[0;32m      1\u001b[0m \u001b[1;32mdef\u001b[0m \u001b[0mrunstats\u001b[0m\u001b[1;33m(\u001b[0m\u001b[0malltrades\u001b[0m\u001b[1;33m,\u001b[0m\u001b[0mma1\u001b[0m\u001b[1;33m,\u001b[0m\u001b[0matrperiod\u001b[0m\u001b[1;33m,\u001b[0m\u001b[0msl\u001b[0m\u001b[1;33m,\u001b[0m\u001b[0mtp\u001b[0m\u001b[1;33m,\u001b[0m\u001b[0mtsl\u001b[0m\u001b[1;33m,\u001b[0m\u001b[0mma2\u001b[0m \u001b[1;33m=\u001b[0m \u001b[1;36m5\u001b[0m\u001b[1;33m,\u001b[0m\u001b[0mfxs\u001b[0m\u001b[1;33m=\u001b[0m\u001b[1;33m[\u001b[0m\u001b[1;33m]\u001b[0m\u001b[1;33m)\u001b[0m\u001b[1;33m:\u001b[0m\u001b[1;33m\u001b[0m\u001b[1;33m\u001b[0m\u001b[0m\n\u001b[0;32m      2\u001b[0m     \u001b[0mma2\u001b[0m\u001b[1;33m=\u001b[0m\u001b[0mstr\u001b[0m\u001b[1;33m(\u001b[0m\u001b[0mma2\u001b[0m\u001b[1;33m)\u001b[0m\u001b[1;33m\u001b[0m\u001b[1;33m\u001b[0m\u001b[0m\n\u001b[1;32m----> 3\u001b[1;33m     \u001b[0mstats\u001b[0m \u001b[1;33m=\u001b[0m \u001b[0mrunstats_ma\u001b[0m\u001b[1;33m(\u001b[0m\u001b[0malltrades\u001b[0m\u001b[1;33m,\u001b[0m\u001b[1;34m'ma'\u001b[0m\u001b[1;33m+\u001b[0m\u001b[0mma1\u001b[0m\u001b[1;33m+\u001b[0m\u001b[1;34m'SMAdiffseq_prev'\u001b[0m\u001b[1;33m,\u001b[0m \u001b[1;34m'ma'\u001b[0m\u001b[1;33m+\u001b[0m\u001b[0mma1\u001b[0m\u001b[1;33m+\u001b[0m\u001b[1;34m'SMAvs'\u001b[0m\u001b[1;33m+\u001b[0m\u001b[0mma2\u001b[0m\u001b[1;33m+\u001b[0m\u001b[1;34m'_prev'\u001b[0m\u001b[1;33m,\u001b[0m \u001b[1;34m'ma'\u001b[0m\u001b[1;33m+\u001b[0m\u001b[0mma2\u001b[0m\u001b[1;33m+\u001b[0m\u001b[1;34m'SMAdiffseq_prev'\u001b[0m\u001b[1;33m,\u001b[0m \u001b[1;34m'rsi15rsidiffseq_prev'\u001b[0m\u001b[1;33m,\u001b[0m \u001b[1;34m'rsi15rsi_prev'\u001b[0m\u001b[1;33m,\u001b[0m \u001b[0matrperiod\u001b[0m\u001b[1;33m,\u001b[0m\u001b[0msl\u001b[0m\u001b[1;33m,\u001b[0m\u001b[0mtp\u001b[0m\u001b[1;33m,\u001b[0m\u001b[0mtsl\u001b[0m\u001b[1;33m,\u001b[0m\u001b[1;34m'x1'\u001b[0m\u001b[1;33m,\u001b[0m\u001b[0mfxs\u001b[0m\u001b[1;33m)\u001b[0m\u001b[1;33m\u001b[0m\u001b[1;33m\u001b[0m\u001b[0m\n\u001b[0m\u001b[0;32m      4\u001b[0m \u001b[1;33m\u001b[0m\u001b[0m\n\u001b[0;32m      5\u001b[0m     \u001b[1;32mreturn\u001b[0m \u001b[0mstats\u001b[0m\u001b[1;33m\u001b[0m\u001b[1;33m\u001b[0m\u001b[0m\n",
      "\u001b[1;32m~\\AppData\\Local\\Temp/ipykernel_1240/3690099298.py\u001b[0m in \u001b[0;36mrunstats_ma\u001b[1;34m(alltrades, a, sv, aa, aaa, bbb, atr, sl, tp, tsl, ff, fxs)\u001b[0m\n\u001b[0;32m     24\u001b[0m         \u001b[0mconf\u001b[0m\u001b[1;33m[\u001b[0m\u001b[1;34m'fxs'\u001b[0m\u001b[1;33m]\u001b[0m \u001b[1;33m=\u001b[0m \u001b[0mfxs\u001b[0m\u001b[1;33m\u001b[0m\u001b[1;33m\u001b[0m\u001b[0m\n\u001b[0;32m     25\u001b[0m     \u001b[0mprint\u001b[0m\u001b[1;33m(\u001b[0m\u001b[0mconf\u001b[0m\u001b[1;33m[\u001b[0m\u001b[1;34m'filename'\u001b[0m\u001b[1;33m]\u001b[0m\u001b[1;33m)\u001b[0m\u001b[1;33m\u001b[0m\u001b[1;33m\u001b[0m\u001b[0m\n\u001b[1;32m---> 26\u001b[1;33m     \u001b[0mstats\u001b[0m \u001b[1;33m=\u001b[0m \u001b[0mstathyperparams2\u001b[0m\u001b[1;33m(\u001b[0m\u001b[0malltrades\u001b[0m\u001b[1;33m,\u001b[0m\u001b[0mparams\u001b[0m\u001b[1;33m,\u001b[0m\u001b[0mconf\u001b[0m\u001b[1;33m)\u001b[0m\u001b[1;33m\u001b[0m\u001b[1;33m\u001b[0m\u001b[0m\n\u001b[0m\u001b[0;32m     27\u001b[0m     \u001b[1;32mreturn\u001b[0m \u001b[0mstats\u001b[0m\u001b[1;33m\u001b[0m\u001b[1;33m\u001b[0m\u001b[0m\n",
      "\u001b[1;32m~\\notebooks\\wm\\tradestats.py\u001b[0m in \u001b[0;36mstathyperparams2\u001b[1;34m(trades, params, conf)\u001b[0m\n\u001b[0;32m   1301\u001b[0m     \u001b[0mfx\u001b[0m \u001b[1;33m=\u001b[0m \u001b[1;33m{\u001b[0m\u001b[1;33m}\u001b[0m\u001b[1;33m\u001b[0m\u001b[1;33m\u001b[0m\u001b[0m\n\u001b[0;32m   1302\u001b[0m     \u001b[0mstats\u001b[0m \u001b[1;33m=\u001b[0m \u001b[1;33m[\u001b[0m\u001b[1;33m]\u001b[0m\u001b[1;33m\u001b[0m\u001b[1;33m\u001b[0m\u001b[0m\n\u001b[1;32m-> 1303\u001b[1;33m     \u001b[0mstats\u001b[0m \u001b[1;33m=\u001b[0m \u001b[0mexecstats2_r\u001b[0m\u001b[1;33m(\u001b[0m\u001b[0mtrades\u001b[0m\u001b[1;33m,\u001b[0m\u001b[0mstats\u001b[0m\u001b[1;33m,\u001b[0m\u001b[0mparams\u001b[0m\u001b[1;33m,\u001b[0m\u001b[0mseq\u001b[0m\u001b[1;33m,\u001b[0m\u001b[0mfx\u001b[0m\u001b[1;33m)\u001b[0m\u001b[1;33m\u001b[0m\u001b[1;33m\u001b[0m\u001b[0m\n\u001b[0m\u001b[0;32m   1304\u001b[0m     \u001b[0mstats\u001b[0m \u001b[1;33m=\u001b[0m \u001b[0mpd\u001b[0m\u001b[1;33m.\u001b[0m\u001b[0mDataFrame\u001b[0m\u001b[1;33m(\u001b[0m\u001b[0mstats\u001b[0m\u001b[1;33m)\u001b[0m\u001b[1;33m\u001b[0m\u001b[1;33m\u001b[0m\u001b[0m\n\u001b[0;32m   1305\u001b[0m \u001b[1;33m\u001b[0m\u001b[0m\n",
      "\u001b[1;32m~\\notebooks\\wm\\tradestats.py\u001b[0m in \u001b[0;36mexecstats2_r\u001b[1;34m(trades, stats, params, seq, fx, cursor)\u001b[0m\n\u001b[0;32m   1389\u001b[0m                 \u001b[1;32melse\u001b[0m\u001b[1;33m:\u001b[0m\u001b[1;33m\u001b[0m\u001b[1;33m\u001b[0m\u001b[0m\n\u001b[0;32m   1390\u001b[0m                     \u001b[0mtrades1\u001b[0m \u001b[1;33m=\u001b[0m \u001b[0mtrades\u001b[0m\u001b[1;33m\u001b[0m\u001b[1;33m\u001b[0m\u001b[0m\n\u001b[1;32m-> 1391\u001b[1;33m                 \u001b[0mstats\u001b[0m \u001b[1;33m=\u001b[0m \u001b[0mexecstats2_r\u001b[0m\u001b[1;33m(\u001b[0m\u001b[0mtrades1\u001b[0m\u001b[1;33m,\u001b[0m\u001b[0mstats\u001b[0m\u001b[1;33m,\u001b[0m\u001b[0mparams\u001b[0m\u001b[1;33m,\u001b[0m\u001b[0mseq\u001b[0m\u001b[1;33m,\u001b[0m\u001b[0mfx\u001b[0m\u001b[1;33m,\u001b[0m\u001b[0mcursor\u001b[0m\u001b[1;33m+\u001b[0m\u001b[1;36m1\u001b[0m\u001b[1;33m)\u001b[0m\u001b[1;33m\u001b[0m\u001b[1;33m\u001b[0m\u001b[0m\n\u001b[0m\u001b[0;32m   1392\u001b[0m         \u001b[1;32melif\u001b[0m \u001b[1;33m(\u001b[0m\u001b[0mimode\u001b[0m \u001b[1;33m==\u001b[0m \u001b[1;36m3\u001b[0m\u001b[1;33m)\u001b[0m\u001b[1;33m:\u001b[0m\u001b[1;33m\u001b[0m\u001b[1;33m\u001b[0m\u001b[0m\n\u001b[0;32m   1393\u001b[0m             \u001b[1;32mfor\u001b[0m \u001b[0mii\u001b[0m \u001b[1;32min\u001b[0m \u001b[0mrange\u001b[0m\u001b[1;33m(\u001b[0m\u001b[1;36m0\u001b[0m\u001b[1;33m,\u001b[0m \u001b[0mlen\u001b[0m\u001b[1;33m(\u001b[0m\u001b[0mparams\u001b[0m\u001b[1;33m[\u001b[0m\u001b[0mkey\u001b[0m\u001b[1;33m]\u001b[0m\u001b[1;33m[\u001b[0m\u001b[1;36m1\u001b[0m\u001b[1;33m]\u001b[0m\u001b[1;33m)\u001b[0m\u001b[1;33m)\u001b[0m\u001b[1;33m:\u001b[0m\u001b[1;33m\u001b[0m\u001b[1;33m\u001b[0m\u001b[0m\n",
      "\u001b[1;32m~\\notebooks\\wm\\tradestats.py\u001b[0m in \u001b[0;36mexecstats2_r\u001b[1;34m(trades, stats, params, seq, fx, cursor)\u001b[0m\n\u001b[0;32m   1389\u001b[0m                 \u001b[1;32melse\u001b[0m\u001b[1;33m:\u001b[0m\u001b[1;33m\u001b[0m\u001b[1;33m\u001b[0m\u001b[0m\n\u001b[0;32m   1390\u001b[0m                     \u001b[0mtrades1\u001b[0m \u001b[1;33m=\u001b[0m \u001b[0mtrades\u001b[0m\u001b[1;33m\u001b[0m\u001b[1;33m\u001b[0m\u001b[0m\n\u001b[1;32m-> 1391\u001b[1;33m                 \u001b[0mstats\u001b[0m \u001b[1;33m=\u001b[0m \u001b[0mexecstats2_r\u001b[0m\u001b[1;33m(\u001b[0m\u001b[0mtrades1\u001b[0m\u001b[1;33m,\u001b[0m\u001b[0mstats\u001b[0m\u001b[1;33m,\u001b[0m\u001b[0mparams\u001b[0m\u001b[1;33m,\u001b[0m\u001b[0mseq\u001b[0m\u001b[1;33m,\u001b[0m\u001b[0mfx\u001b[0m\u001b[1;33m,\u001b[0m\u001b[0mcursor\u001b[0m\u001b[1;33m+\u001b[0m\u001b[1;36m1\u001b[0m\u001b[1;33m)\u001b[0m\u001b[1;33m\u001b[0m\u001b[1;33m\u001b[0m\u001b[0m\n\u001b[0m\u001b[0;32m   1392\u001b[0m         \u001b[1;32melif\u001b[0m \u001b[1;33m(\u001b[0m\u001b[0mimode\u001b[0m \u001b[1;33m==\u001b[0m \u001b[1;36m3\u001b[0m\u001b[1;33m)\u001b[0m\u001b[1;33m:\u001b[0m\u001b[1;33m\u001b[0m\u001b[1;33m\u001b[0m\u001b[0m\n\u001b[0;32m   1393\u001b[0m             \u001b[1;32mfor\u001b[0m \u001b[0mii\u001b[0m \u001b[1;32min\u001b[0m \u001b[0mrange\u001b[0m\u001b[1;33m(\u001b[0m\u001b[1;36m0\u001b[0m\u001b[1;33m,\u001b[0m \u001b[0mlen\u001b[0m\u001b[1;33m(\u001b[0m\u001b[0mparams\u001b[0m\u001b[1;33m[\u001b[0m\u001b[0mkey\u001b[0m\u001b[1;33m]\u001b[0m\u001b[1;33m[\u001b[0m\u001b[1;36m1\u001b[0m\u001b[1;33m]\u001b[0m\u001b[1;33m)\u001b[0m\u001b[1;33m)\u001b[0m\u001b[1;33m:\u001b[0m\u001b[1;33m\u001b[0m\u001b[1;33m\u001b[0m\u001b[0m\n",
      "\u001b[1;32m~\\notebooks\\wm\\tradestats.py\u001b[0m in \u001b[0;36mexecstats2_r\u001b[1;34m(trades, stats, params, seq, fx, cursor)\u001b[0m\n\u001b[0;32m   1389\u001b[0m                 \u001b[1;32melse\u001b[0m\u001b[1;33m:\u001b[0m\u001b[1;33m\u001b[0m\u001b[1;33m\u001b[0m\u001b[0m\n\u001b[0;32m   1390\u001b[0m                     \u001b[0mtrades1\u001b[0m \u001b[1;33m=\u001b[0m \u001b[0mtrades\u001b[0m\u001b[1;33m\u001b[0m\u001b[1;33m\u001b[0m\u001b[0m\n\u001b[1;32m-> 1391\u001b[1;33m                 \u001b[0mstats\u001b[0m \u001b[1;33m=\u001b[0m \u001b[0mexecstats2_r\u001b[0m\u001b[1;33m(\u001b[0m\u001b[0mtrades1\u001b[0m\u001b[1;33m,\u001b[0m\u001b[0mstats\u001b[0m\u001b[1;33m,\u001b[0m\u001b[0mparams\u001b[0m\u001b[1;33m,\u001b[0m\u001b[0mseq\u001b[0m\u001b[1;33m,\u001b[0m\u001b[0mfx\u001b[0m\u001b[1;33m,\u001b[0m\u001b[0mcursor\u001b[0m\u001b[1;33m+\u001b[0m\u001b[1;36m1\u001b[0m\u001b[1;33m)\u001b[0m\u001b[1;33m\u001b[0m\u001b[1;33m\u001b[0m\u001b[0m\n\u001b[0m\u001b[0;32m   1392\u001b[0m         \u001b[1;32melif\u001b[0m \u001b[1;33m(\u001b[0m\u001b[0mimode\u001b[0m \u001b[1;33m==\u001b[0m \u001b[1;36m3\u001b[0m\u001b[1;33m)\u001b[0m\u001b[1;33m:\u001b[0m\u001b[1;33m\u001b[0m\u001b[1;33m\u001b[0m\u001b[0m\n\u001b[0;32m   1393\u001b[0m             \u001b[1;32mfor\u001b[0m \u001b[0mii\u001b[0m \u001b[1;32min\u001b[0m \u001b[0mrange\u001b[0m\u001b[1;33m(\u001b[0m\u001b[1;36m0\u001b[0m\u001b[1;33m,\u001b[0m \u001b[0mlen\u001b[0m\u001b[1;33m(\u001b[0m\u001b[0mparams\u001b[0m\u001b[1;33m[\u001b[0m\u001b[0mkey\u001b[0m\u001b[1;33m]\u001b[0m\u001b[1;33m[\u001b[0m\u001b[1;36m1\u001b[0m\u001b[1;33m]\u001b[0m\u001b[1;33m)\u001b[0m\u001b[1;33m)\u001b[0m\u001b[1;33m:\u001b[0m\u001b[1;33m\u001b[0m\u001b[1;33m\u001b[0m\u001b[0m\n",
      "\u001b[1;32m~\\notebooks\\wm\\tradestats.py\u001b[0m in \u001b[0;36mexecstats2_r\u001b[1;34m(trades, stats, params, seq, fx, cursor)\u001b[0m\n\u001b[0;32m   1389\u001b[0m                 \u001b[1;32melse\u001b[0m\u001b[1;33m:\u001b[0m\u001b[1;33m\u001b[0m\u001b[1;33m\u001b[0m\u001b[0m\n\u001b[0;32m   1390\u001b[0m                     \u001b[0mtrades1\u001b[0m \u001b[1;33m=\u001b[0m \u001b[0mtrades\u001b[0m\u001b[1;33m\u001b[0m\u001b[1;33m\u001b[0m\u001b[0m\n\u001b[1;32m-> 1391\u001b[1;33m                 \u001b[0mstats\u001b[0m \u001b[1;33m=\u001b[0m \u001b[0mexecstats2_r\u001b[0m\u001b[1;33m(\u001b[0m\u001b[0mtrades1\u001b[0m\u001b[1;33m,\u001b[0m\u001b[0mstats\u001b[0m\u001b[1;33m,\u001b[0m\u001b[0mparams\u001b[0m\u001b[1;33m,\u001b[0m\u001b[0mseq\u001b[0m\u001b[1;33m,\u001b[0m\u001b[0mfx\u001b[0m\u001b[1;33m,\u001b[0m\u001b[0mcursor\u001b[0m\u001b[1;33m+\u001b[0m\u001b[1;36m1\u001b[0m\u001b[1;33m)\u001b[0m\u001b[1;33m\u001b[0m\u001b[1;33m\u001b[0m\u001b[0m\n\u001b[0m\u001b[0;32m   1392\u001b[0m         \u001b[1;32melif\u001b[0m \u001b[1;33m(\u001b[0m\u001b[0mimode\u001b[0m \u001b[1;33m==\u001b[0m \u001b[1;36m3\u001b[0m\u001b[1;33m)\u001b[0m\u001b[1;33m:\u001b[0m\u001b[1;33m\u001b[0m\u001b[1;33m\u001b[0m\u001b[0m\n\u001b[0;32m   1393\u001b[0m             \u001b[1;32mfor\u001b[0m \u001b[0mii\u001b[0m \u001b[1;32min\u001b[0m \u001b[0mrange\u001b[0m\u001b[1;33m(\u001b[0m\u001b[1;36m0\u001b[0m\u001b[1;33m,\u001b[0m \u001b[0mlen\u001b[0m\u001b[1;33m(\u001b[0m\u001b[0mparams\u001b[0m\u001b[1;33m[\u001b[0m\u001b[0mkey\u001b[0m\u001b[1;33m]\u001b[0m\u001b[1;33m[\u001b[0m\u001b[1;36m1\u001b[0m\u001b[1;33m]\u001b[0m\u001b[1;33m)\u001b[0m\u001b[1;33m)\u001b[0m\u001b[1;33m:\u001b[0m\u001b[1;33m\u001b[0m\u001b[1;33m\u001b[0m\u001b[0m\n",
      "\u001b[1;32m~\\notebooks\\wm\\tradestats.py\u001b[0m in \u001b[0;36mexecstats2_r\u001b[1;34m(trades, stats, params, seq, fx, cursor)\u001b[0m\n\u001b[0;32m   1401\u001b[0m                     \u001b[1;32melse\u001b[0m\u001b[1;33m:\u001b[0m\u001b[1;33m\u001b[0m\u001b[1;33m\u001b[0m\u001b[0m\n\u001b[0;32m   1402\u001b[0m                         \u001b[0mtrades1\u001b[0m \u001b[1;33m=\u001b[0m \u001b[0mtrades\u001b[0m\u001b[1;33m\u001b[0m\u001b[1;33m\u001b[0m\u001b[0m\n\u001b[1;32m-> 1403\u001b[1;33m                     \u001b[0mstats\u001b[0m \u001b[1;33m=\u001b[0m \u001b[0mexecstats2_r\u001b[0m\u001b[1;33m(\u001b[0m\u001b[0mtrades1\u001b[0m\u001b[1;33m,\u001b[0m\u001b[0mstats\u001b[0m\u001b[1;33m,\u001b[0m\u001b[0mparams\u001b[0m\u001b[1;33m,\u001b[0m\u001b[0mseq\u001b[0m\u001b[1;33m,\u001b[0m\u001b[0mfx\u001b[0m\u001b[1;33m,\u001b[0m\u001b[0mcursor\u001b[0m\u001b[1;33m+\u001b[0m\u001b[1;36m1\u001b[0m\u001b[1;33m)\u001b[0m\u001b[1;33m\u001b[0m\u001b[1;33m\u001b[0m\u001b[0m\n\u001b[0m\u001b[0;32m   1404\u001b[0m \u001b[1;33m\u001b[0m\u001b[0m\n\u001b[0;32m   1405\u001b[0m     \u001b[1;32melse\u001b[0m\u001b[1;33m:\u001b[0m\u001b[1;33m\u001b[0m\u001b[1;33m\u001b[0m\u001b[0m\n",
      "\u001b[1;32m~\\notebooks\\wm\\tradestats.py\u001b[0m in \u001b[0;36mexecstats2_r\u001b[1;34m(trades, stats, params, seq, fx, cursor)\u001b[0m\n\u001b[0;32m   1380\u001b[0m                 \u001b[1;32melse\u001b[0m\u001b[1;33m:\u001b[0m\u001b[1;33m\u001b[0m\u001b[1;33m\u001b[0m\u001b[0m\n\u001b[0;32m   1381\u001b[0m                     \u001b[0mtrades1\u001b[0m \u001b[1;33m=\u001b[0m \u001b[0mtrades\u001b[0m\u001b[1;33m\u001b[0m\u001b[1;33m\u001b[0m\u001b[0m\n\u001b[1;32m-> 1382\u001b[1;33m                 \u001b[0mstats\u001b[0m \u001b[1;33m=\u001b[0m \u001b[0mexecstats2_r\u001b[0m\u001b[1;33m(\u001b[0m\u001b[0mtrades1\u001b[0m\u001b[1;33m,\u001b[0m\u001b[0mstats\u001b[0m\u001b[1;33m,\u001b[0m\u001b[0mparams\u001b[0m\u001b[1;33m,\u001b[0m\u001b[0mseq\u001b[0m\u001b[1;33m,\u001b[0m\u001b[0mfx\u001b[0m\u001b[1;33m,\u001b[0m\u001b[0mcursor\u001b[0m\u001b[1;33m+\u001b[0m\u001b[1;36m1\u001b[0m\u001b[1;33m)\u001b[0m\u001b[1;33m\u001b[0m\u001b[1;33m\u001b[0m\u001b[0m\n\u001b[0m\u001b[0;32m   1383\u001b[0m         \u001b[1;32melif\u001b[0m \u001b[1;33m(\u001b[0m\u001b[0mimode\u001b[0m \u001b[1;33m==\u001b[0m \u001b[1;36m2\u001b[0m\u001b[1;33m)\u001b[0m\u001b[1;33m:\u001b[0m\u001b[1;33m\u001b[0m\u001b[1;33m\u001b[0m\u001b[0m\n\u001b[0;32m   1384\u001b[0m             \u001b[1;32mfor\u001b[0m \u001b[0mifrom\u001b[0m \u001b[1;32min\u001b[0m \u001b[0mparams\u001b[0m\u001b[1;33m[\u001b[0m\u001b[0mkey\u001b[0m\u001b[1;33m]\u001b[0m\u001b[1;33m[\u001b[0m\u001b[1;36m1\u001b[0m\u001b[1;33m]\u001b[0m\u001b[1;33m:\u001b[0m\u001b[1;33m\u001b[0m\u001b[1;33m\u001b[0m\u001b[0m\n",
      "\u001b[1;32m~\\notebooks\\wm\\tradestats.py\u001b[0m in \u001b[0;36mexecstats2_r\u001b[1;34m(trades, stats, params, seq, fx, cursor)\u001b[0m\n\u001b[0;32m   1366\u001b[0m                         \u001b[1;32melse\u001b[0m\u001b[1;33m:\u001b[0m\u001b[1;33m\u001b[0m\u001b[1;33m\u001b[0m\u001b[0m\n\u001b[0;32m   1367\u001b[0m                             \u001b[0mtrades1\u001b[0m \u001b[1;33m=\u001b[0m \u001b[0mtrades\u001b[0m\u001b[1;33m\u001b[0m\u001b[1;33m\u001b[0m\u001b[0m\n\u001b[1;32m-> 1368\u001b[1;33m                         \u001b[0mstats\u001b[0m \u001b[1;33m=\u001b[0m \u001b[0mexecstats2_r\u001b[0m\u001b[1;33m(\u001b[0m\u001b[0mtrades1\u001b[0m\u001b[1;33m,\u001b[0m\u001b[0mstats\u001b[0m\u001b[1;33m,\u001b[0m\u001b[0mparams\u001b[0m\u001b[1;33m,\u001b[0m\u001b[0mseq\u001b[0m\u001b[1;33m,\u001b[0m\u001b[0mfx\u001b[0m\u001b[1;33m,\u001b[0m\u001b[0mcursor\u001b[0m\u001b[1;33m+\u001b[0m\u001b[1;36m1\u001b[0m\u001b[1;33m)\u001b[0m\u001b[1;33m\u001b[0m\u001b[1;33m\u001b[0m\u001b[0m\n\u001b[0m\u001b[0;32m   1369\u001b[0m         \u001b[1;32melif\u001b[0m \u001b[1;33m(\u001b[0m\u001b[0mimode\u001b[0m \u001b[1;33m==\u001b[0m \u001b[1;36m1\u001b[0m\u001b[1;33m)\u001b[0m\u001b[1;33m:\u001b[0m\u001b[1;33m\u001b[0m\u001b[1;33m\u001b[0m\u001b[0m\n\u001b[0;32m   1370\u001b[0m             \u001b[0mfroms\u001b[0m \u001b[1;33m=\u001b[0m \u001b[0mparams\u001b[0m\u001b[1;33m[\u001b[0m\u001b[0mkey\u001b[0m\u001b[1;33m]\u001b[0m\u001b[1;33m[\u001b[0m\u001b[1;36m1\u001b[0m\u001b[1;33m]\u001b[0m\u001b[1;33m\u001b[0m\u001b[1;33m\u001b[0m\u001b[0m\n",
      "\u001b[1;32m~\\notebooks\\wm\\tradestats.py\u001b[0m in \u001b[0;36mexecstats2_r\u001b[1;34m(trades, stats, params, seq, fx, cursor)\u001b[0m\n\u001b[0;32m   1380\u001b[0m                 \u001b[1;32melse\u001b[0m\u001b[1;33m:\u001b[0m\u001b[1;33m\u001b[0m\u001b[1;33m\u001b[0m\u001b[0m\n\u001b[0;32m   1381\u001b[0m                     \u001b[0mtrades1\u001b[0m \u001b[1;33m=\u001b[0m \u001b[0mtrades\u001b[0m\u001b[1;33m\u001b[0m\u001b[1;33m\u001b[0m\u001b[0m\n\u001b[1;32m-> 1382\u001b[1;33m                 \u001b[0mstats\u001b[0m \u001b[1;33m=\u001b[0m \u001b[0mexecstats2_r\u001b[0m\u001b[1;33m(\u001b[0m\u001b[0mtrades1\u001b[0m\u001b[1;33m,\u001b[0m\u001b[0mstats\u001b[0m\u001b[1;33m,\u001b[0m\u001b[0mparams\u001b[0m\u001b[1;33m,\u001b[0m\u001b[0mseq\u001b[0m\u001b[1;33m,\u001b[0m\u001b[0mfx\u001b[0m\u001b[1;33m,\u001b[0m\u001b[0mcursor\u001b[0m\u001b[1;33m+\u001b[0m\u001b[1;36m1\u001b[0m\u001b[1;33m)\u001b[0m\u001b[1;33m\u001b[0m\u001b[1;33m\u001b[0m\u001b[0m\n\u001b[0m\u001b[0;32m   1383\u001b[0m         \u001b[1;32melif\u001b[0m \u001b[1;33m(\u001b[0m\u001b[0mimode\u001b[0m \u001b[1;33m==\u001b[0m \u001b[1;36m2\u001b[0m\u001b[1;33m)\u001b[0m\u001b[1;33m:\u001b[0m\u001b[1;33m\u001b[0m\u001b[1;33m\u001b[0m\u001b[0m\n\u001b[0;32m   1384\u001b[0m             \u001b[1;32mfor\u001b[0m \u001b[0mifrom\u001b[0m \u001b[1;32min\u001b[0m \u001b[0mparams\u001b[0m\u001b[1;33m[\u001b[0m\u001b[0mkey\u001b[0m\u001b[1;33m]\u001b[0m\u001b[1;33m[\u001b[0m\u001b[1;36m1\u001b[0m\u001b[1;33m]\u001b[0m\u001b[1;33m:\u001b[0m\u001b[1;33m\u001b[0m\u001b[1;33m\u001b[0m\u001b[0m\n",
      "\u001b[1;32m~\\notebooks\\wm\\tradestats.py\u001b[0m in \u001b[0;36mexecstats2_r\u001b[1;34m(trades, stats, params, seq, fx, cursor)\u001b[0m\n\u001b[0;32m   1366\u001b[0m                         \u001b[1;32melse\u001b[0m\u001b[1;33m:\u001b[0m\u001b[1;33m\u001b[0m\u001b[1;33m\u001b[0m\u001b[0m\n\u001b[0;32m   1367\u001b[0m                             \u001b[0mtrades1\u001b[0m \u001b[1;33m=\u001b[0m \u001b[0mtrades\u001b[0m\u001b[1;33m\u001b[0m\u001b[1;33m\u001b[0m\u001b[0m\n\u001b[1;32m-> 1368\u001b[1;33m                         \u001b[0mstats\u001b[0m \u001b[1;33m=\u001b[0m \u001b[0mexecstats2_r\u001b[0m\u001b[1;33m(\u001b[0m\u001b[0mtrades1\u001b[0m\u001b[1;33m,\u001b[0m\u001b[0mstats\u001b[0m\u001b[1;33m,\u001b[0m\u001b[0mparams\u001b[0m\u001b[1;33m,\u001b[0m\u001b[0mseq\u001b[0m\u001b[1;33m,\u001b[0m\u001b[0mfx\u001b[0m\u001b[1;33m,\u001b[0m\u001b[0mcursor\u001b[0m\u001b[1;33m+\u001b[0m\u001b[1;36m1\u001b[0m\u001b[1;33m)\u001b[0m\u001b[1;33m\u001b[0m\u001b[1;33m\u001b[0m\u001b[0m\n\u001b[0m\u001b[0;32m   1369\u001b[0m         \u001b[1;32melif\u001b[0m \u001b[1;33m(\u001b[0m\u001b[0mimode\u001b[0m \u001b[1;33m==\u001b[0m \u001b[1;36m1\u001b[0m\u001b[1;33m)\u001b[0m\u001b[1;33m:\u001b[0m\u001b[1;33m\u001b[0m\u001b[1;33m\u001b[0m\u001b[0m\n\u001b[0;32m   1370\u001b[0m             \u001b[0mfroms\u001b[0m \u001b[1;33m=\u001b[0m \u001b[0mparams\u001b[0m\u001b[1;33m[\u001b[0m\u001b[0mkey\u001b[0m\u001b[1;33m]\u001b[0m\u001b[1;33m[\u001b[0m\u001b[1;36m1\u001b[0m\u001b[1;33m]\u001b[0m\u001b[1;33m\u001b[0m\u001b[1;33m\u001b[0m\u001b[0m\n",
      "\u001b[1;32m~\\notebooks\\wm\\tradestats.py\u001b[0m in \u001b[0;36mexecstats2_r\u001b[1;34m(trades, stats, params, seq, fx, cursor)\u001b[0m\n\u001b[0;32m   1363\u001b[0m                         \u001b[1;32mif\u001b[0m \u001b[1;33m(\u001b[0m\u001b[1;32mnot\u001b[0m \u001b[0mseq\u001b[0m\u001b[1;33m[\u001b[0m\u001b[1;34m'dryrun'\u001b[0m\u001b[1;33m]\u001b[0m\u001b[1;33m)\u001b[0m\u001b[1;33m:\u001b[0m\u001b[1;33m\u001b[0m\u001b[1;33m\u001b[0m\u001b[0m\n\u001b[0;32m   1364\u001b[0m                             \u001b[0mcond\u001b[0m \u001b[1;33m=\u001b[0m \u001b[1;33m(\u001b[0m\u001b[0mtrades\u001b[0m\u001b[1;33m[\u001b[0m\u001b[0mkey\u001b[0m\u001b[1;33m]\u001b[0m\u001b[1;33m.\u001b[0m\u001b[0mvalues\u001b[0m\u001b[1;33m>=\u001b[0m\u001b[0mfx\u001b[0m\u001b[1;33m[\u001b[0m\u001b[0mkey\u001b[0m\u001b[1;33m]\u001b[0m\u001b[1;33m[\u001b[0m\u001b[1;36m1\u001b[0m\u001b[1;33m]\u001b[0m\u001b[1;33m)\u001b[0m\u001b[1;33m&\u001b[0m\u001b[1;33m(\u001b[0m\u001b[0mtrades\u001b[0m\u001b[1;33m[\u001b[0m\u001b[0mkey\u001b[0m\u001b[1;33m]\u001b[0m\u001b[1;33m.\u001b[0m\u001b[0mvalues\u001b[0m\u001b[1;33m<\u001b[0m\u001b[0mfx\u001b[0m\u001b[1;33m[\u001b[0m\u001b[0mkey\u001b[0m\u001b[1;33m]\u001b[0m\u001b[1;33m[\u001b[0m\u001b[1;36m2\u001b[0m\u001b[1;33m]\u001b[0m\u001b[1;33m)\u001b[0m\u001b[1;31m#\u001b[0m\u001b[1;33m\u001b[0m\u001b[1;33m\u001b[0m\u001b[0m\n\u001b[1;32m-> 1365\u001b[1;33m                             \u001b[0mtrades1\u001b[0m \u001b[1;33m=\u001b[0m \u001b[0mtrades\u001b[0m\u001b[1;33m[\u001b[0m\u001b[0mcond\u001b[0m\u001b[1;33m]\u001b[0m\u001b[1;31m#\u001b[0m\u001b[1;33m\u001b[0m\u001b[1;33m\u001b[0m\u001b[0m\n\u001b[0m\u001b[0;32m   1366\u001b[0m                         \u001b[1;32melse\u001b[0m\u001b[1;33m:\u001b[0m\u001b[1;33m\u001b[0m\u001b[1;33m\u001b[0m\u001b[0m\n\u001b[0;32m   1367\u001b[0m                             \u001b[0mtrades1\u001b[0m \u001b[1;33m=\u001b[0m \u001b[0mtrades\u001b[0m\u001b[1;33m\u001b[0m\u001b[1;33m\u001b[0m\u001b[0m\n",
      "\u001b[1;32m~\\anaconda3\\lib\\site-packages\\pandas\\core\\frame.py\u001b[0m in \u001b[0;36m__getitem__\u001b[1;34m(self, key)\u001b[0m\n\u001b[0;32m   3447\u001b[0m         \u001b[1;31m# Do we have a (boolean) 1d indexer?\u001b[0m\u001b[1;33m\u001b[0m\u001b[1;33m\u001b[0m\u001b[0m\n\u001b[0;32m   3448\u001b[0m         \u001b[1;32mif\u001b[0m \u001b[0mcom\u001b[0m\u001b[1;33m.\u001b[0m\u001b[0mis_bool_indexer\u001b[0m\u001b[1;33m(\u001b[0m\u001b[0mkey\u001b[0m\u001b[1;33m)\u001b[0m\u001b[1;33m:\u001b[0m\u001b[1;33m\u001b[0m\u001b[1;33m\u001b[0m\u001b[0m\n\u001b[1;32m-> 3449\u001b[1;33m             \u001b[1;32mreturn\u001b[0m \u001b[0mself\u001b[0m\u001b[1;33m.\u001b[0m\u001b[0m_getitem_bool_array\u001b[0m\u001b[1;33m(\u001b[0m\u001b[0mkey\u001b[0m\u001b[1;33m)\u001b[0m\u001b[1;33m\u001b[0m\u001b[1;33m\u001b[0m\u001b[0m\n\u001b[0m\u001b[0;32m   3450\u001b[0m \u001b[1;33m\u001b[0m\u001b[0m\n\u001b[0;32m   3451\u001b[0m         \u001b[1;31m# We are left with two options: a single key, and a collection of keys,\u001b[0m\u001b[1;33m\u001b[0m\u001b[1;33m\u001b[0m\u001b[0m\n",
      "\u001b[1;32m~\\anaconda3\\lib\\site-packages\\pandas\\core\\frame.py\u001b[0m in \u001b[0;36m_getitem_bool_array\u001b[1;34m(self, key)\u001b[0m\n\u001b[0;32m   3502\u001b[0m         \u001b[0mkey\u001b[0m \u001b[1;33m=\u001b[0m \u001b[0mcheck_bool_indexer\u001b[0m\u001b[1;33m(\u001b[0m\u001b[0mself\u001b[0m\u001b[1;33m.\u001b[0m\u001b[0mindex\u001b[0m\u001b[1;33m,\u001b[0m \u001b[0mkey\u001b[0m\u001b[1;33m)\u001b[0m\u001b[1;33m\u001b[0m\u001b[1;33m\u001b[0m\u001b[0m\n\u001b[0;32m   3503\u001b[0m         \u001b[0mindexer\u001b[0m \u001b[1;33m=\u001b[0m \u001b[0mkey\u001b[0m\u001b[1;33m.\u001b[0m\u001b[0mnonzero\u001b[0m\u001b[1;33m(\u001b[0m\u001b[1;33m)\u001b[0m\u001b[1;33m[\u001b[0m\u001b[1;36m0\u001b[0m\u001b[1;33m]\u001b[0m\u001b[1;33m\u001b[0m\u001b[1;33m\u001b[0m\u001b[0m\n\u001b[1;32m-> 3504\u001b[1;33m         \u001b[1;32mreturn\u001b[0m \u001b[0mself\u001b[0m\u001b[1;33m.\u001b[0m\u001b[0m_take_with_is_copy\u001b[0m\u001b[1;33m(\u001b[0m\u001b[0mindexer\u001b[0m\u001b[1;33m,\u001b[0m \u001b[0maxis\u001b[0m\u001b[1;33m=\u001b[0m\u001b[1;36m0\u001b[0m\u001b[1;33m)\u001b[0m\u001b[1;33m\u001b[0m\u001b[1;33m\u001b[0m\u001b[0m\n\u001b[0m\u001b[0;32m   3505\u001b[0m \u001b[1;33m\u001b[0m\u001b[0m\n\u001b[0;32m   3506\u001b[0m     \u001b[1;32mdef\u001b[0m \u001b[0m_getitem_multilevel\u001b[0m\u001b[1;33m(\u001b[0m\u001b[0mself\u001b[0m\u001b[1;33m,\u001b[0m \u001b[0mkey\u001b[0m\u001b[1;33m)\u001b[0m\u001b[1;33m:\u001b[0m\u001b[1;33m\u001b[0m\u001b[1;33m\u001b[0m\u001b[0m\n",
      "\u001b[1;32m~\\anaconda3\\lib\\site-packages\\pandas\\core\\generic.py\u001b[0m in \u001b[0;36m_take_with_is_copy\u001b[1;34m(self, indices, axis)\u001b[0m\n\u001b[0;32m   3626\u001b[0m         \u001b[0mSee\u001b[0m \u001b[0mthe\u001b[0m \u001b[0mdocstring\u001b[0m \u001b[0mof\u001b[0m\u001b[0;31m \u001b[0m\u001b[0;31m`\u001b[0m\u001b[0mtake\u001b[0m\u001b[0;31m`\u001b[0m \u001b[1;32mfor\u001b[0m \u001b[0mfull\u001b[0m \u001b[0mexplanation\u001b[0m \u001b[0mof\u001b[0m \u001b[0mthe\u001b[0m \u001b[0mparameters\u001b[0m\u001b[1;33m.\u001b[0m\u001b[1;33m\u001b[0m\u001b[1;33m\u001b[0m\u001b[0m\n\u001b[0;32m   3627\u001b[0m         \"\"\"\n\u001b[1;32m-> 3628\u001b[1;33m         \u001b[0mresult\u001b[0m \u001b[1;33m=\u001b[0m \u001b[0mself\u001b[0m\u001b[1;33m.\u001b[0m\u001b[0mtake\u001b[0m\u001b[1;33m(\u001b[0m\u001b[0mindices\u001b[0m\u001b[1;33m=\u001b[0m\u001b[0mindices\u001b[0m\u001b[1;33m,\u001b[0m \u001b[0maxis\u001b[0m\u001b[1;33m=\u001b[0m\u001b[0maxis\u001b[0m\u001b[1;33m)\u001b[0m\u001b[1;33m\u001b[0m\u001b[1;33m\u001b[0m\u001b[0m\n\u001b[0m\u001b[0;32m   3629\u001b[0m         \u001b[1;31m# Maybe set copy if we didn't actually change the index.\u001b[0m\u001b[1;33m\u001b[0m\u001b[1;33m\u001b[0m\u001b[0m\n\u001b[0;32m   3630\u001b[0m         \u001b[1;32mif\u001b[0m \u001b[1;32mnot\u001b[0m \u001b[0mresult\u001b[0m\u001b[1;33m.\u001b[0m\u001b[0m_get_axis\u001b[0m\u001b[1;33m(\u001b[0m\u001b[0maxis\u001b[0m\u001b[1;33m)\u001b[0m\u001b[1;33m.\u001b[0m\u001b[0mequals\u001b[0m\u001b[1;33m(\u001b[0m\u001b[0mself\u001b[0m\u001b[1;33m.\u001b[0m\u001b[0m_get_axis\u001b[0m\u001b[1;33m(\u001b[0m\u001b[0maxis\u001b[0m\u001b[1;33m)\u001b[0m\u001b[1;33m)\u001b[0m\u001b[1;33m:\u001b[0m\u001b[1;33m\u001b[0m\u001b[1;33m\u001b[0m\u001b[0m\n",
      "\u001b[1;32m~\\anaconda3\\lib\\site-packages\\pandas\\core\\generic.py\u001b[0m in \u001b[0;36mtake\u001b[1;34m(self, indices, axis, is_copy, **kwargs)\u001b[0m\n\u001b[0;32m   3613\u001b[0m         \u001b[0mself\u001b[0m\u001b[1;33m.\u001b[0m\u001b[0m_consolidate_inplace\u001b[0m\u001b[1;33m(\u001b[0m\u001b[1;33m)\u001b[0m\u001b[1;33m\u001b[0m\u001b[1;33m\u001b[0m\u001b[0m\n\u001b[0;32m   3614\u001b[0m \u001b[1;33m\u001b[0m\u001b[0m\n\u001b[1;32m-> 3615\u001b[1;33m         new_data = self._mgr.take(\n\u001b[0m\u001b[0;32m   3616\u001b[0m             \u001b[0mindices\u001b[0m\u001b[1;33m,\u001b[0m \u001b[0maxis\u001b[0m\u001b[1;33m=\u001b[0m\u001b[0mself\u001b[0m\u001b[1;33m.\u001b[0m\u001b[0m_get_block_manager_axis\u001b[0m\u001b[1;33m(\u001b[0m\u001b[0maxis\u001b[0m\u001b[1;33m)\u001b[0m\u001b[1;33m,\u001b[0m \u001b[0mverify\u001b[0m\u001b[1;33m=\u001b[0m\u001b[1;32mTrue\u001b[0m\u001b[1;33m\u001b[0m\u001b[1;33m\u001b[0m\u001b[0m\n\u001b[0;32m   3617\u001b[0m         )\n",
      "\u001b[1;32m~\\anaconda3\\lib\\site-packages\\pandas\\core\\internals\\managers.py\u001b[0m in \u001b[0;36mtake\u001b[1;34m(self, indexer, axis, verify)\u001b[0m\n\u001b[0;32m    862\u001b[0m         \u001b[0mindexer\u001b[0m \u001b[1;33m=\u001b[0m \u001b[0mmaybe_convert_indices\u001b[0m\u001b[1;33m(\u001b[0m\u001b[0mindexer\u001b[0m\u001b[1;33m,\u001b[0m \u001b[0mn\u001b[0m\u001b[1;33m,\u001b[0m \u001b[0mverify\u001b[0m\u001b[1;33m=\u001b[0m\u001b[0mverify\u001b[0m\u001b[1;33m)\u001b[0m\u001b[1;33m\u001b[0m\u001b[1;33m\u001b[0m\u001b[0m\n\u001b[0;32m    863\u001b[0m \u001b[1;33m\u001b[0m\u001b[0m\n\u001b[1;32m--> 864\u001b[1;33m         \u001b[0mnew_labels\u001b[0m \u001b[1;33m=\u001b[0m \u001b[0mself\u001b[0m\u001b[1;33m.\u001b[0m\u001b[0maxes\u001b[0m\u001b[1;33m[\u001b[0m\u001b[0maxis\u001b[0m\u001b[1;33m]\u001b[0m\u001b[1;33m.\u001b[0m\u001b[0mtake\u001b[0m\u001b[1;33m(\u001b[0m\u001b[0mindexer\u001b[0m\u001b[1;33m)\u001b[0m\u001b[1;33m\u001b[0m\u001b[1;33m\u001b[0m\u001b[0m\n\u001b[0m\u001b[0;32m    865\u001b[0m         return self.reindex_indexer(\n\u001b[0;32m    866\u001b[0m             \u001b[0mnew_axis\u001b[0m\u001b[1;33m=\u001b[0m\u001b[0mnew_labels\u001b[0m\u001b[1;33m,\u001b[0m\u001b[1;33m\u001b[0m\u001b[1;33m\u001b[0m\u001b[0m\n",
      "\u001b[1;32m~\\anaconda3\\lib\\site-packages\\pandas\\core\\indexes\\base.py\u001b[0m in \u001b[0;36mtake\u001b[1;34m(self, indices, axis, allow_fill, fill_value, **kwargs)\u001b[0m\n\u001b[0;32m    959\u001b[0m         \u001b[1;31m# Note: we discard fill_value and use self._na_value, only relevant\u001b[0m\u001b[1;33m\u001b[0m\u001b[1;33m\u001b[0m\u001b[0m\n\u001b[0;32m    960\u001b[0m         \u001b[1;31m#  in the case where allow_fill is True and fill_value is not None\u001b[0m\u001b[1;33m\u001b[0m\u001b[1;33m\u001b[0m\u001b[0m\n\u001b[1;32m--> 961\u001b[1;33m         taken = algos.take(\n\u001b[0m\u001b[0;32m    962\u001b[0m             \u001b[0mself\u001b[0m\u001b[1;33m.\u001b[0m\u001b[0m_values\u001b[0m\u001b[1;33m,\u001b[0m \u001b[0mindices\u001b[0m\u001b[1;33m,\u001b[0m \u001b[0mallow_fill\u001b[0m\u001b[1;33m=\u001b[0m\u001b[0mallow_fill\u001b[0m\u001b[1;33m,\u001b[0m \u001b[0mfill_value\u001b[0m\u001b[1;33m=\u001b[0m\u001b[0mself\u001b[0m\u001b[1;33m.\u001b[0m\u001b[0m_na_value\u001b[0m\u001b[1;33m\u001b[0m\u001b[1;33m\u001b[0m\u001b[0m\n\u001b[0;32m    963\u001b[0m         )\n",
      "\u001b[1;32m~\\anaconda3\\lib\\site-packages\\pandas\\core\\algorithms.py\u001b[0m in \u001b[0;36mtake\u001b[1;34m(arr, indices, axis, allow_fill, fill_value)\u001b[0m\n\u001b[0;32m   1514\u001b[0m     \u001b[1;32melse\u001b[0m\u001b[1;33m:\u001b[0m\u001b[1;33m\u001b[0m\u001b[1;33m\u001b[0m\u001b[0m\n\u001b[0;32m   1515\u001b[0m         \u001b[1;31m# NumPy style\u001b[0m\u001b[1;33m\u001b[0m\u001b[1;33m\u001b[0m\u001b[0m\n\u001b[1;32m-> 1516\u001b[1;33m         \u001b[0mresult\u001b[0m \u001b[1;33m=\u001b[0m \u001b[0marr\u001b[0m\u001b[1;33m.\u001b[0m\u001b[0mtake\u001b[0m\u001b[1;33m(\u001b[0m\u001b[0mindices\u001b[0m\u001b[1;33m,\u001b[0m \u001b[0maxis\u001b[0m\u001b[1;33m=\u001b[0m\u001b[0maxis\u001b[0m\u001b[1;33m)\u001b[0m\u001b[1;33m\u001b[0m\u001b[1;33m\u001b[0m\u001b[0m\n\u001b[0m\u001b[0;32m   1517\u001b[0m     \u001b[1;32mreturn\u001b[0m \u001b[0mresult\u001b[0m\u001b[1;33m\u001b[0m\u001b[1;33m\u001b[0m\u001b[0m\n\u001b[0;32m   1518\u001b[0m \u001b[1;33m\u001b[0m\u001b[0m\n",
      "\u001b[1;31mKeyboardInterrupt\u001b[0m: "
     ]
    }
   ],
   "source": [
    "# runstats(alltrades,'30',atrperiod,sl,tp,tsl,3)\n",
    "# runstats(alltrades,'35',atrperiod,sl,tp,tsl,3)\n",
    "# runstats(alltrades,'40',atrperiod,sl,tp,tsl,3)\n",
    "# runstats(alltrades,'45',atrperiod,sl,tp,tsl,3)\n",
    "# runstats(alltrades,'60',atrperiod,sl,tp,tsl,3)\n",
    "# runstats(alltrades,'80',atrperiod,sl,tp,tsl,3)\n",
    "# runstats(alltrades,'100',atrperiod,sl,tp,tsl,3)\n",
    "# runstats(alltrades,'120',atrperiod,sl,tp,tsl,3)\n",
    "# runstats(alltrades,'140',atrperiod,sl,tp,tsl,3)\n",
    "# runstats(alltrades,'160',atrperiod,sl,tp,tsl,3)\n",
    "    \n",
    "\n",
    "# [3,5,7,30,35,40,45,60,80,100,120,140,160]\n"
   ]
  },
  {
   "cell_type": "code",
   "execution_count": null,
   "metadata": {},
   "outputs": [],
   "source": [
    "importlib.reload(tradestats)\n",
    "from tradestats import *\n",
    "# for i in [10,14,20,30,40]:\n",
    "for i in [20]:\n",
    "    atrperiod = 'atr'+str(i)+'atr_prev'\n",
    "    fxs=runstats(alltrades,'35',atrperiod,sl,tp,tsl,3,[2078507])\n",
    "\n",
    "sub = calcandplot(alltrades,fxs)  "
   ]
  },
  {
   "cell_type": "code",
   "execution_count": null,
   "metadata": {},
   "outputs": [],
   "source": [
    "fxs = [\n",
    "'{\"tradetype\": [2, 1], \"sl\": [2, 0.65], \"tp\": [2, 0.75], \"tsl\": [2, 0], \"atr20atr_prev\": [3, -1000, 0.015], \"ma40SMAdiffseq_prev\": [0, 3, 1000], \"ma40SMAvs5_prev\": [0, 0, 1000], \"ma5SMAdiffdiff_prev\": [0, -1000, 0], \"rsi15rsidiffseq_prev\": [0, -5, 3], \"rsi15rsi_prev\": [0, 30, 100]}'\n",
    "]    \n",
    "sub = calcandplot(alltrades,fxs) "
   ]
  },
  {
   "cell_type": "code",
   "execution_count": null,
   "metadata": {},
   "outputs": [],
   "source": []
  }
 ],
 "metadata": {
  "kernelspec": {
   "display_name": "Python 3 (ipykernel)",
   "language": "python",
   "name": "python3"
  },
  "language_info": {
   "codemirror_mode": {
    "name": "ipython",
    "version": 3
   },
   "file_extension": ".py",
   "mimetype": "text/x-python",
   "name": "python",
   "nbconvert_exporter": "python",
   "pygments_lexer": "ipython3",
   "version": "3.9.7"
  }
 },
 "nbformat": 4,
 "nbformat_minor": 2
}
