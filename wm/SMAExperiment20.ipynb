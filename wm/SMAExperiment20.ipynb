{
 "cells": [
  {
   "cell_type": "code",
   "execution_count": 1,
   "metadata": {},
   "outputs": [],
   "source": [
    "import os\n",
    "cwd = os.getcwd()\n",
    "if cwd[0:2] != \"C:\":\n",
    "    from google.colab import drive\n",
    "    drive.mount('/content/gdrive',force_remount=True)\n",
    "    %cd \"/content/gdrive/My Drive/Projects\"\n",
    "    !git clone https://github.com/ai357060/modelF.git\n",
    "    import sys\n",
    "    root_dir=\"/content/gdrive/My Drive/Projects/modelF\"\n",
    "    sys.path.append(root_dir)\n",
    "    %cd \"/content/gdrive/My Drive/Projects/modelF/wm\"\n",
    "    !git fetch --all\n",
    "    !git reset --hard origin/master"
   ]
  },
  {
   "cell_type": "code",
   "execution_count": 2,
   "metadata": {},
   "outputs": [],
   "source": [
    "import os\n",
    "cwd = os.getcwd()\n",
    "if cwd[0:2] != \"C:\":\n",
    "    from google.colab import drive\n",
    "    drive.mount('/content/gdrive',force_remount=True)\n",
    "    %cd \"/content/gdrive/My Drive/Projects\"\n",
    "#     !git clone https://github.com/ai357060/modelF.git\n",
    "    import sys\n",
    "    root_dir=\"/content/gdrive/My Drive/Projects/modelF\"\n",
    "    sys.path.append(root_dir)\n",
    "    %cd \"/content/gdrive/My Drive/Projects/modelF/wm\"\n",
    "#     !git pull"
   ]
  },
  {
   "cell_type": "code",
   "execution_count": 3,
   "metadata": {},
   "outputs": [],
   "source": [
    "import os\n",
    "import sys\n",
    "module_path = os.path.abspath(os.path.join('..'))\n",
    "if module_path not in sys.path:\n",
    "    sys.path.append(module_path)"
   ]
  },
  {
   "cell_type": "code",
   "execution_count": 4,
   "metadata": {},
   "outputs": [],
   "source": [
    "import pandas as pd\n",
    "import numpy as np\n",
    "import datetime as dt\n",
    "import importlib\n",
    "import tradestats\n",
    "import pandas as pd\n",
    "from datetime import datetime"
   ]
  },
  {
   "cell_type": "code",
   "execution_count": 5,
   "metadata": {},
   "outputs": [],
   "source": [
    "from sklearn import datasets\n",
    "from sklearn.tree import DecisionTreeRegressor\n",
    "from sklearn.tree import DecisionTreeClassifier \n",
    "from sklearn import tree\n",
    "# import graphviz"
   ]
  },
  {
   "cell_type": "code",
   "execution_count": 6,
   "metadata": {},
   "outputs": [],
   "source": [
    "importlib.reload(tradestats)\n",
    "from tradestats import *"
   ]
  },
  {
   "cell_type": "code",
   "execution_count": 7,
   "metadata": {},
   "outputs": [],
   "source": [
    "# prices = loaddata_1D('AUDUSD_Candlestick_1_D_BID_03.08.2003-24.10.2021.csv')\n",
    "prices = loaddata_1D('EURUSD_Candlestick_1_D_BID_03.08.2003-24.10.2021.csv')"
   ]
  },
  {
   "cell_type": "code",
   "execution_count": 8,
   "metadata": {},
   "outputs": [
    {
     "data": {
      "text/plain": [
       "4751"
      ]
     },
     "execution_count": 8,
     "metadata": {},
     "output_type": "execute_result"
    }
   ],
   "source": [
    "len(prices)"
   ]
  },
  {
   "cell_type": "code",
   "execution_count": 9,
   "metadata": {},
   "outputs": [
    {
     "name": "stdout",
     "output_type": "stream",
     "text": [
      "0:00:00.116999\n"
     ]
    }
   ],
   "source": [
    "importlib.reload(tradestats)\n",
    "from tradestats import *\n",
    "starttime = datetime.now()\n",
    "\n",
    "maKey  = [5,30,40,50,60,80,100,120,130,140,160]\n",
    "atrKey = [20]\n",
    "# srsKey = [0]\n",
    "dictList = []\n",
    "colFeat = []\n",
    "keyList = []\n",
    "maDict   = ma(prices, maKey)\n",
    "atrDict  = atr(prices, atrKey)\n",
    "# srsDict  = srs(prices, srsKey)\n",
    "dictList.append(maDict.df); colFeat.append('ma'); keyList.append(maKey) \n",
    "dictList.append(atrDict.df); colFeat.append('atr'); keyList.append(atrKey) \n",
    "# dictList.append(srsDict.df); colFeat.append('srs'); keyList.append(srsKey) \n",
    "\n",
    "endtime = datetime.now()\n",
    "print(str(endtime - starttime))"
   ]
  },
  {
   "cell_type": "code",
   "execution_count": 10,
   "metadata": {},
   "outputs": [],
   "source": [
    "# prices.dropna(inplace=True)\n",
    "masterFrame = pd.DataFrame(index=prices.index)\n",
    "masterFrame[['id','year','month','day','date','weekday','open','high','low','close','volume']] = prices[['id','year','month','day','date','weekday','open','high','low','close','volume']]   "
   ]
  },
  {
   "cell_type": "code",
   "execution_count": 11,
   "metadata": {},
   "outputs": [],
   "source": [
    "for i in range(0,len(dictList)):#iteracja po funkcjach\n",
    "    for j in keyList[i]: #iteracja po okresach\n",
    "        for k in list(dictList[i][j]): #iteracja po kolumnach danej funkcji w okresie\n",
    "            colID = colFeat[i] + str(j) + k\n",
    "            masterFrame[colID] = dictList[i][j][k]"
   ]
  },
  {
   "cell_type": "code",
   "execution_count": 12,
   "metadata": {},
   "outputs": [],
   "source": [
    "# masterFrame.to_csv(sep=';',path_or_buf='../Data/masterFrame.csv',date_format=\"%Y-%m-%d\",index = False,na_rep='')"
   ]
  },
  {
   "cell_type": "code",
   "execution_count": 13,
   "metadata": {
    "scrolled": true
   },
   "outputs": [],
   "source": [
    "masterFrame = masterFrame.dropna()"
   ]
  },
  {
   "cell_type": "code",
   "execution_count": 14,
   "metadata": {},
   "outputs": [
    {
     "data": {
      "text/html": [
       "<div>\n",
       "<style scoped>\n",
       "    .dataframe tbody tr th:only-of-type {\n",
       "        vertical-align: middle;\n",
       "    }\n",
       "\n",
       "    .dataframe tbody tr th {\n",
       "        vertical-align: top;\n",
       "    }\n",
       "\n",
       "    .dataframe thead th {\n",
       "        text-align: right;\n",
       "    }\n",
       "</style>\n",
       "<table border=\"1\" class=\"dataframe\">\n",
       "  <thead>\n",
       "    <tr style=\"text-align: right;\">\n",
       "      <th></th>\n",
       "      <th>id</th>\n",
       "      <th>year</th>\n",
       "      <th>month</th>\n",
       "      <th>day</th>\n",
       "      <th>date</th>\n",
       "      <th>weekday</th>\n",
       "      <th>open</th>\n",
       "      <th>high</th>\n",
       "      <th>low</th>\n",
       "      <th>close</th>\n",
       "      <th>...</th>\n",
       "      <th>ma140SMAdiff_prev</th>\n",
       "      <th>ma140SMAdiff2_prev</th>\n",
       "      <th>ma140SMAdiffdiff_prev</th>\n",
       "      <th>ma140SMAclose_prev</th>\n",
       "      <th>ma160SMA_prev</th>\n",
       "      <th>ma160SMAdiff_prev</th>\n",
       "      <th>ma160SMAdiff2_prev</th>\n",
       "      <th>ma160SMAdiffdiff_prev</th>\n",
       "      <th>ma160SMAclose_prev</th>\n",
       "      <th>atr20atr_prev</th>\n",
       "    </tr>\n",
       "  </thead>\n",
       "  <tbody>\n",
       "    <tr>\n",
       "      <th>4746</th>\n",
       "      <td>4746</td>\n",
       "      <td>2021</td>\n",
       "      <td>10</td>\n",
       "      <td>18</td>\n",
       "      <td>2021-10-18 21:00:00</td>\n",
       "      <td>0</td>\n",
       "      <td>1.15903</td>\n",
       "      <td>1.16223</td>\n",
       "      <td>1.15717</td>\n",
       "      <td>1.16091</td>\n",
       "      <td>...</td>\n",
       "      <td>-0.000116</td>\n",
       "      <td>-0.000245</td>\n",
       "      <td>0.000013</td>\n",
       "      <td>-0.029360</td>\n",
       "      <td>1.188745</td>\n",
       "      <td>-0.000197</td>\n",
       "      <td>-0.000430</td>\n",
       "      <td>0.000037</td>\n",
       "      <td>-0.028915</td>\n",
       "      <td>0.004918</td>\n",
       "    </tr>\n",
       "    <tr>\n",
       "      <th>4747</th>\n",
       "      <td>4747</td>\n",
       "      <td>2021</td>\n",
       "      <td>10</td>\n",
       "      <td>19</td>\n",
       "      <td>2021-10-19 21:00:00</td>\n",
       "      <td>1</td>\n",
       "      <td>1.16092</td>\n",
       "      <td>1.16693</td>\n",
       "      <td>1.16078</td>\n",
       "      <td>1.16312</td>\n",
       "      <td>...</td>\n",
       "      <td>-0.000145</td>\n",
       "      <td>-0.000261</td>\n",
       "      <td>-0.000030</td>\n",
       "      <td>-0.028134</td>\n",
       "      <td>1.188597</td>\n",
       "      <td>-0.000148</td>\n",
       "      <td>-0.000345</td>\n",
       "      <td>0.000048</td>\n",
       "      <td>-0.027687</td>\n",
       "      <td>0.004990</td>\n",
       "    </tr>\n",
       "    <tr>\n",
       "      <th>4748</th>\n",
       "      <td>4748</td>\n",
       "      <td>2021</td>\n",
       "      <td>10</td>\n",
       "      <td>20</td>\n",
       "      <td>2021-10-20 21:00:00</td>\n",
       "      <td>2</td>\n",
       "      <td>1.16308</td>\n",
       "      <td>1.16586</td>\n",
       "      <td>1.16168</td>\n",
       "      <td>1.16485</td>\n",
       "      <td>...</td>\n",
       "      <td>-0.000173</td>\n",
       "      <td>-0.000319</td>\n",
       "      <td>-0.000028</td>\n",
       "      <td>-0.025751</td>\n",
       "      <td>1.188429</td>\n",
       "      <td>-0.000168</td>\n",
       "      <td>-0.000316</td>\n",
       "      <td>-0.000020</td>\n",
       "      <td>-0.025309</td>\n",
       "      <td>0.005128</td>\n",
       "    </tr>\n",
       "    <tr>\n",
       "      <th>4749</th>\n",
       "      <td>4749</td>\n",
       "      <td>2021</td>\n",
       "      <td>10</td>\n",
       "      <td>21</td>\n",
       "      <td>2021-10-21 21:00:00</td>\n",
       "      <td>3</td>\n",
       "      <td>1.16482</td>\n",
       "      <td>1.16674</td>\n",
       "      <td>1.16194</td>\n",
       "      <td>1.16215</td>\n",
       "      <td>...</td>\n",
       "      <td>-0.000155</td>\n",
       "      <td>-0.000329</td>\n",
       "      <td>0.000018</td>\n",
       "      <td>-0.023866</td>\n",
       "      <td>1.188254</td>\n",
       "      <td>-0.000175</td>\n",
       "      <td>-0.000343</td>\n",
       "      <td>-0.000007</td>\n",
       "      <td>-0.023404</td>\n",
       "      <td>0.004981</td>\n",
       "    </tr>\n",
       "    <tr>\n",
       "      <th>4750</th>\n",
       "      <td>4750</td>\n",
       "      <td>2021</td>\n",
       "      <td>10</td>\n",
       "      <td>22</td>\n",
       "      <td>2021-10-22 21:00:00</td>\n",
       "      <td>4</td>\n",
       "      <td>1.16212</td>\n",
       "      <td>1.16556</td>\n",
       "      <td>1.16198</td>\n",
       "      <td>1.16395</td>\n",
       "      <td>...</td>\n",
       "      <td>-0.000208</td>\n",
       "      <td>-0.000363</td>\n",
       "      <td>-0.000053</td>\n",
       "      <td>-0.026358</td>\n",
       "      <td>1.188028</td>\n",
       "      <td>-0.000227</td>\n",
       "      <td>-0.000402</td>\n",
       "      <td>-0.000052</td>\n",
       "      <td>-0.025877</td>\n",
       "      <td>0.004888</td>\n",
       "    </tr>\n",
       "  </tbody>\n",
       "</table>\n",
       "<p>5 rows × 67 columns</p>\n",
       "</div>"
      ],
      "text/plain": [
       "        id  year  month  day                date  weekday     open     high  \\\n",
       "4746  4746  2021     10   18 2021-10-18 21:00:00        0  1.15903  1.16223   \n",
       "4747  4747  2021     10   19 2021-10-19 21:00:00        1  1.16092  1.16693   \n",
       "4748  4748  2021     10   20 2021-10-20 21:00:00        2  1.16308  1.16586   \n",
       "4749  4749  2021     10   21 2021-10-21 21:00:00        3  1.16482  1.16674   \n",
       "4750  4750  2021     10   22 2021-10-22 21:00:00        4  1.16212  1.16556   \n",
       "\n",
       "          low    close  ...  ma140SMAdiff_prev  ma140SMAdiff2_prev  \\\n",
       "4746  1.15717  1.16091  ...          -0.000116           -0.000245   \n",
       "4747  1.16078  1.16312  ...          -0.000145           -0.000261   \n",
       "4748  1.16168  1.16485  ...          -0.000173           -0.000319   \n",
       "4749  1.16194  1.16215  ...          -0.000155           -0.000329   \n",
       "4750  1.16198  1.16395  ...          -0.000208           -0.000363   \n",
       "\n",
       "      ma140SMAdiffdiff_prev  ma140SMAclose_prev  ma160SMA_prev  \\\n",
       "4746               0.000013           -0.029360       1.188745   \n",
       "4747              -0.000030           -0.028134       1.188597   \n",
       "4748              -0.000028           -0.025751       1.188429   \n",
       "4749               0.000018           -0.023866       1.188254   \n",
       "4750              -0.000053           -0.026358       1.188028   \n",
       "\n",
       "      ma160SMAdiff_prev  ma160SMAdiff2_prev  ma160SMAdiffdiff_prev  \\\n",
       "4746          -0.000197           -0.000430               0.000037   \n",
       "4747          -0.000148           -0.000345               0.000048   \n",
       "4748          -0.000168           -0.000316              -0.000020   \n",
       "4749          -0.000175           -0.000343              -0.000007   \n",
       "4750          -0.000227           -0.000402              -0.000052   \n",
       "\n",
       "      ma160SMAclose_prev  atr20atr_prev  \n",
       "4746           -0.028915       0.004918  \n",
       "4747           -0.027687       0.004990  \n",
       "4748           -0.025309       0.005128  \n",
       "4749           -0.023404       0.004981  \n",
       "4750           -0.025877       0.004888  \n",
       "\n",
       "[5 rows x 67 columns]"
      ]
     },
     "execution_count": 14,
     "metadata": {},
     "output_type": "execute_result"
    }
   ],
   "source": [
    "masterFrame.tail(5)"
   ]
  },
  {
   "cell_type": "code",
   "execution_count": null,
   "metadata": {},
   "outputs": [],
   "source": []
  },
  {
   "cell_type": "code",
   "execution_count": 15,
   "metadata": {},
   "outputs": [
    {
     "name": "stdout",
     "output_type": "stream",
     "text": [
      "-51\n",
      "0:00:01.432620\n"
     ]
    }
   ],
   "source": [
    "importlib.reload(tradestats)\n",
    "from tradestats import *\n",
    "starttime = datetime.now()\n",
    "atrperiod = 'atr20atr_prev'\n",
    "# alltrades = preparetrades_brut_tsl(masterFrame,[1],[0.001,0.002,0.003,0.004,0.005,0.006],[0.001,0.002,0.003,0.004,0.005,0.006],[0.001,0.002,0.003,0.004,0.005,0.006],2015,2021)\n",
    "# alltrades = preparetrades_brut_tp(masterFrame,[1],[0.003,0.004,0.005,0.006,0.007,0.008,0.009,0.01],[0.003,0.004,0.005,0.006,0.007,0.008,0.009,0.01],2003,2021)\n",
    "# alltrades = preparetrades_brut_tp(masterFrame,[-1,1],[0.5],[0.9],2020,2021,atrperiod)\n",
    "# alltrades = preparetrades_brut_tp(masterFrame,[1],[0.3,0.4,0.5,0.6,0.7,0.8,0.9],[0.6,0.7,0.8,0.9,1,1.1,1.2,1.3,1.4,1.5],2003,2021,atrperiod)\n",
    "alltrades = preparetrades_brut_tsl(masterFrame,[1],[1],[100],[2],2003,2021,atrperiod)\n",
    "# alltrades = preparetrades_brut_tp(masterFrame,[-1],[0.003,0.004,0.005,0.006,0.007,0.008,0.009,0.01],[0.006,0.007,0.008,0.009,0.01,0.011,0.012,0.013,0.014,0.015],2003,2021,atrperiod)\n",
    "# alltrades = preparetrades_brut_tp(masterFrame,[-1],[0.003,0.004,0.005,0.006,0.007,0.008,0.01,0.012,0.014],[0.003,0.004,0.005,0.006,0.007,0.008,0.01,0.012,0.014],2003,2021,atrperiod)\n",
    "endtime = datetime.now()\n",
    "print(str(endtime - starttime))"
   ]
  },
  {
   "cell_type": "code",
   "execution_count": 16,
   "metadata": {},
   "outputs": [],
   "source": [
    "importlib.reload(tradestats)\n",
    "from tradestats import *\n",
    "trades = cleartrades_brut(alltrades.copy(),True)\n",
    "# trades,alltrades = preparetrades(masterFrame,[-1,1],[5],[13],[0.002],True)"
   ]
  },
  {
   "cell_type": "code",
   "execution_count": 17,
   "metadata": {},
   "outputs": [
    {
     "data": {
      "text/html": [
       "<div>\n",
       "<style scoped>\n",
       "    .dataframe tbody tr th:only-of-type {\n",
       "        vertical-align: middle;\n",
       "    }\n",
       "\n",
       "    .dataframe tbody tr th {\n",
       "        vertical-align: top;\n",
       "    }\n",
       "\n",
       "    .dataframe thead th {\n",
       "        text-align: right;\n",
       "    }\n",
       "</style>\n",
       "<table border=\"1\" class=\"dataframe\">\n",
       "  <thead>\n",
       "    <tr style=\"text-align: right;\">\n",
       "      <th></th>\n",
       "      <th>id</th>\n",
       "      <th>year</th>\n",
       "      <th>month</th>\n",
       "      <th>day</th>\n",
       "      <th>date</th>\n",
       "      <th>weekday</th>\n",
       "      <th>open</th>\n",
       "      <th>high</th>\n",
       "      <th>low</th>\n",
       "      <th>close</th>\n",
       "      <th>...</th>\n",
       "      <th>stoploss</th>\n",
       "      <th>takeprofit</th>\n",
       "      <th>closeindex</th>\n",
       "      <th>tpcloseindex</th>\n",
       "      <th>closeprice</th>\n",
       "      <th>tpcloseprice</th>\n",
       "      <th>slindex</th>\n",
       "      <th>slprice</th>\n",
       "      <th>profit</th>\n",
       "      <th>profit1</th>\n",
       "    </tr>\n",
       "  </thead>\n",
       "  <tbody>\n",
       "    <tr>\n",
       "      <th>162</th>\n",
       "      <td>162</td>\n",
       "      <td>2004</td>\n",
       "      <td>3</td>\n",
       "      <td>17</td>\n",
       "      <td>2004-03-17 22:00:00</td>\n",
       "      <td>2</td>\n",
       "      <td>1.22709</td>\n",
       "      <td>1.22870</td>\n",
       "      <td>1.21730</td>\n",
       "      <td>1.22316</td>\n",
       "      <td>...</td>\n",
       "      <td>1.221009</td>\n",
       "      <td>2.95914</td>\n",
       "      <td>167.0</td>\n",
       "      <td>-1</td>\n",
       "      <td>1.221009</td>\n",
       "      <td>-1</td>\n",
       "      <td>167.0</td>\n",
       "      <td>1.21133</td>\n",
       "      <td>-60.805</td>\n",
       "      <td>-1</td>\n",
       "    </tr>\n",
       "    <tr>\n",
       "      <th>163</th>\n",
       "      <td>163</td>\n",
       "      <td>2004</td>\n",
       "      <td>3</td>\n",
       "      <td>18</td>\n",
       "      <td>2004-03-18 22:00:00</td>\n",
       "      <td>3</td>\n",
       "      <td>1.22310</td>\n",
       "      <td>1.24315</td>\n",
       "      <td>1.22182</td>\n",
       "      <td>1.23833</td>\n",
       "      <td>...</td>\n",
       "      <td>1.221782</td>\n",
       "      <td>2.87785</td>\n",
       "      <td>167.0</td>\n",
       "      <td>-1</td>\n",
       "      <td>1.221782</td>\n",
       "      <td>-1</td>\n",
       "      <td>167.0</td>\n",
       "      <td>1.21133</td>\n",
       "      <td>-13.175</td>\n",
       "      <td>-1</td>\n",
       "    </tr>\n",
       "  </tbody>\n",
       "</table>\n",
       "<p>2 rows × 86 columns</p>\n",
       "</div>"
      ],
      "text/plain": [
       "      id  year  month  day                date  weekday     open     high  \\\n",
       "162  162  2004      3   17 2004-03-17 22:00:00        2  1.22709  1.22870   \n",
       "163  163  2004      3   18 2004-03-18 22:00:00        3  1.22310  1.24315   \n",
       "\n",
       "         low    close  ...  stoploss  takeprofit  closeindex  tpcloseindex  \\\n",
       "162  1.21730  1.22316  ...  1.221009     2.95914       167.0            -1   \n",
       "163  1.22182  1.23833  ...  1.221782     2.87785       167.0            -1   \n",
       "\n",
       "     closeprice  tpcloseprice  slindex  slprice  profit  profit1  \n",
       "162    1.221009            -1    167.0  1.21133 -60.805       -1  \n",
       "163    1.221782            -1    167.0  1.21133 -13.175       -1  \n",
       "\n",
       "[2 rows x 86 columns]"
      ]
     },
     "execution_count": 17,
     "metadata": {},
     "output_type": "execute_result"
    }
   ],
   "source": [
    "#____________________________________________________________________________________________________________________\n",
    "#\n",
    "#\n",
    "alltrades.head(2)"
   ]
  },
  {
   "cell_type": "code",
   "execution_count": 18,
   "metadata": {},
   "outputs": [
    {
     "name": "stdout",
     "output_type": "stream",
     "text": [
      "ma_frac_2003_2021_1_atr20atr_prev_ma30SMAdiff_prev\n",
      "allexecs:  1\n",
      "finish:         2021-12-03 19:44:10.877805\n",
      "duration:       0:00:00.050997\n",
      "ma_frac_2003_2021_1_atr20atr_prev_ma40SMAdiff_prev\n",
      "allexecs:  1\n",
      "finish:         2021-12-03 19:44:10.921809\n",
      "duration:       0:00:00.044004\n",
      "ma_frac_2003_2021_1_atr20atr_prev_ma50SMAdiff_prev\n",
      "allexecs:  1\n",
      "finish:         2021-12-03 19:44:10.964887\n",
      "duration:       0:00:00.043078\n"
     ]
    }
   ],
   "source": [
    "importlib.reload(tradestats)\n",
    "from tradestats import *\n",
    "# for i in [10,14,20,30,40]:\n",
    "for i in [20]:\n",
    "    atrperiod = 'atr'+str(i)+'atr_prev'\n",
    "    # stats1 = runstats_ma_v4(alltrades,'ma5SMAdiff_prev','ma5SMAdiffdiff_prev','ma5SMAdiff2_prev','ma5SMAclose_prev')\n",
    "    stats1 = runstats_ma_v20(alltrades,'ma30SMAdiff_prev','ma30SMAdiffdiff_prev','ma30SMAdiff2_prev','ma30SMAclose_prev',atrperiod)\n",
    "    stats1 = runstats_ma_v20(alltrades,'ma40SMAdiff_prev','ma40SMAdiffdiff_prev','ma40SMAdiff2_prev','ma40SMAclose_prev',atrperiod)\n",
    "    stats1 = runstats_ma_v20(alltrades,'ma50SMAdiff_prev','ma50SMAdiffdiff_prev','ma50SMAdiff2_prev','ma50SMAclose_prev',atrperiod)\n",
    "#     stats1 = runstats_ma_v20(alltrades,'ma60SMAdiff_prev','ma60SMAdiffdiff_prev','ma60SMAdiff2_prev','ma60SMAclose_prev',atrperiod)\n",
    "#     stats1 = runstats_ma_v20(alltrades,'ma80SMAdiff_prev','ma80SMAdiffdiff_prev','ma80SMAdiff2_prev','ma80SMAclose_prev',atrperiod)\n",
    "#     stats1 = runstats_ma_v20(alltrades,'ma100SMAdiff_prev','ma100SMAdiffdiff_prev','ma100SMAdiff2_prev','ma100SMAclose_prev',atrperiod)\n",
    "#     stats1 = runstats_ma_v20(alltrades,'ma120SMAdiff_prev','ma120SMAdiffdiff_prev','ma120SMAdiff2_prev','ma120SMAclose_prev',atrperiod)\n",
    "#     stats1 = runstats_ma_v20(alltrades,'ma130SMAdiff_prev','ma130SMAdiffdiff_prev','ma130SMAdiff2_prev','ma130SMAclose_prev',atrperiod)\n",
    "#     stats1 = runstats_ma_v20(alltrades,'ma140SMAdiff_prev','ma140SMAdiffdiff_prev','ma140SMAdiff2_prev','ma140SMAclose_prev',atrperiod)\n",
    "#     stats1 = runstats_ma_v20(alltrades,'ma160SMAdiff_prev','ma160SMAdiffdiff_prev','ma160SMAdiff2_prev','ma160SMAclose_prev',atrperiod)\n"
   ]
  },
  {
   "cell_type": "code",
   "execution_count": null,
   "metadata": {},
   "outputs": [],
   "source": []
  },
  {
   "cell_type": "code",
   "execution_count": null,
   "metadata": {},
   "outputs": [],
   "source": []
  },
  {
   "cell_type": "code",
   "execution_count": null,
   "metadata": {},
   "outputs": [],
   "source": []
  },
  {
   "cell_type": "code",
   "execution_count": null,
   "metadata": {},
   "outputs": [],
   "source": []
  }
 ],
 "metadata": {
  "kernelspec": {
   "display_name": "Python 3 (ipykernel)",
   "language": "python",
   "name": "python3"
  },
  "language_info": {
   "codemirror_mode": {
    "name": "ipython",
    "version": 3
   },
   "file_extension": ".py",
   "mimetype": "text/x-python",
   "name": "python",
   "nbconvert_exporter": "python",
   "pygments_lexer": "ipython3",
   "version": "3.9.7"
  }
 },
 "nbformat": 4,
 "nbformat_minor": 2
}
