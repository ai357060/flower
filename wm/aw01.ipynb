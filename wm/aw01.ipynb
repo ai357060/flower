{
  "cells": [
    {
      "cell_type": "code",
      "execution_count": null,
      "metadata": {
        "id": "TBOh-GBoIwv-"
      },
      "outputs": [],
      "source": [
        "import os\n",
        "cwd = os.getcwd()\n",
        "if cwd[0:2] != \"C:\":\n",
        "    from google.colab import drive\n",
        "    drive.mount('/content/gdrive',force_remount=True)\n",
        "    %cd \"/content/gdrive/My Drive/Projects\"\n",
        "    !git clone https://github.com/ai357060/modelF.git\n",
        "    import sys\n",
        "    root_dir=\"/content/gdrive/My Drive/Projects/modelF\"\n",
        "    sys.path.append(root_dir)\n",
        "    %cd \"/content/gdrive/My Drive/Projects/modelF/wm\"\n",
        "    !git fetch --all\n",
        "    !git reset --hard origin/master"
      ]
    },
    {
      "cell_type": "code",
      "execution_count": null,
      "metadata": {
        "id": "qo63wRJuIwwB"
      },
      "outputs": [],
      "source": [
        "import os\n",
        "cwd = os.getcwd()\n",
        "if cwd[0:2] != \"C:\":\n",
        "    from google.colab import drive\n",
        "    drive.mount('/content/gdrive',force_remount=True)\n",
        "    %cd \"/content/gdrive/My Drive/Projects\"\n",
        "#     !git clone https://github.com/ai357060/modelF.git\n",
        "    import sys\n",
        "    root_dir=\"/content/gdrive/My Drive/Projects/modelF\"\n",
        "    sys.path.append(root_dir)\n",
        "    %cd \"/content/gdrive/My Drive/Projects/modelF/wm\"\n",
        "#     !git pull"
      ]
    },
    {
      "cell_type": "code",
      "execution_count": null,
      "metadata": {
        "id": "eY6CrgANIwwB"
      },
      "outputs": [],
      "source": [
        "import os\n",
        "import sys\n",
        "module_path = os.path.abspath(os.path.join('..'))\n",
        "if module_path not in sys.path:\n",
        "    sys.path.append(module_path)"
      ]
    },
    {
      "cell_type": "code",
      "execution_count": null,
      "metadata": {
        "id": "RpzfV71nIwwC"
      },
      "outputs": [],
      "source": [
        "import pandas as pd\n",
        "import numpy as np\n",
        "import datetime as dt\n",
        "import importlib\n",
        "import tradestats\n",
        "import pandas as pd\n",
        "from datetime import datetime"
      ]
    },
    {
      "cell_type": "code",
      "execution_count": null,
      "metadata": {
        "id": "d3z0tLEzIwwC"
      },
      "outputs": [],
      "source": [
        "from sklearn import datasets\n",
        "from sklearn.tree import DecisionTreeRegressor\n",
        "from sklearn.tree import DecisionTreeClassifier\n",
        "from sklearn import tree\n",
        "import graphviz"
      ]
    },
    {
      "cell_type": "code",
      "execution_count": null,
      "metadata": {
        "id": "1pf_EAHWIwwC"
      },
      "outputs": [],
      "source": [
        "importlib.reload(tradestats)\n",
        "from tradestats import *"
      ]
    },
    {
      "cell_type": "code",
      "execution_count": null,
      "metadata": {
        "id": "PnaXwgxtIwwC"
      },
      "outputs": [],
      "source": [
        "prices = loaddata_1D('AUDUSD_Candlestick_1_D_BID_03.08.2003-24.10.2021.csv')"
      ]
    },
    {
      "cell_type": "code",
      "execution_count": null,
      "metadata": {
        "id": "W1HUO-g-IwwD",
        "outputId": "b4189a15-e185-4b4c-a17b-35675aade52d"
      },
      "outputs": [
        {
          "name": "stderr",
          "output_type": "stream",
          "text": [
            "C:\\Users\\pioo\\notebooks\\wm\\tradestats.py:271: SettingWithCopyWarning: \n",
            "A value is trying to be set on a copy of a slice from a DataFrame.\n",
            "Try using .loc[row_indexer,col_indexer] = value instead\n",
            "\n",
            "See the caveats in the documentation: http://pandas.pydata.org/pandas-docs/stable/indexing.html#indexing-view-versus-copy\n",
            "  df['open_prev']  = prices['open'].shift(1)\n",
            "C:\\Users\\pioo\\notebooks\\wm\\tradestats.py:272: SettingWithCopyWarning: \n",
            "A value is trying to be set on a copy of a slice from a DataFrame.\n",
            "Try using .loc[row_indexer,col_indexer] = value instead\n",
            "\n",
            "See the caveats in the documentation: http://pandas.pydata.org/pandas-docs/stable/indexing.html#indexing-view-versus-copy\n",
            "  df['high_prev']  = prices['high'].shift(1)\n",
            "C:\\Users\\pioo\\notebooks\\wm\\tradestats.py:273: SettingWithCopyWarning: \n",
            "A value is trying to be set on a copy of a slice from a DataFrame.\n",
            "Try using .loc[row_indexer,col_indexer] = value instead\n",
            "\n",
            "See the caveats in the documentation: http://pandas.pydata.org/pandas-docs/stable/indexing.html#indexing-view-versus-copy\n",
            "  df['low_prev']   = prices['low'].shift(1)\n",
            "C:\\Users\\pioo\\notebooks\\wm\\tradestats.py:274: SettingWithCopyWarning: \n",
            "A value is trying to be set on a copy of a slice from a DataFrame.\n",
            "Try using .loc[row_indexer,col_indexer] = value instead\n",
            "\n",
            "See the caveats in the documentation: http://pandas.pydata.org/pandas-docs/stable/indexing.html#indexing-view-versus-copy\n",
            "  df['close_prev'] = prices['close'].shift(1)\n",
            "C:\\Users\\pioo\\notebooks\\wm\\tradestats.py:276: SettingWithCopyWarning: \n",
            "A value is trying to be set on a copy of a slice from a DataFrame.\n",
            "Try using .loc[row_indexer,col_indexer] = value instead\n",
            "\n",
            "See the caveats in the documentation: http://pandas.pydata.org/pandas-docs/stable/indexing.html#indexing-view-versus-copy\n",
            "  df['pa'] = 0\n",
            "C:\\Anaconda3\\lib\\site-packages\\pandas\\core\\indexing.py:543: SettingWithCopyWarning: \n",
            "A value is trying to be set on a copy of a slice from a DataFrame.\n",
            "Try using .loc[row_indexer,col_indexer] = value instead\n",
            "\n",
            "See the caveats in the documentation: http://pandas.pydata.org/pandas-docs/stable/indexing.html#indexing-view-versus-copy\n",
            "  self.obj[item] = s\n",
            "C:\\Users\\pioo\\notebooks\\wm\\tradestats.py:297: SettingWithCopyWarning: \n",
            "A value is trying to be set on a copy of a slice from a DataFrame.\n",
            "Try using .loc[row_indexer,col_indexer] = value instead\n",
            "\n",
            "See the caveats in the documentation: http://pandas.pydata.org/pandas-docs/stable/indexing.html#indexing-view-versus-copy\n",
            "  df['body'] = df.open-df.close\n",
            "C:\\Users\\pioo\\notebooks\\wm\\tradestats.py:298: SettingWithCopyWarning: \n",
            "A value is trying to be set on a copy of a slice from a DataFrame.\n",
            "Try using .loc[row_indexer,col_indexer] = value instead\n",
            "\n",
            "See the caveats in the documentation: http://pandas.pydata.org/pandas-docs/stable/indexing.html#indexing-view-versus-copy\n",
            "  df['body'] = df.body.abs()\n",
            "C:\\Users\\pioo\\notebooks\\wm\\tradestats.py:299: SettingWithCopyWarning: \n",
            "A value is trying to be set on a copy of a slice from a DataFrame.\n",
            "Try using .loc[row_indexer,col_indexer] = value instead\n",
            "\n",
            "See the caveats in the documentation: http://pandas.pydata.org/pandas-docs/stable/indexing.html#indexing-view-versus-copy\n",
            "  df['upwick'] = df.high-df[['open','close']].max(axis=1)\n"
          ]
        }
      ],
      "source": [
        "importlib.reload(tradestats)\n",
        "from tradestats import *\n",
        "paKey = [1]\n",
        "dictList = []\n",
        "colFeat = []\n",
        "keyList = []\n",
        "paDict   = priceaction(prices, paKey)\n",
        "dictList.append(paDict.df); colFeat.append('pa'); keyList.append(paKey)"
      ]
    },
    {
      "cell_type": "code",
      "execution_count": null,
      "metadata": {
        "id": "pJlEcJj8IwwE"
      },
      "outputs": [],
      "source": [
        "# prices.dropna(inplace=True)\n",
        "masterFrame = pd.DataFrame(index=prices.index)\n",
        "masterFrame[['id','year','month','day','date','weekday','open','high','low','close','volume']] = prices[['id','year','month','day','date','weekday','open','high','low','close','volume']]"
      ]
    },
    {
      "cell_type": "code",
      "execution_count": null,
      "metadata": {
        "id": "VaoA8-gOIwwE"
      },
      "outputs": [],
      "source": [
        "for i in range(0,len(dictList)):#iteracja po funkcjach\n",
        "    for j in keyList[i]: #iteracja po okresach\n",
        "        for k in list(dictList[i][j]): #iteracja po kolumnach danej funkcji w okresie\n",
        "            colID = colFeat[i] + str(j) + k\n",
        "            masterFrame[colID] = dictList[i][j][k]"
      ]
    },
    {
      "cell_type": "code",
      "execution_count": null,
      "metadata": {
        "id": "IbA9fmkAIwwE"
      },
      "outputs": [],
      "source": [
        "# masterFrame.to_csv(sep=';',path_or_buf='../Data/masterFrame.csv',date_format=\"%Y-%m-%d\",index = False,na_rep='')"
      ]
    },
    {
      "cell_type": "code",
      "execution_count": null,
      "metadata": {
        "scrolled": true,
        "id": "JA3wSMJTIwwF"
      },
      "outputs": [],
      "source": [
        "masterFrame = masterFrame.dropna()"
      ]
    },
    {
      "cell_type": "code",
      "execution_count": null,
      "metadata": {
        "id": "OeV0TQstIwwF",
        "outputId": "9952d8b4-5f10-4709-810f-200414e27e20"
      },
      "outputs": [
        {
          "data": {
            "text/html": [
              "<div>\n",
              "<style scoped>\n",
              "    .dataframe tbody tr th:only-of-type {\n",
              "        vertical-align: middle;\n",
              "    }\n",
              "\n",
              "    .dataframe tbody tr th {\n",
              "        vertical-align: top;\n",
              "    }\n",
              "\n",
              "    .dataframe thead th {\n",
              "        text-align: right;\n",
              "    }\n",
              "</style>\n",
              "<table border=\"1\" class=\"dataframe\">\n",
              "  <thead>\n",
              "    <tr style=\"text-align: right;\">\n",
              "      <th></th>\n",
              "      <th>id</th>\n",
              "      <th>year</th>\n",
              "      <th>month</th>\n",
              "      <th>day</th>\n",
              "      <th>date</th>\n",
              "      <th>weekday</th>\n",
              "      <th>open</th>\n",
              "      <th>high</th>\n",
              "      <th>low</th>\n",
              "      <th>close</th>\n",
              "      <th>volume</th>\n",
              "      <th>pa1pa</th>\n",
              "      <th>pa1body</th>\n",
              "      <th>pa1upwick</th>\n",
              "      <th>pa1downwick</th>\n",
              "    </tr>\n",
              "  </thead>\n",
              "  <tbody>\n",
              "    <tr>\n",
              "      <th>4748</th>\n",
              "      <td>4748</td>\n",
              "      <td>2021</td>\n",
              "      <td>10</td>\n",
              "      <td>18</td>\n",
              "      <td>2021-10-18 21:00:00</td>\n",
              "      <td>0</td>\n",
              "      <td>0.74146</td>\n",
              "      <td>0.74370</td>\n",
              "      <td>0.73781</td>\n",
              "      <td>0.74102</td>\n",
              "      <td>96688.34</td>\n",
              "      <td>0</td>\n",
              "      <td>0.00044</td>\n",
              "      <td>0.00224</td>\n",
              "      <td>0.00321</td>\n",
              "    </tr>\n",
              "    <tr>\n",
              "      <th>4749</th>\n",
              "      <td>4749</td>\n",
              "      <td>2021</td>\n",
              "      <td>10</td>\n",
              "      <td>19</td>\n",
              "      <td>2021-10-19 21:00:00</td>\n",
              "      <td>1</td>\n",
              "      <td>0.74080</td>\n",
              "      <td>0.74851</td>\n",
              "      <td>0.74074</td>\n",
              "      <td>0.74715</td>\n",
              "      <td>93228.11</td>\n",
              "      <td>3</td>\n",
              "      <td>0.00635</td>\n",
              "      <td>0.00136</td>\n",
              "      <td>0.00006</td>\n",
              "    </tr>\n",
              "    <tr>\n",
              "      <th>4750</th>\n",
              "      <td>4750</td>\n",
              "      <td>2021</td>\n",
              "      <td>10</td>\n",
              "      <td>20</td>\n",
              "      <td>2021-10-20 21:00:00</td>\n",
              "      <td>2</td>\n",
              "      <td>0.74715</td>\n",
              "      <td>0.75222</td>\n",
              "      <td>0.74647</td>\n",
              "      <td>0.75144</td>\n",
              "      <td>94912.55</td>\n",
              "      <td>0</td>\n",
              "      <td>0.00429</td>\n",
              "      <td>0.00078</td>\n",
              "      <td>0.00068</td>\n",
              "    </tr>\n",
              "    <tr>\n",
              "      <th>4751</th>\n",
              "      <td>4751</td>\n",
              "      <td>2021</td>\n",
              "      <td>10</td>\n",
              "      <td>21</td>\n",
              "      <td>2021-10-21 21:00:00</td>\n",
              "      <td>3</td>\n",
              "      <td>0.75128</td>\n",
              "      <td>0.75460</td>\n",
              "      <td>0.74581</td>\n",
              "      <td>0.74655</td>\n",
              "      <td>97404.62</td>\n",
              "      <td>-2</td>\n",
              "      <td>0.00473</td>\n",
              "      <td>0.00332</td>\n",
              "      <td>0.00074</td>\n",
              "    </tr>\n",
              "    <tr>\n",
              "      <th>4752</th>\n",
              "      <td>4752</td>\n",
              "      <td>2021</td>\n",
              "      <td>10</td>\n",
              "      <td>22</td>\n",
              "      <td>2021-10-22 21:00:00</td>\n",
              "      <td>4</td>\n",
              "      <td>0.74654</td>\n",
              "      <td>0.75118</td>\n",
              "      <td>0.74533</td>\n",
              "      <td>0.74631</td>\n",
              "      <td>123259.25</td>\n",
              "      <td>0</td>\n",
              "      <td>0.00023</td>\n",
              "      <td>0.00464</td>\n",
              "      <td>0.00098</td>\n",
              "    </tr>\n",
              "  </tbody>\n",
              "</table>\n",
              "</div>"
            ],
            "text/plain": [
              "        id  year  month  day                date  weekday     open     high  \\\n",
              "4748  4748  2021     10   18 2021-10-18 21:00:00        0  0.74146  0.74370   \n",
              "4749  4749  2021     10   19 2021-10-19 21:00:00        1  0.74080  0.74851   \n",
              "4750  4750  2021     10   20 2021-10-20 21:00:00        2  0.74715  0.75222   \n",
              "4751  4751  2021     10   21 2021-10-21 21:00:00        3  0.75128  0.75460   \n",
              "4752  4752  2021     10   22 2021-10-22 21:00:00        4  0.74654  0.75118   \n",
              "\n",
              "          low    close     volume  pa1pa  pa1body  pa1upwick  pa1downwick  \n",
              "4748  0.73781  0.74102   96688.34      0  0.00044    0.00224      0.00321  \n",
              "4749  0.74074  0.74715   93228.11      3  0.00635    0.00136      0.00006  \n",
              "4750  0.74647  0.75144   94912.55      0  0.00429    0.00078      0.00068  \n",
              "4751  0.74581  0.74655   97404.62     -2  0.00473    0.00332      0.00074  \n",
              "4752  0.74533  0.74631  123259.25      0  0.00023    0.00464      0.00098  "
            ]
          },
          "execution_count": 173,
          "metadata": {},
          "output_type": "execute_result"
        }
      ],
      "source": [
        "masterFrame.tail(5)"
      ]
    },
    {
      "cell_type": "code",
      "execution_count": null,
      "metadata": {
        "id": "ABQUCwfoIwwF"
      },
      "outputs": [],
      "source": []
    },
    {
      "cell_type": "code",
      "execution_count": null,
      "metadata": {
        "id": "WjLx4ZywIwwF",
        "outputId": "c7cc8041-b05a-4073-9937-eb6e341db379"
      },
      "outputs": [
        {
          "name": "stdout",
          "output_type": "stream",
          "text": [
            "-1\n",
            "-2\n",
            "-2\n",
            "-3\n",
            "-4\n",
            "-6\n",
            "-2\n",
            "-2\n",
            "-3\n",
            "-4\n",
            "-5\n",
            "-6\n",
            "-4\n",
            "-5\n",
            "-5\n",
            "-5\n",
            "-6\n",
            "-8\n",
            "-4\n",
            "-5\n",
            "-5\n",
            "-5\n",
            "-6\n",
            "-8\n",
            "-4\n",
            "-5\n",
            "-5\n",
            "-8\n",
            "-9\n",
            "-11\n",
            "-6\n",
            "-6\n",
            "-9\n",
            "-9\n",
            "-10\n",
            "-14\n",
            "0:00:19.117986\n"
          ]
        }
      ],
      "source": [
        "importlib.reload(tradestats)\n",
        "from tradestats import *\n",
        "starttime = datetime.now()\n",
        "# alltrades = preparetrades_brut_tsl(masterFrame,[1],[0.001,0.002,0.003,0.004,0.005,0.006],[0.001,0.002,0.003,0.004,0.005,0.006],[0.001,0.002,0.003,0.004,0.005,0.006],2016,2017)\n",
        "alltrades = preparetrades_brut_tp(masterFrame,[1],[0.001,0.002,0.003,0.004,0.005,0.006],[0.001,0.002,0.003,0.004,0.005,0.006],2016,2017)\n",
        "endtime = datetime.now()\n",
        "print(str(endtime - starttime))"
      ]
    },
    {
      "cell_type": "code",
      "execution_count": null,
      "metadata": {
        "id": "ZOs6ECCsIwwG"
      },
      "outputs": [],
      "source": [
        "importlib.reload(tradestats)\n",
        "from tradestats import *\n",
        "trades = cleartrades_brut(alltrades.copy(),True)\n",
        "# trades,alltrades = preparetrades(masterFrame,[-1,1],[5],[13],[0.002],True)"
      ]
    },
    {
      "cell_type": "code",
      "execution_count": null,
      "metadata": {
        "id": "AV1oOZtWIwwG",
        "outputId": "0174f2fc-9bb4-4d85-fd81-e913ebf2ff6c"
      },
      "outputs": [
        {
          "data": {
            "text/html": [
              "<div>\n",
              "<style scoped>\n",
              "    .dataframe tbody tr th:only-of-type {\n",
              "        vertical-align: middle;\n",
              "    }\n",
              "\n",
              "    .dataframe tbody tr th {\n",
              "        vertical-align: top;\n",
              "    }\n",
              "\n",
              "    .dataframe thead th {\n",
              "        text-align: right;\n",
              "    }\n",
              "</style>\n",
              "<table border=\"1\" class=\"dataframe\">\n",
              "  <thead>\n",
              "    <tr style=\"text-align: right;\">\n",
              "      <th></th>\n",
              "      <th>id</th>\n",
              "      <th>year</th>\n",
              "      <th>month</th>\n",
              "      <th>day</th>\n",
              "      <th>date</th>\n",
              "      <th>weekday</th>\n",
              "      <th>open</th>\n",
              "      <th>high</th>\n",
              "      <th>low</th>\n",
              "      <th>close</th>\n",
              "      <th>...</th>\n",
              "      <th>tp</th>\n",
              "      <th>stoploss</th>\n",
              "      <th>closeindex</th>\n",
              "      <th>tpcloseindex</th>\n",
              "      <th>closeprice</th>\n",
              "      <th>tpcloseprice</th>\n",
              "      <th>slindex</th>\n",
              "      <th>slprice</th>\n",
              "      <th>profit</th>\n",
              "      <th>profit1</th>\n",
              "    </tr>\n",
              "  </thead>\n",
              "  <tbody>\n",
              "    <tr>\n",
              "      <th>3242</th>\n",
              "      <td>3242</td>\n",
              "      <td>2016</td>\n",
              "      <td>1</td>\n",
              "      <td>4</td>\n",
              "      <td>2016-01-04 22:00:00</td>\n",
              "      <td>0</td>\n",
              "      <td>0.72836</td>\n",
              "      <td>0.73000</td>\n",
              "      <td>0.71556</td>\n",
              "      <td>0.71901</td>\n",
              "      <td>...</td>\n",
              "      <td>10.0</td>\n",
              "      <td>0.72736</td>\n",
              "      <td>3242.0</td>\n",
              "      <td>-1.0</td>\n",
              "      <td>0.72736</td>\n",
              "      <td>-1.0</td>\n",
              "      <td>3242.0</td>\n",
              "      <td>0.71556</td>\n",
              "      <td>-10.0</td>\n",
              "      <td>-1</td>\n",
              "    </tr>\n",
              "    <tr>\n",
              "      <th>3243</th>\n",
              "      <td>3243</td>\n",
              "      <td>2016</td>\n",
              "      <td>1</td>\n",
              "      <td>5</td>\n",
              "      <td>2016-01-05 22:00:00</td>\n",
              "      <td>1</td>\n",
              "      <td>0.71896</td>\n",
              "      <td>0.72143</td>\n",
              "      <td>0.71319</td>\n",
              "      <td>0.71591</td>\n",
              "      <td>...</td>\n",
              "      <td>10.0</td>\n",
              "      <td>0.71796</td>\n",
              "      <td>3243.0</td>\n",
              "      <td>-1.0</td>\n",
              "      <td>0.71796</td>\n",
              "      <td>-1.0</td>\n",
              "      <td>3243.0</td>\n",
              "      <td>0.71319</td>\n",
              "      <td>-10.0</td>\n",
              "      <td>-1</td>\n",
              "    </tr>\n",
              "  </tbody>\n",
              "</table>\n",
              "<p>2 rows × 29 columns</p>\n",
              "</div>"
            ],
            "text/plain": [
              "        id  year  month  day                date  weekday     open     high  \\\n",
              "3242  3242  2016      1    4 2016-01-04 22:00:00        0  0.72836  0.73000   \n",
              "3243  3243  2016      1    5 2016-01-05 22:00:00        1  0.71896  0.72143   \n",
              "\n",
              "          low    close  ...    tp  stoploss  closeindex  tpcloseindex  \\\n",
              "3242  0.71556  0.71901  ...  10.0   0.72736      3242.0          -1.0   \n",
              "3243  0.71319  0.71591  ...  10.0   0.71796      3243.0          -1.0   \n",
              "\n",
              "      closeprice  tpcloseprice  slindex  slprice  profit  profit1  \n",
              "3242     0.72736          -1.0   3242.0  0.71556   -10.0       -1  \n",
              "3243     0.71796          -1.0   3243.0  0.71319   -10.0       -1  \n",
              "\n",
              "[2 rows x 29 columns]"
            ]
          },
          "execution_count": 176,
          "metadata": {},
          "output_type": "execute_result"
        }
      ],
      "source": [
        "#____________________________________________________________________________________________________________________\n",
        "#\n",
        "#\n",
        "alltrades.head(2)"
      ]
    },
    {
      "cell_type": "code",
      "execution_count": null,
      "metadata": {
        "id": "_lwKlcimIwwG",
        "outputId": "d8702476-a5ae-4e26-ecd7-5d52f9945c5b"
      },
      "outputs": [
        {
          "name": "stdout",
          "output_type": "stream",
          "text": [
            "brut_2015_2021_3_\n",
            "allexecs:  36\n",
            "finish:         2021-11-01 20:13:22.676580\n",
            "duration:       0:00:01.335427\n"
          ]
        }
      ],
      "source": [
        "importlib.reload(tradestats)\n",
        "from tradestats import *\n",
        "stats1 = runstats_brut_v3(alltrades)"
      ]
    },
    {
      "cell_type": "code",
      "execution_count": null,
      "metadata": {
        "id": "uyMOUN0YIwwH"
      },
      "outputs": [],
      "source": []
    },
    {
      "cell_type": "code",
      "execution_count": null,
      "metadata": {
        "id": "kcJe-NBKIwwI"
      },
      "outputs": [],
      "source": []
    },
    {
      "cell_type": "code",
      "execution_count": null,
      "metadata": {
        "id": "_QWBmWw3IwwI"
      },
      "outputs": [],
      "source": []
    },
    {
      "cell_type": "code",
      "execution_count": null,
      "metadata": {
        "id": "C01xSLkXIwwI"
      },
      "outputs": [],
      "source": []
    }
  ],
  "metadata": {
    "kernelspec": {
      "display_name": "Python 3",
      "language": "python",
      "name": "python3"
    },
    "language_info": {
      "codemirror_mode": {
        "name": "ipython",
        "version": 3
      },
      "file_extension": ".py",
      "mimetype": "text/x-python",
      "name": "python",
      "nbconvert_exporter": "python",
      "pygments_lexer": "ipython3",
      "version": "3.7.3"
    },
    "colab": {
      "provenance": []
    }
  },
  "nbformat": 4,
  "nbformat_minor": 0
}