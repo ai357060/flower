{
 "cells": [
  {
   "cell_type": "code",
   "execution_count": 1,
   "metadata": {},
   "outputs": [],
   "source": [
    "import os\n",
    "cwd = os.getcwd()\n",
    "if cwd[0:2] != \"C:\":\n",
    "    from google.colab import drive\n",
    "    drive.mount('/content/gdrive',force_remount=True)\n",
    "    %cd \"/content/gdrive/My Drive/Projects\"\n",
    "    !git clone https://github.com/ai357060/modelF.git\n",
    "    import sys\n",
    "    root_dir=\"/content/gdrive/My Drive/Projects/modelF\"\n",
    "    sys.path.append(root_dir)\n",
    "    %cd \"/content/gdrive/My Drive/Projects/modelF/wm\"\n",
    "    !git fetch --all\n",
    "    !git reset --hard origin/master"
   ]
  },
  {
   "cell_type": "code",
   "execution_count": 2,
   "metadata": {},
   "outputs": [],
   "source": [
    "import os\n",
    "cwd = os.getcwd()\n",
    "if cwd[0:2] != \"C:\":\n",
    "    from google.colab import drive\n",
    "    drive.mount('/content/gdrive',force_remount=True)\n",
    "    %cd \"/content/gdrive/My Drive/Projects\"\n",
    "#     !git clone https://github.com/ai357060/modelF.git\n",
    "    import sys\n",
    "    root_dir=\"/content/gdrive/My Drive/Projects/modelF\"\n",
    "    sys.path.append(root_dir)\n",
    "    %cd \"/content/gdrive/My Drive/Projects/modelF/wm\"\n",
    "#     !git pull"
   ]
  },
  {
   "cell_type": "code",
   "execution_count": 3,
   "metadata": {},
   "outputs": [],
   "source": [
    "import os\n",
    "import sys\n",
    "module_path = os.path.abspath(os.path.join('..'))\n",
    "if module_path not in sys.path:\n",
    "    sys.path.append(module_path)"
   ]
  },
  {
   "cell_type": "code",
   "execution_count": 4,
   "metadata": {},
   "outputs": [],
   "source": [
    "import pandas as pd\n",
    "import numpy as np\n",
    "import datetime as dt\n",
    "import importlib\n",
    "import tradestats\n",
    "import pandas as pd\n",
    "from datetime import datetime"
   ]
  },
  {
   "cell_type": "code",
   "execution_count": 5,
   "metadata": {},
   "outputs": [],
   "source": [
    "from sklearn import datasets\n",
    "from sklearn.tree import DecisionTreeRegressor\n",
    "from sklearn.tree import DecisionTreeClassifier \n",
    "from sklearn import tree\n",
    "import graphviz"
   ]
  },
  {
   "cell_type": "code",
   "execution_count": 6,
   "metadata": {},
   "outputs": [],
   "source": [
    "importlib.reload(tradestats)\n",
    "from tradestats import *"
   ]
  },
  {
   "cell_type": "code",
   "execution_count": 7,
   "metadata": {},
   "outputs": [],
   "source": [
    "prices = loaddata_4h('AUDUSD_Candlestick_4_Hour_BID_03.08.2003-04.09.2021_EEF_GMT.csv')"
   ]
  },
  {
   "cell_type": "code",
   "execution_count": 8,
   "metadata": {},
   "outputs": [],
   "source": [
    "rsiKey = [13]\n",
    "tdiKey = [13]\n",
    "dictList = []\n",
    "colFeat = []\n",
    "keyList = []\n",
    "# rsiDict   = rsi(prices, rsiKey)\n",
    "tdiDict   = tdi1(prices, tdiKey)\n",
    "# dictList.append(rsiDict.df); colFeat.append('rsi'); keyList.append(rsiKey) \n",
    "dictList.append(tdiDict.df); colFeat.append('tdi'); keyList.append(tdiKey) "
   ]
  },
  {
   "cell_type": "code",
   "execution_count": 9,
   "metadata": {},
   "outputs": [],
   "source": [
    "# prices.dropna(inplace=True)\n",
    "masterFrame = pd.DataFrame(index=prices.index)\n",
    "masterFrame[['id','year','month','day','date','hour','weekday','open','high','low','close','volume']] = prices[['id','year','month','day','date','hour','weekday','open','high','low','close','volume']]   "
   ]
  },
  {
   "cell_type": "code",
   "execution_count": 10,
   "metadata": {},
   "outputs": [],
   "source": [
    "for i in range(0,len(dictList)):#iteracja po funkcjach\n",
    "    for j in keyList[i]: #iteracja po okresach\n",
    "        for k in list(dictList[i][j]): #iteracja po kolumnach danej funkcji w okresie\n",
    "            colID = colFeat[i] + str(j) + k\n",
    "            masterFrame[colID] = dictList[i][j][k]"
   ]
  },
  {
   "cell_type": "code",
   "execution_count": 11,
   "metadata": {},
   "outputs": [],
   "source": [
    "# masterFrame.to_csv(sep=';',path_or_buf='../Data/masterFrame.csv',date_format=\"%Y-%m-%d\",index = False,na_rep='')"
   ]
  },
  {
   "cell_type": "code",
   "execution_count": 12,
   "metadata": {
    "scrolled": true
   },
   "outputs": [],
   "source": [
    "masterFrame = masterFrame.dropna()"
   ]
  },
  {
   "cell_type": "code",
   "execution_count": 13,
   "metadata": {},
   "outputs": [],
   "source": [
    "# masterFrame.iloc[0:-50,:20]"
   ]
  },
  {
   "cell_type": "code",
   "execution_count": null,
   "metadata": {},
   "outputs": [],
   "source": []
  },
  {
   "cell_type": "code",
   "execution_count": 104,
   "metadata": {},
   "outputs": [
    {
     "name": "stdout",
     "output_type": "stream",
     "text": [
      "0:00:07.873137\n"
     ]
    }
   ],
   "source": [
    "importlib.reload(tradestats)\n",
    "from tradestats import *\n",
    "starttime = datetime.now()\n",
    "# trades,alltrades = preparetrades(masterFrame,[-1,1],[5],[13],[0.003],False)\n",
    "# trades,alltrades = preparetrades(masterFrame,[-1,1],[5,9],[13,17],[0.001,0.002,0.003,0.004,0.005,0.006],True)\n",
    "alltrades = preparetrades(masterFrame,[1],[5],[13],[0.001,0.002,0.003,0.004,0.005,0.006],2015,2021)\n",
    "trades = cleartrades(alltrades.copy(),True)\n",
    "# trades,alltrades = preparetrades(masterFrame,[-1,1],[5],[13],[0.002],True)\n",
    "endtime = datetime.now()\n",
    "print(str(endtime - starttime))"
   ]
  },
  {
   "cell_type": "code",
   "execution_count": 103,
   "metadata": {
    "scrolled": true
   },
   "outputs": [
    {
     "data": {
      "text/html": [
       "<div>\n",
       "<style scoped>\n",
       "    .dataframe tbody tr th:only-of-type {\n",
       "        vertical-align: middle;\n",
       "    }\n",
       "\n",
       "    .dataframe tbody tr th {\n",
       "        vertical-align: top;\n",
       "    }\n",
       "\n",
       "    .dataframe thead th {\n",
       "        text-align: right;\n",
       "    }\n",
       "</style>\n",
       "<table border=\"1\" class=\"dataframe\">\n",
       "  <thead>\n",
       "    <tr style=\"text-align: right;\">\n",
       "      <th></th>\n",
       "      <th>year</th>\n",
       "      <th>month</th>\n",
       "      <th>hour</th>\n",
       "      <th>tdi13rsi1</th>\n",
       "      <th>tdi13red1</th>\n",
       "      <th>tdi13green1</th>\n",
       "      <th>tdi13mid1</th>\n",
       "      <th>tdi13green1_red1</th>\n",
       "      <th>tdi13red2</th>\n",
       "      <th>tdi13green2</th>\n",
       "      <th>...</th>\n",
       "      <th>tdi13mid_slope</th>\n",
       "      <th>tdi13habarsize1</th>\n",
       "      <th>tdi13hacolor1</th>\n",
       "      <th>tdi13barnumber1</th>\n",
       "      <th>tdi13habarsize2</th>\n",
       "      <th>tradetype</th>\n",
       "      <th>sl</th>\n",
       "      <th>closehour</th>\n",
       "      <th>profit</th>\n",
       "      <th>profit1</th>\n",
       "    </tr>\n",
       "  </thead>\n",
       "  <tbody>\n",
       "    <tr>\n",
       "      <th>18473</th>\n",
       "      <td>2015</td>\n",
       "      <td>1</td>\n",
       "      <td>5</td>\n",
       "      <td>50.698531</td>\n",
       "      <td>54.161562</td>\n",
       "      <td>50.698531</td>\n",
       "      <td>54.236735</td>\n",
       "      <td>-3.463031</td>\n",
       "      <td>56.012807</td>\n",
       "      <td>50.698531</td>\n",
       "      <td>...</td>\n",
       "      <td>0.181345</td>\n",
       "      <td>0.0000</td>\n",
       "      <td>1</td>\n",
       "      <td>2</td>\n",
       "      <td>0.0000</td>\n",
       "      <td>1</td>\n",
       "      <td>10.0</td>\n",
       "      <td>13</td>\n",
       "      <td>0.0</td>\n",
       "      <td>-1</td>\n",
       "    </tr>\n",
       "    <tr>\n",
       "      <th>18479</th>\n",
       "      <td>2015</td>\n",
       "      <td>1</td>\n",
       "      <td>5</td>\n",
       "      <td>39.628409</td>\n",
       "      <td>45.833649</td>\n",
       "      <td>39.628409</td>\n",
       "      <td>53.960233</td>\n",
       "      <td>-6.205240</td>\n",
       "      <td>47.415095</td>\n",
       "      <td>39.206507</td>\n",
       "      <td>...</td>\n",
       "      <td>-0.296150</td>\n",
       "      <td>1.8875</td>\n",
       "      <td>1</td>\n",
       "      <td>1</td>\n",
       "      <td>-23.8125</td>\n",
       "      <td>1</td>\n",
       "      <td>10.0</td>\n",
       "      <td>13</td>\n",
       "      <td>-10.0</td>\n",
       "      <td>-1</td>\n",
       "    </tr>\n",
       "  </tbody>\n",
       "</table>\n",
       "<p>2 rows × 29 columns</p>\n",
       "</div>"
      ],
      "text/plain": [
       "       year  month  hour  tdi13rsi1  tdi13red1  tdi13green1  tdi13mid1  \\\n",
       "18473  2015      1     5  50.698531  54.161562    50.698531  54.236735   \n",
       "18479  2015      1     5  39.628409  45.833649    39.628409  53.960233   \n",
       "\n",
       "       tdi13green1_red1  tdi13red2  tdi13green2  ...  tdi13mid_slope  \\\n",
       "18473         -3.463031  56.012807    50.698531  ...        0.181345   \n",
       "18479         -6.205240  47.415095    39.206507  ...       -0.296150   \n",
       "\n",
       "       tdi13habarsize1  tdi13hacolor1  tdi13barnumber1  tdi13habarsize2  \\\n",
       "18473           0.0000              1                2           0.0000   \n",
       "18479           1.8875              1                1         -23.8125   \n",
       "\n",
       "       tradetype    sl  closehour  profit  profit1  \n",
       "18473          1  10.0         13     0.0       -1  \n",
       "18479          1  10.0         13   -10.0       -1  \n",
       "\n",
       "[2 rows x 29 columns]"
      ]
     },
     "execution_count": 103,
     "metadata": {},
     "output_type": "execute_result"
    }
   ],
   "source": [
    "#____________________________________________________________________________________________________________________\n",
    "#\n",
    "#\n",
    "trades.head(2)"
   ]
  },
  {
   "cell_type": "code",
   "execution_count": null,
   "metadata": {},
   "outputs": [],
   "source": [
    "X = trades.iloc[:, :-1].values\n",
    "feature_names = trades.columns[:-1]\n",
    "y = trades.iloc[:, -1:].values"
   ]
  },
  {
   "cell_type": "code",
   "execution_count": null,
   "metadata": {},
   "outputs": [],
   "source": [
    "# regr = DecisionTreeRegressor(min_samples_leaf=0.001,criterion='mse',max_depth=17, random_state=1234)\n",
    "# criterion{“mse”, “friedman_mse”, “mae”, “poisson”}, default=”mse”\n",
    "regr = DecisionTreeClassifier(min_samples_leaf=1,criterion='gini',max_depth=8, random_state=1234)\n",
    "# criterion{“gini”, “entropy”}, default=”gini”\n",
    "regr.fit(X, y)\n",
    "score = regr.score(X, y)\n",
    "print(score)"
   ]
  },
  {
   "cell_type": "code",
   "execution_count": null,
   "metadata": {},
   "outputs": [],
   "source": [
    "\"\"\"\n",
    "all features mse depth 8 leaf 0.05 =0,0049\n",
    "wyciąłem poniższe mse depth 8 leaf 0.05 =0,0043\n",
    "#     df['green1_red1'] = df.green1 - df.red1\n",
    "#     df['green2_red2'] = df.green2 - df.red2\n",
    "#     df['green_red_change'] = df.green1_red1 - df.green2_red2\n",
    "#     df['green_red_slope_change'] = df.green_slope - df.red_slope\n",
    "all features mse depth 8 leaf 0.1 =0.0028\n",
    "all features friedman_mse depth 8 leaf 0.05 =0.0049\n",
    "all features mse depth 8 leaf 0.03 = 0.0069\n",
    "all features mse depth 8 leaf 0.01 = 0.0074\n",
    "all features mse depth 8 leaf 1 = 0.048\n",
    "all features mse depth 9 leaf 1 = 0.051\n",
    "all features mse depth 15 leaf 1 = 0.11\n",
    "all features mse depth 15 leaf 0.001 = 0.054\n",
    "all features mse depth 15 leaf 0.05 = 0,028\n",
    "all features mse depth 5 leaf 0.05 = 0.0016\n",
    "\"\"\""
   ]
  },
  {
   "cell_type": "code",
   "execution_count": null,
   "metadata": {
    "scrolled": true
   },
   "outputs": [],
   "source": [
    "dd = pd.DataFrame()\n",
    "dd['f'] = feature_names.values\n",
    "dd['i'] = regr.feature_importances_\n",
    "dd.sort_values(by=['i'], ascending=False)"
   ]
  },
  {
   "cell_type": "code",
   "execution_count": null,
   "metadata": {},
   "outputs": [],
   "source": [
    "# text_representation = tree.export_text(regr)\n",
    "# print(text_representation)"
   ]
  },
  {
   "cell_type": "code",
   "execution_count": null,
   "metadata": {},
   "outputs": [],
   "source": [
    "from graphviz import Source\n",
    "from sklearn import tree\n",
    "graph = Source( tree.export_graphviz(regr, out_file=None, feature_names=feature_names,rounded = True, proportion = False, \n",
    "                 filled = True))\n",
    "graph.format = 'png'\n",
    "graph.render('dtree_render',view=True)"
   ]
  },
  {
   "cell_type": "code",
   "execution_count": null,
   "metadata": {},
   "outputs": [],
   "source": [
    "alltrades.head()"
   ]
  },
  {
   "cell_type": "code",
   "execution_count": 15,
   "metadata": {},
   "outputs": [],
   "source": [
    "importlib.reload(tradestats)\n",
    "from tradestats import *\n",
    "stats = stattrades(alltrades)"
   ]
  },
  {
   "cell_type": "code",
   "execution_count": null,
   "metadata": {
    "scrolled": true
   },
   "outputs": [],
   "source": [
    "stats.sort_values(\"profit_ratio\",ascending=False)"
   ]
  },
  {
   "cell_type": "code",
   "execution_count": null,
   "metadata": {},
   "outputs": [],
   "source": [
    "importlib.reload(tradestats)\n",
    "from tradestats import *\n",
    "\n",
    "tradetypes = [1]\n",
    "openhours = [5]\n",
    "closehours = [13]\n",
    "sls = [10]\n",
    "bar2froms = [-1000,-20,-10,0,10,20,1000]\n",
    "bar2tos = [-1000,-20,-10,0,10,20,1000]\n",
    "bar1froms = [-1000,-20,-10,0,10,20,1000]\n",
    "bar1tos =[-1000,-20,-10,0,10,20,1000]\n",
    "bar2froms = [-1000,1000]\n",
    "bar2tos = [-1000,1000]\n",
    "bar1froms = [-1000,1000]\n",
    "bar1tos =[-1000,1000]\n",
    "gr2froms = [-1000,-8,-3,0,3,8,1000]\n",
    "gr2tos = [-1000,-8,-3,0,3,8,1000]\n",
    "gr1froms = [-1000,-8,-3,0,3,8,1000]\n",
    "gr1tos = [-1000,-8,-3,0,3,8,1000]\n",
    "gr2froms = [-1000,-10,-8,-6,-4,-2,0,2,4,6,8,10,1000]\n",
    "gr2tos = [-1000,-10,-8,-6,-4,-2,0,2,4,6,8,10,1000]\n",
    "gr1froms = [-1000,-10,-8,-6,-4,-2,0,2,4,6,8,10,1000]\n",
    "gr1tos = [-1000,-10,-8,-6,-4,-2,0,2,4,6,8,10,1000]\n",
    "starttime = datetime.now()\n",
    "stats = stathyper(alltrades,tradetypes,openhours,closehours,sls,bar2froms,bar2tos,bar1froms,bar1tos,gr2froms,gr2tos,gr1froms,gr1tos)\n",
    "endtime = datetime.now()\n",
    "print(str(endtime - starttime))"
   ]
  },
  {
   "cell_type": "code",
   "execution_count": null,
   "metadata": {
    "scrolled": true
   },
   "outputs": [],
   "source": [
    "importlib.reload(tradestats)\n",
    "from tradestats import *\n",
    "\n",
    "params = {}\n",
    "\n",
    "params['tradetypes'] = [1]\n",
    "params['openhours'] = [5]\n",
    "params['closehours'] = [13]\n",
    "params['sls'] = [10]\n",
    "\n",
    "params['bar2froms'] = [-1000,-8,0,8,1000]\n",
    "params['bar2tos'] = [-1000,-8,0,8,1000]\n",
    "params['bar2froms'] = [-1000]\n",
    "params['bar2tos'] = [1000]\n",
    "\n",
    "params['bar1froms'] = [-1000,-8,0,8,1000]\n",
    "params['bar1tos'] =[-1000,-8,0,8,1000]\n",
    "# params['bar1froms'] = [-1000]\n",
    "# params['bar1tos'] =[1000]\n",
    "\n",
    "params['gr2froms'] = [-1000]\n",
    "params['gr2tos'] = [1000]\n",
    "\n",
    "params['gr1froms'] = [-1000,0,1000]\n",
    "params['gr1tos'] = [-1000,0,1000]\n",
    "# params['gr1froms'] = [-1000]\n",
    "# params['gr1tos'] = [1000]\n",
    "\n",
    "params['rslopefroms'] = [-1000,-3,0,3,1000]\n",
    "params['rslopetos'] = [-1000,-3,0,3,1000]\n",
    "\n",
    "params['gslopefroms'] = [-1000,-8,-3,0,3,8,1000]\n",
    "params['gslopetos'] = [-1000,-8,-3,0,3,8,1000]\n",
    "\n",
    "params['grcfroms'] = [-1000]\n",
    "params['grctos'] = [1000]\n",
    "\n",
    "params['redfroms'] = [0,40,60,100]\n",
    "params['redtos'] = [0,40,60,100]\n",
    "# params['redfroms'] = [0,100]\n",
    "# params['redtos'] = [0,100]\n",
    "\n",
    "params['barnofroms'] = [1]\n",
    "params['barnotos'] = [1,2,3,100]\n",
    "# params['barnofroms'] = [1,100]\n",
    "# params['barnotos'] = [1,100]\n",
    "\n",
    "params['crossfroms'] = [0,1]\n",
    "params['crosstos'] = [0,1]\n",
    "\n",
    "params['filename'] = '2015_2021_5_13_10'\n",
    "\n",
    "stats = stathyperparams(alltrades,params)"
   ]
  },
  {
   "cell_type": "code",
   "execution_count": null,
   "metadata": {},
   "outputs": [],
   "source": [
    "#######TEST########\n",
    "importlib.reload(tradestats)\n",
    "from tradestats import *\n",
    "\n",
    "params = {}\n",
    "\n",
    "params['tradetypes'] = [1]\n",
    "params['openhours'] = [5]\n",
    "params['closehours'] = [13]\n",
    "params['sls'] = [10]\n",
    "\n",
    "params['bar2froms'] = [-1000]\n",
    "params['bar2tos'] = [1000]\n",
    "\n",
    "params['bar1froms'] = [-1000]\n",
    "params['bar1tos'] =[1000]\n",
    "\n",
    "params['gr2froms'] = [-1000]\n",
    "params['gr2tos'] = [1000]\n",
    "\n",
    "params['gr1froms'] = [-1000]\n",
    "params['gr1tos'] = [1000]\n",
    "\n",
    "params['rslopefroms'] = [-1000,-3,0,3,1000]\n",
    "params['rslopetos'] = [-1000,-3,0,3,1000]\n",
    "\n",
    "params['gslopefroms'] = [-1000,-8,-3,0,3,8,1000]\n",
    "params['gslopetos'] = [-1000,-8,-3,0,3,8,1000]\n",
    "\n",
    "params['grcfroms'] = [-1000]\n",
    "params['grctos'] = [1000]\n",
    "\n",
    "params['redfroms'] = [0,100]\n",
    "params['redtos'] = [0,100]\n",
    "\n",
    "params['barnofroms'] = [1,100]\n",
    "params['barnotos'] = [1,100]\n",
    "\n",
    "params['crossfroms'] = [0,1]\n",
    "params['crosstos'] = [0,1]\n",
    "\n",
    "params['filename'] = '2015_2021_5_13_10'\n",
    "\n",
    "stats = stathyperparams(alltrades,params)"
   ]
  },
  {
   "cell_type": "code",
   "execution_count": null,
   "metadata": {},
   "outputs": [],
   "source": [
    "stats.sort_values(\"profit_sum\",ascending=False)"
   ]
  },
  {
   "cell_type": "code",
   "execution_count": null,
   "metadata": {},
   "outputs": [],
   "source": [
    "stats.to_csv(sep=';',path_or_buf='../Data/stats0.csv',date_format=\"%Y-%m-%d\",index = False,na_rep='')"
   ]
  }
 ],
 "metadata": {
  "kernelspec": {
   "display_name": "Python 3",
   "language": "python",
   "name": "python3"
  },
  "language_info": {
   "codemirror_mode": {
    "name": "ipython",
    "version": 3
   },
   "file_extension": ".py",
   "mimetype": "text/x-python",
   "name": "python",
   "nbconvert_exporter": "python",
   "pygments_lexer": "ipython3",
   "version": "3.7.3"
  }
 },
 "nbformat": 4,
 "nbformat_minor": 2
}
