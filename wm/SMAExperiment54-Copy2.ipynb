{
 "cells": [
  {
   "cell_type": "code",
   "execution_count": null,
   "metadata": {},
   "outputs": [],
   "source": [
    "fetch = False\n",
    "# fetch = True"
   ]
  },
  {
   "cell_type": "code",
   "execution_count": null,
   "metadata": {},
   "outputs": [],
   "source": [
    "import os\n",
    "cwd = os.getcwd()\n",
    "if ((cwd[0:2] != \"C:\")&(fetch==True)):\n",
    "    from google.colab import drive\n",
    "    drive.mount('/content/gdrive',force_remount=True)\n",
    "    %cd \"/content/gdrive/My Drive/Projects\"\n",
    "    !git clone https://github.com/ai357060/modelF.git\n",
    "    import sys\n",
    "    root_dir=\"/content/gdrive/My Drive/Projects/modelF\"\n",
    "    sys.path.append(root_dir)\n",
    "    %cd \"/content/gdrive/My Drive/Projects/modelF/wm\"\n",
    "    !git fetch --all\n",
    "    !git reset --hard origin/master"
   ]
  },
  {
   "cell_type": "code",
   "execution_count": null,
   "metadata": {},
   "outputs": [],
   "source": [
    "import os\n",
    "cwd = os.getcwd()\n",
    "if ((cwd[0:2] != \"C:\")&(fetch==False)):\n",
    "    from google.colab import drive\n",
    "    drive.mount('/content/gdrive',force_remount=True)\n",
    "    %cd \"/content/gdrive/My Drive/Projects\"\n",
    "    import sys\n",
    "    root_dir=\"/content/gdrive/My Drive/Projects/modelF\"\n",
    "    sys.path.append(root_dir)\n",
    "    %cd \"/content/gdrive/My Drive/Projects/modelF/wm\""
   ]
  },
  {
   "cell_type": "code",
   "execution_count": null,
   "metadata": {},
   "outputs": [],
   "source": [
    "import os\n",
    "import sys\n",
    "module_path = os.path.abspath(os.path.join('..'))\n",
    "if module_path not in sys.path:\n",
    "    sys.path.append(module_path)"
   ]
  },
  {
   "cell_type": "code",
   "execution_count": null,
   "metadata": {},
   "outputs": [],
   "source": [
    "import pandas as pd\n",
    "import numpy as np\n",
    "import datetime as dt\n",
    "import importlib\n",
    "import tradestats\n",
    "import pandas as pd\n",
    "from datetime import datetime\n",
    "importlib.reload(tradestats)\n",
    "from tradestats import *"
   ]
  },
  {
   "cell_type": "code",
   "execution_count": null,
   "metadata": {},
   "outputs": [],
   "source": [
    "prices = loaddata_1D('AUDUSD_Candlestick_1_D_BID_03.08.2003-24.10.2021.csv')\n",
    "pricesASK = loaddata_1D('AUDUSD_Candlestick_1_D_ASK_03.08.2003-24.10.2021.csv')\n",
    "prices['openASK'] = pricesASK.open\n",
    "prices['highASK'] = pricesASK.high\n",
    "prices['lowASK'] = pricesASK.low\n",
    "prices['closeASK'] = pricesASK.close"
   ]
  },
  {
   "cell_type": "code",
   "execution_count": null,
   "metadata": {},
   "outputs": [],
   "source": [
    "len(prices)"
   ]
  },
  {
   "cell_type": "code",
   "execution_count": null,
   "metadata": {},
   "outputs": [],
   "source": [
    "dictList = []\n",
    "colFeat = []\n",
    "keyList = []\n",
    "\n",
    "maKey  = [3,5,7,30,35,40,45,60,80,100,120,140,160]\n",
    "atrKey = [5,10,20]\n",
    "rsiKey = [5,10,15,20]\n",
    "\n",
    "maDict   = ma3(prices, maKey,3,5,7)\n",
    "atrDict  = atr(prices, atrKey)\n",
    "rsiDict  = rsi(prices,rsiKey)\n",
    "\n",
    "dictList.append(maDict.df); colFeat.append('ma'); keyList.append(maKey) \n",
    "dictList.append(atrDict.df); colFeat.append('atr'); keyList.append(atrKey) \n",
    "dictList.append(rsiDict.df); colFeat.append('rsi'); keyList.append(rsiKey) \n",
    "\n",
    "tt = [-1]\n",
    "sl = [0.7,1.0,1.3,1.6,1.9,2.2]\n",
    "tp = [0.7,1.0,1.3,1.6,1.9,2.2]\n",
    "tsl = [0,0.5,0.7,0.9]\n",
    "# tsl = [0]\n",
    "\n",
    "atrperiod = 'atr10atr_prev'\n",
    "savetrades = False"
   ]
  },
  {
   "cell_type": "code",
   "execution_count": null,
   "metadata": {},
   "outputs": [],
   "source": [
    "# prices.dropna(inplace=True)\n",
    "masterFrame = pd.DataFrame(index=prices.index)\n",
    "masterFrame[['id','year','month','day','date','weekday','open','high','low','close','openASK','highASK','lowASK','closeASK','volume']] = prices[['id','year','month','day','date','weekday','open','high','low','close','openASK','highASK','lowASK','closeASK','volume']]   "
   ]
  },
  {
   "cell_type": "code",
   "execution_count": null,
   "metadata": {},
   "outputs": [],
   "source": [
    "for i in range(0,len(dictList)):#iteracja po funkcjach\n",
    "    for j in keyList[i]: #iteracja po okresach\n",
    "        for k in list(dictList[i][j]): #iteracja po kolumnach danej funkcji w okresie\n",
    "            colID = colFeat[i] + str(j) + k\n",
    "            masterFrame[colID] = dictList[i][j][k]"
   ]
  },
  {
   "cell_type": "code",
   "execution_count": null,
   "metadata": {},
   "outputs": [],
   "source": [
    "# masterFrame.to_csv(sep=';',path_or_buf='../Data/masterFrame.csv',date_format=\"%Y-%m-%d\",index = False,na_rep='')"
   ]
  },
  {
   "cell_type": "code",
   "execution_count": null,
   "metadata": {
    "scrolled": true
   },
   "outputs": [],
   "source": [
    "masterFrame = masterFrame.dropna()"
   ]
  },
  {
   "cell_type": "code",
   "execution_count": null,
   "metadata": {},
   "outputs": [],
   "source": [
    "starttime = datetime.now()\n",
    "# alltrades = preparetrades_brut_tsl(masterFrame,[1],[0.001,0.002,0.003,0.004,0.005,0.006],[0.001,0.002,0.003,0.004,0.005,0.006],[0.001,0.002,0.003,0.004,0.005,0.006],2015,2021)\n",
    "# alltrades = preparetrades_brut_tp(masterFrame,[1],[0.003,0.004,0.005,0.006,0.007,0.008,0.009,0.01],[0.003,0.004,0.005,0.006,0.007,0.008,0.009,0.01],2003,2021)\n",
    "# alltrades = preparetrades_brut_tp(masterFrame,[-1,1],[0.5],[0.9],2020,2021,atrperiod)\n",
    "# alltrades = preparetrades_brut_tp(masterFrame,[-1],[0.3,0.4,0.5,0.6,0.7,0.8,0.9],[0.6,0.7,0.8,0.9,1,1.1,1.2,1.3,1.4,1.5],2003,2021,atrperiod)\n",
    "# alltrades = preparetrades_brut_tp(masterFrame,[1],[1,1.2,1.4,1.6,1.8,2,2.2],[1.2,1.4,1.6,1.8,2,2.2,2.4,2.6,2.8,3,3.2],2003,2021,atrperiod)\n",
    "alltrades = preparetrades_brut_tsl(masterFrame,tt,sl,tp,tsl,2003,2021,atrperiod)\n",
    "# alltrades = preparetrades_brut_tsl(masterFrame,[1],sl,tp,tsl,2003,2021,atrperiod)\n",
    "# alltrades = preparetrades_brut_tp(masterFrame,[-1],[0.003,0.004,0.005,0.006,0.007,0.008,0.009,0.01],[0.006,0.007,0.008,0.009,0.01,0.011,0.012,0.013,0.014,0.015],2003,2021,atrperiod)\n",
    "# alltrades = preparetrades_brut_tp(masterFrame,[-1],[0.003,0.004,0.005,0.006,0.007,0.008,0.01,0.012,0.014],[0.003,0.004,0.005,0.006,0.007,0.008,0.01,0.012,0.014],2003,2021,atrperiod)\n",
    "endtime = datetime.now()\n",
    "print(str(endtime - starttime))"
   ]
  },
  {
   "cell_type": "code",
   "execution_count": null,
   "metadata": {},
   "outputs": [],
   "source": [
    "trades = cleartrades_brut(alltrades.copy(),savetrades)"
   ]
  },
  {
   "cell_type": "code",
   "execution_count": null,
   "metadata": {},
   "outputs": [],
   "source": [
    "def runstats(alltrades,ma1,atrperiod,tt,sl,tp,tsl,ma2t,rsit):\n",
    "    for i in range(0,len(ma2t)):\n",
    "        for j in range(0,len(rsit)):\n",
    "            ma2=str(ma2t[i])\n",
    "            rsi=str(rsit[j])            \n",
    "            stats = runstats_ma(alltrades,'ma'+ma1+'SMAdiffseq_prev', 'ma'+ma1+'SMAvs'+ma2+'_prev', 'ma'+ma2+'SMAdiffseq_prev', 'rsi'+rsi+'rsidiffseq_prev', 'rsi'+rsi+'rsi_prev', atrperiod,tt,sl,tp,tsl,'x1')\n",
    "\n",
    "    return stats\n",
    "\n",
    "def runstats_ma(alltrades,a,sv,aa,aaa,bbb,atr,tt=[],sl=[],tp=[],tsl=[],ff=''):\n",
    "    conf   = {}\n",
    "    params = {}\n",
    "    \n",
    "    params['tradetype'] = [2,tt]\n",
    "    params['sl'] =        [2,sl]\n",
    "    params['tp'] =        [2,tp]\n",
    "    params['tsl'] =       [2,tsl]\n",
    "    params[atr]  =        [3,[-1000],[0.015]]\n",
    "    params[a]    =        [1,[1,2,3,4]]\n",
    "    params[sv]    =       [0,[-1000],[1000]]\n",
    "    params[aa]   =        [1,[1,2,3,4]]\n",
    "    params[aaa]    =      [3,[-1000,0,-1000],[0,1000,1000]]\n",
    "    params[bbb]    =      [0,[70,60,50,40,30,0],[30,40,50,60,70,100]]\n",
    "\n",
    "    conf['filename'] =    'ma_54_2003_2021_1_'+atr+'_'+sv+bbb\n",
    "    print(conf['filename'])\n",
    "    stats = stathyperparams2(alltrades,params,conf)\n",
    "    return stats"
   ]
  },
  {
   "cell_type": "code",
   "execution_count": null,
   "metadata": {},
   "outputs": [],
   "source": [
    "# runstats(alltrades,'30',atrperiod,tt,sl,tp,tsl,[3,5],[15])\n",
    "# runstats(alltrades,'35',atrperiod,tt,sl,tp,tsl,[3,5],[15])\n",
    "# runstats(alltrades,'40',atrperiod,tt,sl,tp,tsl,[3,5],[15])\n",
    "# runstats(alltrades,'45',atrperiod,tt,sl,tp,tsl,[3,5],[15])\n",
    "# runstats(alltrades,'60',atrperiod,tt,sl,tp,tsl,[3,5],[15])\n",
    "# runstats(alltrades,'80',atrperiod,tt,sl,tp,tsl,[3,5],[15])\n",
    "# runstats(alltrades,'100',atrperiod,tt,sl,tp,tsl,[3,5],[15])\n",
    "# runstats(alltrades,'120',atrperiod,tt,sl,tp,tsl,[3,5],[15])\n",
    "# runstats(alltrades,'140',atrperiod,tt,sl,tp,tsl,[3,5],[15])\n",
    "# runstats(alltrades,'160',atrperiod,tt,sl,tp,tsl,[3,5],[15])\n",
    "\n",
    "    \n",
    "\n",
    "# [3,5,7,30,35,40,45,60,80,100,120,140,160]\n"
   ]
  },
  {
   "cell_type": "code",
   "execution_count": null,
   "metadata": {},
   "outputs": [],
   "source": [
    "# fxs = [\n",
    "# '{\"tradetype\": [2, 1], \"sl\": [2, 0.65], \"tp\": [2, 0.75], \"tsl\": [2, 0], \"atr20atr_prev\": [3, -1000, 0.015], \"ma40SMAdiffseq_prev\": [0, 3, 1000], \"ma40SMAvs5_prev\": [0, 0, 1000], \"ma5SMAdiffdiff_prev\": [0, -1000, 0], \"rsi15rsidiffseq_prev\": [0, -5, 3], \"rsi15rsi_prev\": [0, 30, 100]}'\n",
    "# ]    \n",
    "# sub = calcandplot(alltrades,fxs) "
   ]
  },
  {
   "cell_type": "code",
   "execution_count": null,
   "metadata": {},
   "outputs": [],
   "source": []
  }
 ],
 "metadata": {
  "kernelspec": {
   "display_name": "Python 3 (ipykernel)",
   "language": "python",
   "name": "python3"
  },
  "language_info": {
   "codemirror_mode": {
    "name": "ipython",
    "version": 3
   },
   "file_extension": ".py",
   "mimetype": "text/x-python",
   "name": "python",
   "nbconvert_exporter": "python",
   "pygments_lexer": "ipython3",
   "version": "3.9.7"
  }
 },
 "nbformat": 4,
 "nbformat_minor": 2
}
