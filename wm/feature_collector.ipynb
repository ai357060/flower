{
 "cells": [
  {
   "cell_type": "code",
   "execution_count": 1,
   "metadata": {},
   "outputs": [],
   "source": [
    "import os\n",
    "import sys\n",
    "module_path = os.path.abspath(os.path.join('..'))\n",
    "if module_path not in sys.path:\n",
    "    sys.path.append(module_path)"
   ]
  },
  {
   "cell_type": "code",
   "execution_count": 2,
   "metadata": {},
   "outputs": [],
   "source": [
    "import pandas as pd\n",
    "import numpy as np\n",
    "import datetime as dt\n",
    "import importlib\n",
    "import feature_functions\n",
    "from feature_functions import *"
   ]
  },
  {
   "cell_type": "code",
   "execution_count": 3,
   "metadata": {},
   "outputs": [],
   "source": [
    "importlib.reload(feature_functions)\n",
    "from feature_functions import *"
   ]
  },
  {
   "cell_type": "code",
   "execution_count": 52,
   "metadata": {},
   "outputs": [],
   "source": [
    "# prices = loaddata_nodateindex('UJ_Candlestick_1_D_BID_04.05.2003-25.04.2019.csv')\n",
    "# prices = loaddata_nodateindex('AUDUSD_Candlestick_1_D_BID_03.08.2003-27.02.2021.csv')\n",
    "# prices = loaddata_nodateindex('EURUSD_Candlestick_1_D_BID_04.05.2003-27.02.2021.csv')\n",
    "# prices = loaddata_nodateindex('GBPUSD_Candlestick_1_D_BID_04.05.2003-27.02.2021.csv')\n",
    "# prices = loaddata_nodateindex('NZDUSD_Candlestick_1_D_BID_03.08.2003-27.02.2021.csv')\n",
    "# prices = loaddata_nodateindex('USDCAD_Candlestick_1_D_BID_03.08.2003-27.02.2021.csv')\n",
    "# prices = loaddata_nodateindex('USDCHF_Candlestick_1_D_BID_04.05.2003-27.02.2021.csv')\n",
    "prices = loaddata_nodateindex('USDJPY_Candlestick_1_D_BID_04.05.2003-27.02.2021.csv')\n",
    "# prices = loaddata_nodateindex('input.csv')#testowo"
   ]
  },
  {
   "cell_type": "code",
   "execution_count": 15,
   "metadata": {},
   "outputs": [],
   "source": [
    "#prices = loaddata('USDJPY1440.csv')"
   ]
  },
  {
   "cell_type": "code",
   "execution_count": 16,
   "metadata": {},
   "outputs": [],
   "source": [
    "# prices = prices[-24:]"
   ]
  },
  {
   "cell_type": "code",
   "execution_count": 17,
   "metadata": {},
   "outputs": [],
   "source": [
    "# prices = prices[:300]"
   ]
  },
  {
   "cell_type": "code",
   "execution_count": 53,
   "metadata": {},
   "outputs": [],
   "source": [
    "momentumKey   = [3,4,5,8,9,10] #price bias: close, open; 'open','close','open_pct','close_pct'\n",
    "stochasticKey = [3,4,5,8,9,10] # 'C','H','L','K','D','HistKD'; K_slopes,HistKD_slope\n",
    "williamsKey   = [6,7,8,9,10] # 'C','H','L','R'\n",
    "procKey       = [2,12,13,14,15] #'close_pct'\n",
    "wadlKey       = [2,15]  #w oryginale definicji funkcji jest 2; czyli bierze pod uwagę tylko poprzeni bar, \n",
    "                        #według dokumentu podali 15                        #price bias: wad   \n",
    "                        # 'wad', 'wad_slopes'\n",
    "# adoscKey      = [1,2,3,4,5] #'C','H','L','ADL','ADL3','ADL10','Chaikin', ADL_slopy,Chaikin_slopy\n",
    "macdKey       = [15] #price bias: MACD, SigMACD, histMACD; MACD_slopy,histMACD_slopy\n",
    "cciKey        = [15] #'tp','tpmean','tpstd','cci', cci_slopy\n",
    "bollingerKey  = [15] #price bias: mid, upper, lower ,histmid,histupper,histlower,slopy:histmid,histupper,histlower\n",
    "heikenashiKey = [2,15] #price bias: HAopen, HAhigh, HAlow, HAclose; 4 slopy \n",
    "paverageKey   = [2] #price bias: avg_open,avg_high, avg_low, avg_close; avg_close_slopy\n",
    "slopeKey      = [3,4,5,10,20,30] # slopy na close, high, low\n",
    "fourierKey    = [10,20,30]\n",
    "sineKey       = [5,6]\n",
    "garchKey      = [15,50,150]\n",
    "atrKey        = [14]\n",
    "histD1Key     = [30]\n",
    "histW1Key     = [30]\n",
    "histM1Key     = [30]\n",
    "\n",
    "#keyList = [momentumKey,stochasticKey,williamsKey,procKey,wadlKey,adoscKey,macdKey,cciKey,bollingerKey,heikenashiKey,\n",
    "#           paverageKey,slopeKey,fourierKey,sineKey,garchKey,atrKey]\n",
    "dictList = []\n",
    "colFeat = []\n",
    "keyList = []\n",
    "debug = True"
   ]
  },
  {
   "cell_type": "code",
   "execution_count": 6,
   "metadata": {
    "collapsed": true
   },
   "outputs": [
    {
     "name": "stdout",
     "output_type": "stream",
     "text": [
      "1\n",
      "2\n",
      "3\n",
      "4\n",
      "5\n",
      "7\n",
      "8\n",
      "9\n",
      "11\n",
      "12\n",
      "13\n",
      "14\n",
      "15\n"
     ]
    },
    {
     "name": "stderr",
     "output_type": "stream",
     "text": [
      "C:\\Anaconda3\\lib\\site-packages\\arch\\univariate\\base.py:605: ConvergenceWarning: The optimizer returned code 8. The message is:\n",
      "Positive directional derivative for linesearch\n",
      "See scipy.optimize.fmin_slsqp for code meaning.\n",
      "\n",
      "  ConvergenceWarning)\n",
      "C:\\Anaconda3\\lib\\site-packages\\arch\\univariate\\base.py:605: ConvergenceWarning: The optimizer returned code 8. The message is:\n",
      "Positive directional derivative for linesearch\n",
      "See scipy.optimize.fmin_slsqp for code meaning.\n",
      "\n",
      "  ConvergenceWarning)\n",
      "C:\\Anaconda3\\lib\\site-packages\\arch\\univariate\\base.py:605: ConvergenceWarning: The optimizer returned code 8. The message is:\n",
      "Positive directional derivative for linesearch\n",
      "See scipy.optimize.fmin_slsqp for code meaning.\n",
      "\n",
      "  ConvergenceWarning)\n",
      "C:\\Anaconda3\\lib\\site-packages\\arch\\univariate\\base.py:605: ConvergenceWarning: The optimizer returned code 8. The message is:\n",
      "Positive directional derivative for linesearch\n",
      "See scipy.optimize.fmin_slsqp for code meaning.\n",
      "\n",
      "  ConvergenceWarning)\n",
      "C:\\Anaconda3\\lib\\site-packages\\arch\\univariate\\base.py:605: ConvergenceWarning: The optimizer returned code 8. The message is:\n",
      "Positive directional derivative for linesearch\n",
      "See scipy.optimize.fmin_slsqp for code meaning.\n",
      "\n",
      "  ConvergenceWarning)\n",
      "C:\\Anaconda3\\lib\\site-packages\\arch\\univariate\\base.py:605: ConvergenceWarning: The optimizer returned code 8. The message is:\n",
      "Positive directional derivative for linesearch\n",
      "See scipy.optimize.fmin_slsqp for code meaning.\n",
      "\n",
      "  ConvergenceWarning)\n",
      "C:\\Anaconda3\\lib\\site-packages\\arch\\univariate\\base.py:605: ConvergenceWarning: The optimizer returned code 8. The message is:\n",
      "Positive directional derivative for linesearch\n",
      "See scipy.optimize.fmin_slsqp for code meaning.\n",
      "\n",
      "  ConvergenceWarning)\n",
      "C:\\Anaconda3\\lib\\site-packages\\arch\\univariate\\base.py:605: ConvergenceWarning: The optimizer returned code 8. The message is:\n",
      "Positive directional derivative for linesearch\n",
      "See scipy.optimize.fmin_slsqp for code meaning.\n",
      "\n",
      "  ConvergenceWarning)\n",
      "C:\\Anaconda3\\lib\\site-packages\\arch\\univariate\\base.py:605: ConvergenceWarning: The optimizer returned code 8. The message is:\n",
      "Positive directional derivative for linesearch\n",
      "See scipy.optimize.fmin_slsqp for code meaning.\n",
      "\n",
      "  ConvergenceWarning)\n",
      "C:\\Anaconda3\\lib\\site-packages\\arch\\univariate\\base.py:605: ConvergenceWarning: The optimizer returned code 8. The message is:\n",
      "Positive directional derivative for linesearch\n",
      "See scipy.optimize.fmin_slsqp for code meaning.\n",
      "\n",
      "  ConvergenceWarning)\n",
      "C:\\Anaconda3\\lib\\site-packages\\arch\\univariate\\base.py:605: ConvergenceWarning: The optimizer returned code 8. The message is:\n",
      "Positive directional derivative for linesearch\n",
      "See scipy.optimize.fmin_slsqp for code meaning.\n",
      "\n",
      "  ConvergenceWarning)\n",
      "C:\\Anaconda3\\lib\\site-packages\\arch\\univariate\\base.py:605: ConvergenceWarning: The optimizer returned code 8. The message is:\n",
      "Positive directional derivative for linesearch\n",
      "See scipy.optimize.fmin_slsqp for code meaning.\n",
      "\n",
      "  ConvergenceWarning)\n",
      "C:\\Anaconda3\\lib\\site-packages\\arch\\univariate\\base.py:605: ConvergenceWarning: The optimizer returned code 8. The message is:\n",
      "Positive directional derivative for linesearch\n",
      "See scipy.optimize.fmin_slsqp for code meaning.\n",
      "\n",
      "  ConvergenceWarning)\n",
      "C:\\Anaconda3\\lib\\site-packages\\arch\\univariate\\base.py:605: ConvergenceWarning: The optimizer returned code 8. The message is:\n",
      "Positive directional derivative for linesearch\n",
      "See scipy.optimize.fmin_slsqp for code meaning.\n",
      "\n",
      "  ConvergenceWarning)\n",
      "C:\\Anaconda3\\lib\\site-packages\\arch\\univariate\\base.py:605: ConvergenceWarning: The optimizer returned code 8. The message is:\n",
      "Positive directional derivative for linesearch\n",
      "See scipy.optimize.fmin_slsqp for code meaning.\n",
      "\n",
      "  ConvergenceWarning)\n",
      "C:\\Anaconda3\\lib\\site-packages\\arch\\univariate\\base.py:605: ConvergenceWarning: The optimizer returned code 8. The message is:\n",
      "Positive directional derivative for linesearch\n",
      "See scipy.optimize.fmin_slsqp for code meaning.\n",
      "\n",
      "  ConvergenceWarning)\n",
      "C:\\Anaconda3\\lib\\site-packages\\arch\\univariate\\base.py:605: ConvergenceWarning: The optimizer returned code 8. The message is:\n",
      "Positive directional derivative for linesearch\n",
      "See scipy.optimize.fmin_slsqp for code meaning.\n",
      "\n",
      "  ConvergenceWarning)\n",
      "C:\\Anaconda3\\lib\\site-packages\\arch\\univariate\\base.py:605: ConvergenceWarning: The optimizer returned code 8. The message is:\n",
      "Positive directional derivative for linesearch\n",
      "See scipy.optimize.fmin_slsqp for code meaning.\n",
      "\n",
      "  ConvergenceWarning)\n",
      "C:\\Anaconda3\\lib\\site-packages\\arch\\univariate\\base.py:605: ConvergenceWarning: The optimizer returned code 8. The message is:\n",
      "Positive directional derivative for linesearch\n",
      "See scipy.optimize.fmin_slsqp for code meaning.\n",
      "\n",
      "  ConvergenceWarning)\n",
      "C:\\Anaconda3\\lib\\site-packages\\arch\\univariate\\base.py:605: ConvergenceWarning: The optimizer returned code 8. The message is:\n",
      "Positive directional derivative for linesearch\n",
      "See scipy.optimize.fmin_slsqp for code meaning.\n",
      "\n",
      "  ConvergenceWarning)\n",
      "C:\\Anaconda3\\lib\\site-packages\\arch\\univariate\\base.py:605: ConvergenceWarning: The optimizer returned code 8. The message is:\n",
      "Positive directional derivative for linesearch\n",
      "See scipy.optimize.fmin_slsqp for code meaning.\n",
      "\n",
      "  ConvergenceWarning)\n",
      "C:\\Anaconda3\\lib\\site-packages\\arch\\univariate\\base.py:605: ConvergenceWarning: The optimizer returned code 8. The message is:\n",
      "Positive directional derivative for linesearch\n",
      "See scipy.optimize.fmin_slsqp for code meaning.\n",
      "\n",
      "  ConvergenceWarning)\n",
      "C:\\Anaconda3\\lib\\site-packages\\arch\\univariate\\base.py:605: ConvergenceWarning: The optimizer returned code 8. The message is:\n",
      "Positive directional derivative for linesearch\n",
      "See scipy.optimize.fmin_slsqp for code meaning.\n",
      "\n",
      "  ConvergenceWarning)\n",
      "C:\\Anaconda3\\lib\\site-packages\\arch\\univariate\\base.py:605: ConvergenceWarning: The optimizer returned code 8. The message is:\n",
      "Positive directional derivative for linesearch\n",
      "See scipy.optimize.fmin_slsqp for code meaning.\n",
      "\n",
      "  ConvergenceWarning)\n",
      "C:\\Anaconda3\\lib\\site-packages\\arch\\univariate\\base.py:605: ConvergenceWarning: The optimizer returned code 8. The message is:\n",
      "Positive directional derivative for linesearch\n",
      "See scipy.optimize.fmin_slsqp for code meaning.\n",
      "\n",
      "  ConvergenceWarning)\n",
      "C:\\Anaconda3\\lib\\site-packages\\arch\\univariate\\base.py:605: ConvergenceWarning: The optimizer returned code 8. The message is:\n",
      "Positive directional derivative for linesearch\n",
      "See scipy.optimize.fmin_slsqp for code meaning.\n",
      "\n",
      "  ConvergenceWarning)\n",
      "C:\\Anaconda3\\lib\\site-packages\\arch\\univariate\\base.py:605: ConvergenceWarning: The optimizer returned code 8. The message is:\n",
      "Positive directional derivative for linesearch\n",
      "See scipy.optimize.fmin_slsqp for code meaning.\n",
      "\n",
      "  ConvergenceWarning)\n",
      "C:\\Anaconda3\\lib\\site-packages\\arch\\univariate\\base.py:605: ConvergenceWarning: The optimizer returned code 8. The message is:\n",
      "Positive directional derivative for linesearch\n",
      "See scipy.optimize.fmin_slsqp for code meaning.\n",
      "\n",
      "  ConvergenceWarning)\n",
      "C:\\Anaconda3\\lib\\site-packages\\arch\\univariate\\base.py:605: ConvergenceWarning: The optimizer returned code 8. The message is:\n",
      "Positive directional derivative for linesearch\n",
      "See scipy.optimize.fmin_slsqp for code meaning.\n",
      "\n",
      "  ConvergenceWarning)\n",
      "C:\\Anaconda3\\lib\\site-packages\\arch\\univariate\\base.py:605: ConvergenceWarning: The optimizer returned code 8. The message is:\n",
      "Positive directional derivative for linesearch\n",
      "See scipy.optimize.fmin_slsqp for code meaning.\n",
      "\n",
      "  ConvergenceWarning)\n"
     ]
    },
    {
     "name": "stdout",
     "output_type": "stream",
     "text": [
      "16\n",
      "17\n"
     ]
    }
   ],
   "source": [
    "momentumDict   = momentum(prices, momentumKey)\n",
    "if debug == True: print('1')\n",
    "stochasticDict = stochastic(prices, stochasticKey)\n",
    "if debug == True: print('2')\n",
    "williamsDict   = williams(prices, williamsKey)\n",
    "if debug == True: print('3')\n",
    "procDict       = proc(prices, procKey)\n",
    "if debug == True: print('4')\n",
    "wadlDict       = wadl(prices, wadlKey)\n",
    "if debug == True: print('5')\n",
    "# adoscDict      = adosc(prices, adoscKey)\n",
    "# if debug == True: print('6')\n",
    "macdDict       = macd(prices, macdKey+[30,9])\n",
    "if debug == True: print('7')\n",
    "cciDict        = cci(prices, cciKey)\n",
    "if debug == True: print('8')\n",
    "bollingerDict  = bollinger(prices, bollingerKey)\n",
    "if debug == True: print('9')\n",
    "heikenashiDict = heikenashi(prices, heikenashiKey)\n",
    "if debug == True: print('11')\n",
    "paverageDict   = paverages(prices, paverageKey)\n",
    "if debug == True: print('12')\n",
    "slopeDict      = slopes(prices, slopeKey)\n",
    "if debug == True: print('13')\n",
    "fourierDict    = fourier(prices, fourierKey)\n",
    "if debug == True: print('14')\n",
    "sineDict       = sine(prices, sineKey)\n",
    "if debug == True: print('15')   \n",
    "garchDict      = TSA(prices, garchKey,[3,1,0])\n",
    "if debug == True: print('16') \n",
    "atrDict        = atr(prices, atrKey)\n",
    "if debug == True: print('17')   "
   ]
  },
  {
   "cell_type": "code",
   "execution_count": 54,
   "metadata": {},
   "outputs": [
    {
     "name": "stdout",
     "output_type": "stream",
     "text": [
      "18\n",
      "19\n",
      "20\n"
     ]
    }
   ],
   "source": [
    "histD1Dict     = historyD1(prices, histD1Key)\n",
    "if debug == True: print('18')    \n",
    "histW1Dict     = historyW1(prices, histW1Key)\n",
    "if debug == True: print('19')\n",
    "histM1Dict     = historyM1(prices, histM1Key)\n",
    "if debug == True: print('20')    "
   ]
  },
  {
   "cell_type": "code",
   "execution_count": 8,
   "metadata": {},
   "outputs": [],
   "source": [
    "dictList = []\n",
    "colFeat = []\n",
    "keyList = []\n",
    "dictList.append(momentumDict.df); colFeat.append('momentum'); keyList.append(momentumKey)\n",
    "dictList.append(stochasticDict.df); colFeat.append('stochastic'); keyList.append(stochasticKey)\n",
    "dictList.append(williamsDict.df); colFeat.append('williams'); keyList.append(williamsKey)\n",
    "dictList.append(procDict.df); colFeat.append('proc'); keyList.append(procKey)\n",
    "dictList.append(wadlDict.df); colFeat.append('wadl'); keyList.append(wadlKey)\n",
    "# dictList.append(adoscDict.df); colFeat.append('adosc'); keyList.append(adoscKey)\n",
    "dictList.append(macdDict.df); colFeat.append('macd'); keyList.append(macdKey)\n",
    "dictList.append(cciDict.df); colFeat.append('cci'); keyList.append(cciKey)\n",
    "dictList.append(bollingerDict.df); colFeat.append('bollinger'); keyList.append(bollingerKey)\n",
    "dictList.append(heikenashiDict.df); colFeat.append('heikenashi'); keyList.append(heikenashiKey)\n",
    "dictList.append(paverageDict.df); colFeat.append('paverage'); keyList.append(paverageKey)\n",
    "dictList.append(slopeDict.df); colFeat.append('slope'); keyList.append(slopeKey)\n",
    "dictList.append(fourierDict.df); colFeat.append('fourier'); keyList.append(fourierKey)\n",
    "dictList.append(sineDict.df); colFeat.append('sine'); keyList.append(sineKey)\n",
    "dictList.append(garchDict.df); colFeat.append('garch'); keyList.append(garchKey)\n",
    "dictList.append(atrDict.df); colFeat.append('atr'); keyList.append(atrKey) "
   ]
  },
  {
   "cell_type": "code",
   "execution_count": 55,
   "metadata": {},
   "outputs": [],
   "source": [
    "dictList.append(histD1Dict.df); colFeat.append('hD1'); keyList.append(histD1Key)\n",
    "dictList.append(histW1Dict.df); colFeat.append('hW1'); keyList.append(histW1Key)\n",
    "dictList.append(histM1Dict.df); colFeat.append('hM1'); keyList.append(histM1Key)"
   ]
  },
  {
   "cell_type": "code",
   "execution_count": 8,
   "metadata": {},
   "outputs": [],
   "source": [
    "#dictList = [momentumDict.df,stochasticDict.df,williamsDict.df,procDict.df,wadlDict.df,adoscDict.df,macdDict.df,cciDict.df,bollingerDict.df,heikenashiDict.df,\n",
    "#           paverageDict.df,slopeDict.df,fourierDict.df,sineDict.df,garchDict.df,atrDict.df]"
   ]
  },
  {
   "cell_type": "code",
   "execution_count": 41,
   "metadata": {},
   "outputs": [],
   "source": [
    "#colFeat = ['momentum','stochastic','williams','proc','wadl','adosc','macd','cci','bollinger','heikenashi','paverage','slope','fourier','sine','garch','atr']"
   ]
  },
  {
   "cell_type": "code",
   "execution_count": 56,
   "metadata": {},
   "outputs": [],
   "source": [
    "prices.dropna(inplace=True)\n",
    "masterFrame = pd.DataFrame(index=prices.index)\n",
    "masterFrame[['fulldate','year','month','day','open','high','low','close','volume']] = prices[['fulldate','year','month','day','open','high','low','close','volume']]   "
   ]
  },
  {
   "cell_type": "code",
   "execution_count": 11,
   "metadata": {},
   "outputs": [],
   "source": [
    "masterFrame['weekday'] = prices.fulldate.apply(lambda x: x.isoweekday())\n",
    "masterFrame = pd.get_dummies(masterFrame, prefix='month_', columns=['month'])    \n",
    "masterFrame = pd.get_dummies(masterFrame, prefix='day_', columns=['day'])    \n",
    "masterFrame = pd.get_dummies(masterFrame, prefix='weekday_', columns=['weekday']) "
   ]
  },
  {
   "cell_type": "code",
   "execution_count": 57,
   "metadata": {},
   "outputs": [],
   "source": [
    "for i in range(0,len(dictList)):#iteracja po funkcjach\n",
    "    for j in keyList[i]: #iteracja po okresach\n",
    "        for k in list(dictList[i][j]): #iteracja po kolumnach danej funkcji w okresie\n",
    "            colID = colFeat[i] + str(j) + k\n",
    "            masterFrame[colID] = dictList[i][j][k]"
   ]
  },
  {
   "cell_type": "code",
   "execution_count": 58,
   "metadata": {},
   "outputs": [],
   "source": [
    "# masterFrame.to_csv(sep=';',path_or_buf='../Data/mf_UJ1440_v16d.csv',date_format=\"%Y-%m-%d\",index = False,na_rep='')\n",
    "masterFrame.to_csv(sep=';',path_or_buf='../Data/mf_USDJPY1440_v16c.csv',date_format=\"%Y-%m-%d\",index = False,na_rep='')"
   ]
  },
  {
   "cell_type": "code",
   "execution_count": null,
   "metadata": {},
   "outputs": [],
   "source": [
    "# ----------------------------------------------------------------------------------------------------------------------"
   ]
  },
  {
   "cell_type": "code",
   "execution_count": 27,
   "metadata": {},
   "outputs": [],
   "source": [
    "minmax = masterFrame.apply(lambda x: pd.Series(index=['min','max'],data=[x.min(),x.max()]))"
   ]
  },
  {
   "cell_type": "code",
   "execution_count": 28,
   "metadata": {},
   "outputs": [
    {
     "data": {
      "text/html": [
       "<div>\n",
       "<style scoped>\n",
       "    .dataframe tbody tr th:only-of-type {\n",
       "        vertical-align: middle;\n",
       "    }\n",
       "\n",
       "    .dataframe tbody tr th {\n",
       "        vertical-align: top;\n",
       "    }\n",
       "\n",
       "    .dataframe thead th {\n",
       "        text-align: right;\n",
       "    }\n",
       "</style>\n",
       "<table border=\"1\" class=\"dataframe\">\n",
       "  <thead>\n",
       "    <tr style=\"text-align: right;\">\n",
       "      <th></th>\n",
       "      <th>fulldate</th>\n",
       "      <th>year</th>\n",
       "      <th>open</th>\n",
       "      <th>high</th>\n",
       "      <th>low</th>\n",
       "      <th>close</th>\n",
       "      <th>volume</th>\n",
       "      <th>month__1</th>\n",
       "      <th>month__2</th>\n",
       "      <th>month__3</th>\n",
       "      <th>...</th>\n",
       "      <th>hM130M1hist_close_3_diff</th>\n",
       "      <th>hM130M1hist_low_2_diff</th>\n",
       "      <th>hM130M1hist_high_2_diff</th>\n",
       "      <th>hM130M1hist_close_2_diff</th>\n",
       "      <th>hM130M1hist_low_1_diff</th>\n",
       "      <th>hM130M1hist_high_1_diff</th>\n",
       "      <th>hM130M1hist_close_1_diff</th>\n",
       "      <th>hM130M1hist_low_c_diff</th>\n",
       "      <th>hM130M1hist_high_c_diff</th>\n",
       "      <th>hM130M1hist_close_c_diff</th>\n",
       "    </tr>\n",
       "  </thead>\n",
       "  <tbody>\n",
       "    <tr>\n",
       "      <th>min</th>\n",
       "      <td>2003-05-04 21:00:00</td>\n",
       "      <td>2003</td>\n",
       "      <td>75.632</td>\n",
       "      <td>75.997</td>\n",
       "      <td>75.573</td>\n",
       "      <td>75.797</td>\n",
       "      <td>1.500000e+00</td>\n",
       "      <td>0</td>\n",
       "      <td>0</td>\n",
       "      <td>0</td>\n",
       "      <td>...</td>\n",
       "      <td>-17.705376</td>\n",
       "      <td>-16.328140</td>\n",
       "      <td>-13.808112</td>\n",
       "      <td>-14.729073</td>\n",
       "      <td>-12.760991</td>\n",
       "      <td>-9.769970</td>\n",
       "      <td>-10.824450</td>\n",
       "      <td>-13.938476</td>\n",
       "      <td>0.001051</td>\n",
       "      <td>0.0</td>\n",
       "    </tr>\n",
       "    <tr>\n",
       "      <th>max</th>\n",
       "      <td>2019-04-25 21:00:00</td>\n",
       "      <td>2019</td>\n",
       "      <td>125.587</td>\n",
       "      <td>125.853</td>\n",
       "      <td>124.541</td>\n",
       "      <td>125.578</td>\n",
       "      <td>2.900639e+07</td>\n",
       "      <td>1</td>\n",
       "      <td>1</td>\n",
       "      <td>1</td>\n",
       "      <td>...</td>\n",
       "      <td>19.433756</td>\n",
       "      <td>17.425724</td>\n",
       "      <td>13.099518</td>\n",
       "      <td>16.148363</td>\n",
       "      <td>13.283500</td>\n",
       "      <td>7.935406</td>\n",
       "      <td>13.614668</td>\n",
       "      <td>0.000000</td>\n",
       "      <td>14.213924</td>\n",
       "      <td>0.0</td>\n",
       "    </tr>\n",
       "  </tbody>\n",
       "</table>\n",
       "<p>2 rows × 737 columns</p>\n",
       "</div>"
      ],
      "text/plain": [
       "               fulldate  year     open     high      low    close  \\\n",
       "min 2003-05-04 21:00:00  2003   75.632   75.997   75.573   75.797   \n",
       "max 2019-04-25 21:00:00  2019  125.587  125.853  124.541  125.578   \n",
       "\n",
       "           volume  month__1  month__2  month__3  ...  \\\n",
       "min  1.500000e+00         0         0         0  ...   \n",
       "max  2.900639e+07         1         1         1  ...   \n",
       "\n",
       "     hM130M1hist_close_3_diff  hM130M1hist_low_2_diff  \\\n",
       "min                -17.705376              -16.328140   \n",
       "max                 19.433756               17.425724   \n",
       "\n",
       "     hM130M1hist_high_2_diff  hM130M1hist_close_2_diff  \\\n",
       "min               -13.808112                -14.729073   \n",
       "max                13.099518                 16.148363   \n",
       "\n",
       "     hM130M1hist_low_1_diff  hM130M1hist_high_1_diff  \\\n",
       "min              -12.760991                -9.769970   \n",
       "max               13.283500                 7.935406   \n",
       "\n",
       "     hM130M1hist_close_1_diff  hM130M1hist_low_c_diff  \\\n",
       "min                -10.824450              -13.938476   \n",
       "max                 13.614668                0.000000   \n",
       "\n",
       "     hM130M1hist_high_c_diff  hM130M1hist_close_c_diff  \n",
       "min                 0.001051                       0.0  \n",
       "max                14.213924                       0.0  \n",
       "\n",
       "[2 rows x 737 columns]"
      ]
     },
     "execution_count": 28,
     "metadata": {},
     "output_type": "execute_result"
    }
   ],
   "source": [
    "minmax"
   ]
  },
  {
   "cell_type": "code",
   "execution_count": 29,
   "metadata": {},
   "outputs": [
    {
     "data": {
      "image/png": "[encoded data removed]",
      "text/plain": [
       "<Figure size 504x720 with 1 Axes>"
      ]
     },
     "metadata": {
      "needs_background": "light"
     },
     "output_type": "display_data"
    }
   ],
   "source": [
    "import matplotlib.pyplot as plt\n",
    "slicemin = minmax.iloc[0,7:]\n",
    "slicemax = minmax.iloc[1,7:]\n",
    "x = range(0,len(slicemin))\n",
    "y1 = slicemin\n",
    "y2 = slicemax\n",
    "fig = plt.figure(figsize=(7,10))\n",
    "# plt.axis('off')\n",
    "# plt.plot(x, y,'o',linestyle='None', markersize = 1.0,color='black')\n",
    "plt.plot(x, y1)\n",
    "plt.plot(x, y2)\n",
    "plt.show()"
   ]
  },
  {
   "cell_type": "code",
   "execution_count": null,
   "metadata": {},
   "outputs": [],
   "source": []
  }
 ],
 "metadata": {
  "kernelspec": {
   "display_name": "Python 3",
   "language": "python",
   "name": "python3"
  },
  "language_info": {
   "codemirror_mode": {
    "name": "ipython",
    "version": 3
   },
   "file_extension": ".py",
   "mimetype": "text/x-python",
   "name": "python",
   "nbconvert_exporter": "python",
   "pygments_lexer": "ipython3",
   "version": "3.7.3"
  }
 },
 "nbformat": 4,
 "nbformat_minor": 2
}
