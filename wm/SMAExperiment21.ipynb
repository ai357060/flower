{
 "cells": [
  {
   "cell_type": "code",
   "execution_count": 1,
   "metadata": {},
   "outputs": [],
   "source": [
    "import os\n",
    "cwd = os.getcwd()\n",
    "if cwd[0:2] != \"C:\":\n",
    "    from google.colab import drive\n",
    "    drive.mount('/content/gdrive',force_remount=True)\n",
    "    %cd \"/content/gdrive/My Drive/Projects\"\n",
    "    !git clone https://github.com/ai357060/modelF.git\n",
    "    import sys\n",
    "    root_dir=\"/content/gdrive/My Drive/Projects/modelF\"\n",
    "    sys.path.append(root_dir)\n",
    "    %cd \"/content/gdrive/My Drive/Projects/modelF/wm\"\n",
    "    !git fetch --all\n",
    "    !git reset --hard origin/master"
   ]
  },
  {
   "cell_type": "code",
   "execution_count": 2,
   "metadata": {},
   "outputs": [],
   "source": [
    "import os\n",
    "cwd = os.getcwd()\n",
    "if cwd[0:2] != \"C:\":\n",
    "    from google.colab import drive\n",
    "    drive.mount('/content/gdrive',force_remount=True)\n",
    "    %cd \"/content/gdrive/My Drive/Projects\"\n",
    "#     !git clone https://github.com/ai357060/modelF.git\n",
    "    import sys\n",
    "    root_dir=\"/content/gdrive/My Drive/Projects/modelF\"\n",
    "    sys.path.append(root_dir)\n",
    "    %cd \"/content/gdrive/My Drive/Projects/modelF/wm\"\n",
    "#     !git pull"
   ]
  },
  {
   "cell_type": "code",
   "execution_count": 3,
   "metadata": {},
   "outputs": [],
   "source": [
    "import os\n",
    "import sys\n",
    "module_path = os.path.abspath(os.path.join('..'))\n",
    "if module_path not in sys.path:\n",
    "    sys.path.append(module_path)"
   ]
  },
  {
   "cell_type": "code",
   "execution_count": 4,
   "metadata": {},
   "outputs": [],
   "source": [
    "import pandas as pd\n",
    "import numpy as np\n",
    "import datetime as dt\n",
    "import importlib\n",
    "import tradestats\n",
    "import pandas as pd\n",
    "from datetime import datetime"
   ]
  },
  {
   "cell_type": "code",
   "execution_count": 5,
   "metadata": {},
   "outputs": [],
   "source": [
    "from sklearn import datasets\n",
    "from sklearn.tree import DecisionTreeRegressor\n",
    "from sklearn.tree import DecisionTreeClassifier \n",
    "from sklearn import tree\n",
    "# import graphviz"
   ]
  },
  {
   "cell_type": "code",
   "execution_count": 6,
   "metadata": {},
   "outputs": [],
   "source": [
    "importlib.reload(tradestats)\n",
    "from tradestats import *"
   ]
  },
  {
   "cell_type": "code",
   "execution_count": 7,
   "metadata": {},
   "outputs": [],
   "source": [
    "prices = loaddata_1D('AUDUSD_Candlestick_1_D_BID_03.08.2003-24.10.2021.csv')\n",
    "# prices = loaddata_1D('EURUSD_Candlestick_1_D_BID_03.08.2003-24.10.2021.csv')"
   ]
  },
  {
   "cell_type": "code",
   "execution_count": 8,
   "metadata": {},
   "outputs": [
    {
     "data": {
      "text/plain": [
       "4753"
      ]
     },
     "execution_count": 8,
     "metadata": {},
     "output_type": "execute_result"
    }
   ],
   "source": [
    "len(prices)"
   ]
  },
  {
   "cell_type": "code",
   "execution_count": 9,
   "metadata": {},
   "outputs": [
    {
     "name": "stdout",
     "output_type": "stream",
     "text": [
      "0:00:00.116997\n"
     ]
    }
   ],
   "source": [
    "importlib.reload(tradestats)\n",
    "from tradestats import *\n",
    "starttime = datetime.now()\n",
    "\n",
    "maKey  = [5,30,40,50,60,80,100,120,130,140,160]\n",
    "atrKey = [20]\n",
    "# srsKey = [0]\n",
    "dictList = []\n",
    "colFeat = []\n",
    "keyList = []\n",
    "maDict   = ma(prices, maKey)\n",
    "atrDict  = atr(prices, atrKey)\n",
    "# srsDict  = srs(prices, srsKey)\n",
    "dictList.append(maDict.df); colFeat.append('ma'); keyList.append(maKey) \n",
    "dictList.append(atrDict.df); colFeat.append('atr'); keyList.append(atrKey) \n",
    "# dictList.append(srsDict.df); colFeat.append('srs'); keyList.append(srsKey) \n",
    "\n",
    "endtime = datetime.now()\n",
    "print(str(endtime - starttime))"
   ]
  },
  {
   "cell_type": "code",
   "execution_count": 10,
   "metadata": {},
   "outputs": [],
   "source": [
    "# prices.dropna(inplace=True)\n",
    "masterFrame = pd.DataFrame(index=prices.index)\n",
    "masterFrame[['id','year','month','day','date','weekday','open','high','low','close','volume']] = prices[['id','year','month','day','date','weekday','open','high','low','close','volume']]   "
   ]
  },
  {
   "cell_type": "code",
   "execution_count": 11,
   "metadata": {},
   "outputs": [],
   "source": [
    "for i in range(0,len(dictList)):#iteracja po funkcjach\n",
    "    for j in keyList[i]: #iteracja po okresach\n",
    "        for k in list(dictList[i][j]): #iteracja po kolumnach danej funkcji w okresie\n",
    "            colID = colFeat[i] + str(j) + k\n",
    "            masterFrame[colID] = dictList[i][j][k]"
   ]
  },
  {
   "cell_type": "code",
   "execution_count": 12,
   "metadata": {},
   "outputs": [],
   "source": [
    "# masterFrame.to_csv(sep=';',path_or_buf='../Data/masterFrame.csv',date_format=\"%Y-%m-%d\",index = False,na_rep='')"
   ]
  },
  {
   "cell_type": "code",
   "execution_count": 13,
   "metadata": {
    "scrolled": true
   },
   "outputs": [],
   "source": [
    "masterFrame = masterFrame.dropna()"
   ]
  },
  {
   "cell_type": "code",
   "execution_count": 14,
   "metadata": {},
   "outputs": [
    {
     "data": {
      "text/html": [
       "<div>\n",
       "<style scoped>\n",
       "    .dataframe tbody tr th:only-of-type {\n",
       "        vertical-align: middle;\n",
       "    }\n",
       "\n",
       "    .dataframe tbody tr th {\n",
       "        vertical-align: top;\n",
       "    }\n",
       "\n",
       "    .dataframe thead th {\n",
       "        text-align: right;\n",
       "    }\n",
       "</style>\n",
       "<table border=\"1\" class=\"dataframe\">\n",
       "  <thead>\n",
       "    <tr style=\"text-align: right;\">\n",
       "      <th></th>\n",
       "      <th>id</th>\n",
       "      <th>year</th>\n",
       "      <th>month</th>\n",
       "      <th>day</th>\n",
       "      <th>date</th>\n",
       "      <th>weekday</th>\n",
       "      <th>open</th>\n",
       "      <th>high</th>\n",
       "      <th>low</th>\n",
       "      <th>close</th>\n",
       "      <th>...</th>\n",
       "      <th>ma140SMAdiff_prev</th>\n",
       "      <th>ma140SMAdiff2_prev</th>\n",
       "      <th>ma140SMAdiffdiff_prev</th>\n",
       "      <th>ma140SMAclose_prev</th>\n",
       "      <th>ma160SMA_prev</th>\n",
       "      <th>ma160SMAdiff_prev</th>\n",
       "      <th>ma160SMAdiff2_prev</th>\n",
       "      <th>ma160SMAdiffdiff_prev</th>\n",
       "      <th>ma160SMAclose_prev</th>\n",
       "      <th>atr20atr_prev</th>\n",
       "    </tr>\n",
       "  </thead>\n",
       "  <tbody>\n",
       "    <tr>\n",
       "      <th>4748</th>\n",
       "      <td>4748</td>\n",
       "      <td>2021</td>\n",
       "      <td>10</td>\n",
       "      <td>18</td>\n",
       "      <td>2021-10-18 21:00:00</td>\n",
       "      <td>0</td>\n",
       "      <td>0.74146</td>\n",
       "      <td>0.74370</td>\n",
       "      <td>0.73781</td>\n",
       "      <td>0.74102</td>\n",
       "      <td>...</td>\n",
       "      <td>-0.000129</td>\n",
       "      <td>-0.000273</td>\n",
       "      <td>0.000015</td>\n",
       "      <td>-0.008580</td>\n",
       "      <td>0.752543</td>\n",
       "      <td>-0.000165</td>\n",
       "      <td>-0.000357</td>\n",
       "      <td>0.000026</td>\n",
       "      <td>-0.010803</td>\n",
       "      <td>0.006553</td>\n",
       "    </tr>\n",
       "    <tr>\n",
       "      <th>4749</th>\n",
       "      <td>4749</td>\n",
       "      <td>2021</td>\n",
       "      <td>10</td>\n",
       "      <td>19</td>\n",
       "      <td>2021-10-19 21:00:00</td>\n",
       "      <td>1</td>\n",
       "      <td>0.74080</td>\n",
       "      <td>0.74851</td>\n",
       "      <td>0.74074</td>\n",
       "      <td>0.74715</td>\n",
       "      <td>...</td>\n",
       "      <td>-0.000171</td>\n",
       "      <td>-0.000299</td>\n",
       "      <td>-0.000042</td>\n",
       "      <td>-0.009130</td>\n",
       "      <td>0.752395</td>\n",
       "      <td>-0.000148</td>\n",
       "      <td>-0.000313</td>\n",
       "      <td>0.000017</td>\n",
       "      <td>-0.011375</td>\n",
       "      <td>0.006606</td>\n",
       "    </tr>\n",
       "    <tr>\n",
       "      <th>4750</th>\n",
       "      <td>4750</td>\n",
       "      <td>2021</td>\n",
       "      <td>10</td>\n",
       "      <td>20</td>\n",
       "      <td>2021-10-20 21:00:00</td>\n",
       "      <td>2</td>\n",
       "      <td>0.74715</td>\n",
       "      <td>0.75222</td>\n",
       "      <td>0.74647</td>\n",
       "      <td>0.75144</td>\n",
       "      <td>...</td>\n",
       "      <td>-0.000136</td>\n",
       "      <td>-0.000307</td>\n",
       "      <td>0.000035</td>\n",
       "      <td>-0.002864</td>\n",
       "      <td>0.752243</td>\n",
       "      <td>-0.000152</td>\n",
       "      <td>-0.000300</td>\n",
       "      <td>-0.000004</td>\n",
       "      <td>-0.005093</td>\n",
       "      <td>0.006687</td>\n",
       "    </tr>\n",
       "    <tr>\n",
       "      <th>4751</th>\n",
       "      <td>4751</td>\n",
       "      <td>2021</td>\n",
       "      <td>10</td>\n",
       "      <td>21</td>\n",
       "      <td>2021-10-21 21:00:00</td>\n",
       "      <td>3</td>\n",
       "      <td>0.75128</td>\n",
       "      <td>0.75460</td>\n",
       "      <td>0.74581</td>\n",
       "      <td>0.74655</td>\n",
       "      <td>...</td>\n",
       "      <td>-0.000070</td>\n",
       "      <td>-0.000206</td>\n",
       "      <td>0.000066</td>\n",
       "      <td>0.001496</td>\n",
       "      <td>0.752106</td>\n",
       "      <td>-0.000137</td>\n",
       "      <td>-0.000289</td>\n",
       "      <td>0.000015</td>\n",
       "      <td>-0.000666</td>\n",
       "      <td>0.006611</td>\n",
       "    </tr>\n",
       "    <tr>\n",
       "      <th>4752</th>\n",
       "      <td>4752</td>\n",
       "      <td>2021</td>\n",
       "      <td>10</td>\n",
       "      <td>22</td>\n",
       "      <td>2021-10-22 21:00:00</td>\n",
       "      <td>4</td>\n",
       "      <td>0.74654</td>\n",
       "      <td>0.75118</td>\n",
       "      <td>0.74533</td>\n",
       "      <td>0.74631</td>\n",
       "      <td>...</td>\n",
       "      <td>-0.000133</td>\n",
       "      <td>-0.000203</td>\n",
       "      <td>-0.000063</td>\n",
       "      <td>-0.003261</td>\n",
       "      <td>0.751905</td>\n",
       "      <td>-0.000201</td>\n",
       "      <td>-0.000338</td>\n",
       "      <td>-0.000064</td>\n",
       "      <td>-0.005355</td>\n",
       "      <td>0.006588</td>\n",
       "    </tr>\n",
       "  </tbody>\n",
       "</table>\n",
       "<p>5 rows × 67 columns</p>\n",
       "</div>"
      ],
      "text/plain": [
       "        id  year  month  day                date  weekday     open     high  \\\n",
       "4748  4748  2021     10   18 2021-10-18 21:00:00        0  0.74146  0.74370   \n",
       "4749  4749  2021     10   19 2021-10-19 21:00:00        1  0.74080  0.74851   \n",
       "4750  4750  2021     10   20 2021-10-20 21:00:00        2  0.74715  0.75222   \n",
       "4751  4751  2021     10   21 2021-10-21 21:00:00        3  0.75128  0.75460   \n",
       "4752  4752  2021     10   22 2021-10-22 21:00:00        4  0.74654  0.75118   \n",
       "\n",
       "          low    close  ...  ma140SMAdiff_prev  ma140SMAdiff2_prev  \\\n",
       "4748  0.73781  0.74102  ...          -0.000129           -0.000273   \n",
       "4749  0.74074  0.74715  ...          -0.000171           -0.000299   \n",
       "4750  0.74647  0.75144  ...          -0.000136           -0.000307   \n",
       "4751  0.74581  0.74655  ...          -0.000070           -0.000206   \n",
       "4752  0.74533  0.74631  ...          -0.000133           -0.000203   \n",
       "\n",
       "      ma140SMAdiffdiff_prev  ma140SMAclose_prev  ma160SMA_prev  \\\n",
       "4748               0.000015           -0.008580       0.752543   \n",
       "4749              -0.000042           -0.009130       0.752395   \n",
       "4750               0.000035           -0.002864       0.752243   \n",
       "4751               0.000066            0.001496       0.752106   \n",
       "4752              -0.000063           -0.003261       0.751905   \n",
       "\n",
       "      ma160SMAdiff_prev  ma160SMAdiff2_prev  ma160SMAdiffdiff_prev  \\\n",
       "4748          -0.000165           -0.000357               0.000026   \n",
       "4749          -0.000148           -0.000313               0.000017   \n",
       "4750          -0.000152           -0.000300              -0.000004   \n",
       "4751          -0.000137           -0.000289               0.000015   \n",
       "4752          -0.000201           -0.000338              -0.000064   \n",
       "\n",
       "      ma160SMAclose_prev  atr20atr_prev  \n",
       "4748           -0.010803       0.006553  \n",
       "4749           -0.011375       0.006606  \n",
       "4750           -0.005093       0.006687  \n",
       "4751           -0.000666       0.006611  \n",
       "4752           -0.005355       0.006588  \n",
       "\n",
       "[5 rows x 67 columns]"
      ]
     },
     "execution_count": 14,
     "metadata": {},
     "output_type": "execute_result"
    }
   ],
   "source": [
    "masterFrame.tail(5)"
   ]
  },
  {
   "cell_type": "code",
   "execution_count": null,
   "metadata": {},
   "outputs": [],
   "source": []
  },
  {
   "cell_type": "code",
   "execution_count": null,
   "metadata": {},
   "outputs": [
    {
     "name": "stdout",
     "output_type": "stream",
     "text": [
      "1 : 1.2 : -26\n",
      "1 : 1.4 : -31\n",
      "1 : 1.6 : -36\n",
      "1 : 1.8 : -37\n",
      "1 : 2 : -49\n",
      "1 : 2.2 : -50\n",
      "1 : 2.4 : -132\n",
      "1 : 2.6 : -134\n",
      "1 : 2.8 : -136\n",
      "1 : 3 : -137\n",
      "1 : 3.2 : -138\n",
      "1.2 : 1.2 : -34\n",
      "1.2 : 1.4 : -37\n",
      "1.2 : 1.6 : -37\n",
      "1.2 : 1.8 : -42\n",
      "1.2 : 2 : -49\n",
      "1.2 : 2.2 : -86\n",
      "1.2 : 2.4 : -132\n",
      "1.2 : 2.6 : -134\n",
      "1.2 : 2.8 : -136\n",
      "1.2 : 3 : -137\n",
      "1.2 : 3.2 : -138\n",
      "1.4 : 1.2 : -34\n",
      "1.4 : 1.4 : -37\n",
      "1.4 : 1.6 : -41\n",
      "1.4 : 1.8 : -50\n",
      "1.4 : 2 : -87\n",
      "1.4 : 2.2 : -94\n",
      "1.4 : 2.4 : -132\n",
      "1.4 : 2.6 : -134\n",
      "1.4 : 2.8 : -136\n",
      "1.4 : 3 : -137\n",
      "1.4 : 3.2 : -138\n",
      "1.6 : 1.2 : -48\n",
      "1.6 : 1.4 : -49\n",
      "1.6 : 1.6 : -118\n",
      "1.6 : 1.8 : -133\n",
      "1.6 : 2 : -134\n",
      "1.6 : 2.2 : -136\n",
      "1.6 : 2.4 : -137\n",
      "1.6 : 2.6 : -142\n",
      "1.6 : 2.8 : -145\n",
      "1.6 : 3 : -150\n",
      "1.6 : 3.2 : -224\n",
      "1.8 : 1.2 : -48\n",
      "1.8 : 1.4 : -53\n",
      "1.8 : 1.6 : -118\n",
      "1.8 : 1.8 : -133\n",
      "1.8 : 2 : -134\n",
      "1.8 : 2.2 : -136\n",
      "1.8 : 2.4 : -137\n",
      "1.8 : 2.6 : -142\n",
      "1.8 : 2.8 : -145\n",
      "1.8 : 3 : -150\n",
      "1.8 : 3.2 : -224\n",
      "2 : 1.2 : -117\n",
      "2 : 1.4 : -130\n",
      "2 : 1.6 : -133\n",
      "2 : 1.8 : -135\n",
      "2 : 2 : -137\n",
      "2 : 2.2 : -141\n",
      "2 : 2.4 : -143\n",
      "2 : 2.6 : -146\n",
      "2 : 2.8 : -151\n",
      "2 : 3 : -152\n",
      "2 : 3.2 : -225\n",
      "2.2 : 1.2 : -117\n",
      "2.2 : 1.4 : -130\n",
      "2.2 : 1.6 : -133\n",
      "2.2 : 1.8 : -136\n",
      "2.2 : 2 : -139\n",
      "2.2 : 2.2 : -141\n",
      "2.2 : 2.4 : -143\n",
      "2.2 : 2.6 : -146\n",
      "2.2 : 2.8 : -163\n"
     ]
    }
   ],
   "source": [
    "importlib.reload(tradestats)\n",
    "from tradestats import *\n",
    "starttime = datetime.now()\n",
    "atrperiod = 'atr20atr_prev'\n",
    "# alltrades = preparetrades_brut_tsl(masterFrame,[1],[0.001,0.002,0.003,0.004,0.005,0.006],[0.001,0.002,0.003,0.004,0.005,0.006],[0.001,0.002,0.003,0.004,0.005,0.006],2015,2021)\n",
    "# alltrades = preparetrades_brut_tp(masterFrame,[1],[0.003,0.004,0.005,0.006,0.007,0.008,0.009,0.01],[0.003,0.004,0.005,0.006,0.007,0.008,0.009,0.01],2003,2021)\n",
    "# alltrades = preparetrades_brut_tp(masterFrame,[-1,1],[0.5],[0.9],2020,2021,atrperiod)\n",
    "# alltrades = preparetrades_brut_tp(masterFrame,[-1],[0.3,0.4,0.5,0.6,0.7,0.8,0.9],[0.6,0.7,0.8,0.9,1,1.1,1.2,1.3,1.4,1.5],2003,2021,atrperiod)\n",
    "alltrades = preparetrades_brut_tp(masterFrame,[1],[1,1.2,1.4,1.6,1.8,2,2.2],[1.2,1.4,1.6,1.8,2,2.2,2.4,2.6,2.8,3,3.2],2003,2021,atrperiod)\n",
    "# alltrades = preparetrades_brut_tp(masterFrame,[-1],[0.003,0.004,0.005,0.006,0.007,0.008,0.009,0.01],[0.006,0.007,0.008,0.009,0.01,0.011,0.012,0.013,0.014,0.015],2003,2021,atrperiod)\n",
    "# alltrades = preparetrades_brut_tp(masterFrame,[-1],[0.003,0.004,0.005,0.006,0.007,0.008,0.01,0.012,0.014],[0.003,0.004,0.005,0.006,0.007,0.008,0.01,0.012,0.014],2003,2021,atrperiod)\n",
    "endtime = datetime.now()\n",
    "print(str(endtime - starttime))"
   ]
  },
  {
   "cell_type": "code",
   "execution_count": null,
   "metadata": {},
   "outputs": [],
   "source": [
    "importlib.reload(tradestats)\n",
    "from tradestats import *\n",
    "trades = cleartrades_brut(alltrades.copy(),True)\n",
    "# trades,alltrades = preparetrades(masterFrame,[-1,1],[5],[13],[0.002],True)"
   ]
  },
  {
   "cell_type": "code",
   "execution_count": null,
   "metadata": {},
   "outputs": [],
   "source": [
    "#____________________________________________________________________________________________________________________\n",
    "#\n",
    "#\n",
    "alltrades.head(2)"
   ]
  },
  {
   "cell_type": "code",
   "execution_count": null,
   "metadata": {},
   "outputs": [],
   "source": [
    "importlib.reload(tradestats)\n",
    "from tradestats import *\n",
    "# for i in [10,14,20,30,40]:\n",
    "for i in [20]:\n",
    "    atrperiod = 'atr'+str(i)+'atr_prev'\n",
    "    # stats1 = runstats_ma_v4(alltrades,'ma5SMAdiff_prev','ma5SMAdiffdiff_prev','ma5SMAdiff2_prev','ma5SMAclose_prev')\n",
    "    stats1 = runstats_ma_v21(alltrades,'ma30SMAdiff_prev','ma30SMAdiffdiff_prev','ma30SMAdiff2_prev','ma30SMAclose_prev',atrperiod)\n",
    "    stats1 = runstats_ma_v21(alltrades,'ma40SMAdiff_prev','ma40SMAdiffdiff_prev','ma40SMAdiff2_prev','ma40SMAclose_prev',atrperiod)\n",
    "    stats1 = runstats_ma_v21(alltrades,'ma50SMAdiff_prev','ma50SMAdiffdiff_prev','ma50SMAdiff2_prev','ma50SMAclose_prev',atrperiod)\n",
    "#     stats1 = runstats_ma_v21(alltrades,'ma60SMAdiff_prev','ma60SMAdiffdiff_prev','ma60SMAdiff2_prev','ma60SMAclose_prev',atrperiod)\n",
    "#     stats1 = runstats_ma_v21(alltrades,'ma80SMAdiff_prev','ma80SMAdiffdiff_prev','ma80SMAdiff2_prev','ma80SMAclose_prev',atrperiod)\n",
    "#     stats1 = runstats_ma_v21(alltrades,'ma100SMAdiff_prev','ma100SMAdiffdiff_prev','ma100SMAdiff2_prev','ma100SMAclose_prev',atrperiod)\n",
    "#     stats1 = runstats_ma_v21(alltrades,'ma120SMAdiff_prev','ma120SMAdiffdiff_prev','ma120SMAdiff2_prev','ma120SMAclose_prev',atrperiod)\n",
    "#     stats1 = runstats_ma_v21(alltrades,'ma130SMAdiff_prev','ma130SMAdiffdiff_prev','ma130SMAdiff2_prev','ma130SMAclose_prev',atrperiod)\n",
    "#     stats1 = runstats_ma_v21(alltrades,'ma140SMAdiff_prev','ma140SMAdiffdiff_prev','ma140SMAdiff2_prev','ma140SMAclose_prev',atrperiod)\n",
    "#     stats1 = runstats_ma_v21(alltrades,'ma160SMAdiff_prev','ma160SMAdiffdiff_prev','ma160SMAdiff2_prev','ma160SMAclose_prev',atrperiod)\n"
   ]
  },
  {
   "cell_type": "code",
   "execution_count": null,
   "metadata": {},
   "outputs": [],
   "source": []
  },
  {
   "cell_type": "code",
   "execution_count": null,
   "metadata": {},
   "outputs": [],
   "source": []
  },
  {
   "cell_type": "code",
   "execution_count": null,
   "metadata": {},
   "outputs": [],
   "source": []
  },
  {
   "cell_type": "code",
   "execution_count": null,
   "metadata": {},
   "outputs": [],
   "source": []
  }
 ],
 "metadata": {
  "kernelspec": {
   "display_name": "Python 3 (ipykernel)",
   "language": "python",
   "name": "python3"
  },
  "language_info": {
   "codemirror_mode": {
    "name": "ipython",
    "version": 3
   },
   "file_extension": ".py",
   "mimetype": "text/x-python",
   "name": "python",
   "nbconvert_exporter": "python",
   "pygments_lexer": "ipython3",
   "version": "3.9.7"
  }
 },
 "nbformat": 4,
 "nbformat_minor": 2
}
