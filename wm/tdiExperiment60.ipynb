{
 "cells": [
  {
   "cell_type": "code",
   "execution_count": null,
   "metadata": {},
   "outputs": [],
   "source": [
    "import os\n",
    "cwd = os.getcwd()\n",
    "if cwd[0:2] != \"C:\":\n",
    "    from google.colab import drive\n",
    "    drive.mount('/content/gdrive',force_remount=True)\n",
    "    %cd \"/content/gdrive/My Drive/Projects\"\n",
    "    !git clone https://github.com/ai357060/modelF.git\n",
    "    import sys\n",
    "    root_dir=\"/content/gdrive/My Drive/Projects/modelF\"\n",
    "    sys.path.append(root_dir)\n",
    "    %cd \"/content/gdrive/My Drive/Projects/modelF/wm\"\n",
    "    !git fetch --all\n",
    "    !git reset --hard origin/master"
   ]
  },
  {
   "cell_type": "code",
   "execution_count": null,
   "metadata": {},
   "outputs": [],
   "source": [
    "import os\n",
    "cwd = os.getcwd()\n",
    "if cwd[0:2] != \"C:\":\n",
    "    from google.colab import drive\n",
    "    drive.mount('/content/gdrive',force_remount=True)\n",
    "    %cd \"/content/gdrive/My Drive/Projects\"\n",
    "#     !git clone https://github.com/ai357060/modelF.git\n",
    "    import sys\n",
    "    root_dir=\"/content/gdrive/My Drive/Projects/modelF\"\n",
    "    sys.path.append(root_dir)\n",
    "    %cd \"/content/gdrive/My Drive/Projects/modelF/wm\"\n",
    "#     !git pull"
   ]
  },
  {
   "cell_type": "code",
   "execution_count": null,
   "metadata": {},
   "outputs": [],
   "source": [
    "import os\n",
    "import sys\n",
    "module_path = os.path.abspath(os.path.join('..'))\n",
    "if module_path not in sys.path:\n",
    "    sys.path.append(module_path)"
   ]
  },
  {
   "cell_type": "code",
   "execution_count": null,
   "metadata": {},
   "outputs": [],
   "source": [
    "import pandas as pd\n",
    "import numpy as np\n",
    "import datetime as dt\n",
    "import importlib\n",
    "import tradestats\n",
    "import pandas as pd\n",
    "from datetime import datetime"
   ]
  },
  {
   "cell_type": "code",
   "execution_count": null,
   "metadata": {},
   "outputs": [],
   "source": [
    "from sklearn import datasets\n",
    "from sklearn.tree import DecisionTreeRegressor\n",
    "from sklearn.tree import DecisionTreeClassifier \n",
    "from sklearn import tree\n",
    "import graphviz"
   ]
  },
  {
   "cell_type": "code",
   "execution_count": null,
   "metadata": {},
   "outputs": [],
   "source": [
    "importlib.reload(tradestats)\n",
    "from tradestats import *"
   ]
  },
  {
   "cell_type": "code",
   "execution_count": null,
   "metadata": {},
   "outputs": [],
   "source": [
    "prices = loaddata_4h('AUDUSD_Candlestick_4_Hour_BID_03.08.2003-04.09.2021_EEF_GMT.csv')"
   ]
  },
  {
   "cell_type": "code",
   "execution_count": null,
   "metadata": {},
   "outputs": [],
   "source": [
    "rsiKey = [13]\n",
    "tdiKey = [13]\n",
    "dictList = []\n",
    "colFeat = []\n",
    "keyList = []\n",
    "# rsiDict   = rsi(prices, rsiKey)\n",
    "tdiDict   = tdi1(prices, tdiKey)\n",
    "# dictList.append(rsiDict.df); colFeat.append('rsi'); keyList.append(rsiKey) \n",
    "dictList.append(tdiDict.df); colFeat.append('tdi'); keyList.append(tdiKey) "
   ]
  },
  {
   "cell_type": "code",
   "execution_count": null,
   "metadata": {},
   "outputs": [],
   "source": [
    "# prices.dropna(inplace=True)\n",
    "masterFrame = pd.DataFrame(index=prices.index)\n",
    "masterFrame[['id','year','month','date','hour','weekday','open','high','low','close','volume']] = prices[['id','year','month','date','hour','weekday','open','high','low','close','volume']]   "
   ]
  },
  {
   "cell_type": "code",
   "execution_count": null,
   "metadata": {},
   "outputs": [],
   "source": [
    "for i in range(0,len(dictList)):#iteracja po funkcjach\n",
    "    for j in keyList[i]: #iteracja po okresach\n",
    "        for k in list(dictList[i][j]): #iteracja po kolumnach danej funkcji w okresie\n",
    "            colID = colFeat[i] + str(j) + k\n",
    "            masterFrame[colID] = dictList[i][j][k]"
   ]
  },
  {
   "cell_type": "code",
   "execution_count": null,
   "metadata": {},
   "outputs": [],
   "source": [
    "# masterFrame.to_csv(sep=';',path_or_buf='../Data/masterFrame.csv',date_format=\"%Y-%m-%d\",index = False,na_rep='')"
   ]
  },
  {
   "cell_type": "code",
   "execution_count": null,
   "metadata": {
    "scrolled": true
   },
   "outputs": [],
   "source": [
    "masterFrame = masterFrame.dropna()"
   ]
  },
  {
   "cell_type": "code",
   "execution_count": null,
   "metadata": {},
   "outputs": [],
   "source": [
    "# masterFrame.iloc[0:-50,:20]"
   ]
  },
  {
   "cell_type": "code",
   "execution_count": null,
   "metadata": {},
   "outputs": [],
   "source": [
    "importlib.reload(tradestats)\n",
    "from tradestats import *"
   ]
  },
  {
   "cell_type": "code",
   "execution_count": null,
   "metadata": {},
   "outputs": [],
   "source": [
    "starttime = datetime.now()\n",
    "# trades,alltrades = preparetrades(masterFrame,[-1,1],[5],[13],[0.003],False)\n",
    "# trades,alltrades = preparetrades(masterFrame,[-1,1],[5,9],[13,17],[0.001,0.002,0.003,0.004,0.005,0.006],True)\n",
    "alltrades = preparetrades(masterFrame,[1],[5],[13],[0.006])\n",
    "trades = cleartrades(alltrades.copy(),True)\n",
    "# trades,alltrades = preparetrades(masterFrame,[-1,1],[5],[13],[0.002],True)\n",
    "endtime = datetime.now()\n",
    "print(str(endtime - starttime))"
   ]
  },
  {
   "cell_type": "code",
   "execution_count": null,
   "metadata": {
    "scrolled": true
   },
   "outputs": [],
   "source": [
    "#____________________________________________________________________________________________________________________\n",
    "#\n",
    "#\n",
    "trades.head(2)"
   ]
  },
  {
   "cell_type": "code",
   "execution_count": null,
   "metadata": {},
   "outputs": [],
   "source": [
    "X = trades.iloc[:, :-1].values\n",
    "feature_names = trades.columns[:-1]\n",
    "y = trades.iloc[:, -1:].values"
   ]
  },
  {
   "cell_type": "code",
   "execution_count": null,
   "metadata": {},
   "outputs": [],
   "source": [
    "# regr = DecisionTreeRegressor(min_samples_leaf=0.001,criterion='mse',max_depth=17, random_state=1234)\n",
    "# criterion{“mse”, “friedman_mse”, “mae”, “poisson”}, default=”mse”\n",
    "regr = DecisionTreeClassifier(min_samples_leaf=1,criterion='gini',max_depth=8, random_state=1234)\n",
    "# criterion{“gini”, “entropy”}, default=”gini”\n",
    "regr.fit(X, y)\n",
    "score = regr.score(X, y)\n",
    "print(score)"
   ]
  },
  {
   "cell_type": "code",
   "execution_count": null,
   "metadata": {},
   "outputs": [],
   "source": [
    "\"\"\"\n",
    "all features mse depth 8 leaf 0.05 =0,0049\n",
    "wyciąłem poniższe mse depth 8 leaf 0.05 =0,0043\n",
    "#     df['green1_red1'] = df.green1 - df.red1\n",
    "#     df['green2_red2'] = df.green2 - df.red2\n",
    "#     df['green_red_change'] = df.green1_red1 - df.green2_red2\n",
    "#     df['green_red_slope_change'] = df.green_slope - df.red_slope\n",
    "all features mse depth 8 leaf 0.1 =0.0028\n",
    "all features friedman_mse depth 8 leaf 0.05 =0.0049\n",
    "all features mse depth 8 leaf 0.03 = 0.0069\n",
    "all features mse depth 8 leaf 0.01 = 0.0074\n",
    "all features mse depth 8 leaf 1 = 0.048\n",
    "all features mse depth 9 leaf 1 = 0.051\n",
    "all features mse depth 15 leaf 1 = 0.11\n",
    "all features mse depth 15 leaf 0.001 = 0.054\n",
    "all features mse depth 15 leaf 0.05 = 0,028\n",
    "all features mse depth 5 leaf 0.05 = 0.0016\n",
    "\"\"\""
   ]
  },
  {
   "cell_type": "code",
   "execution_count": null,
   "metadata": {
    "scrolled": true
   },
   "outputs": [],
   "source": [
    "dd = pd.DataFrame()\n",
    "dd['f'] = feature_names.values\n",
    "dd['i'] = regr.feature_importances_\n",
    "dd.sort_values(by=['i'], ascending=False)"
   ]
  },
  {
   "cell_type": "code",
   "execution_count": null,
   "metadata": {},
   "outputs": [],
   "source": [
    "# text_representation = tree.export_text(regr)\n",
    "# print(text_representation)"
   ]
  },
  {
   "cell_type": "code",
   "execution_count": null,
   "metadata": {},
   "outputs": [],
   "source": [
    "from graphviz import Source\n",
    "from sklearn import tree\n",
    "graph = Source( tree.export_graphviz(regr, out_file=None, feature_names=feature_names,rounded = True, proportion = False, \n",
    "                 filled = True))\n",
    "graph.format = 'png'\n",
    "graph.render('dtree_render',view=True)"
   ]
  },
  {
   "cell_type": "code",
   "execution_count": null,
   "metadata": {},
   "outputs": [],
   "source": [
    "alltrades.head()"
   ]
  },
  {
   "cell_type": "code",
   "execution_count": null,
   "metadata": {},
   "outputs": [],
   "source": [
    "importlib.reload(tradestats)\n",
    "from tradestats import *\n",
    "stats = stattrades(alltrades)"
   ]
  },
  {
   "cell_type": "code",
   "execution_count": null,
   "metadata": {
    "scrolled": true
   },
   "outputs": [],
   "source": [
    "stats.sort_values(\"profit_ratio\",ascending=False)"
   ]
  },
  {
   "cell_type": "code",
   "execution_count": null,
   "metadata": {},
   "outputs": [],
   "source": [
    "importlib.reload(tradestats)\n",
    "from tradestats import *\n",
    "\n",
    "tradetypes = [1]\n",
    "openhours = [5]\n",
    "closehours = [13]\n",
    "sls = [10]\n",
    "bar2froms = [-1000,-20,-10,0,10,20,1000]\n",
    "bar2tos = [-1000,-20,-10,0,10,20,1000]\n",
    "bar1froms = [-1000,-20,-10,0,10,20,1000]\n",
    "bar1tos =[-1000,-20,-10,0,10,20,1000]\n",
    "bar2froms = [-1000,1000]\n",
    "bar2tos = [-1000,1000]\n",
    "bar1froms = [-1000,1000]\n",
    "bar1tos =[-1000,1000]\n",
    "gr2froms = [-1000,-8,-3,0,3,8,1000]\n",
    "gr2tos = [-1000,-8,-3,0,3,8,1000]\n",
    "gr1froms = [-1000,-8,-3,0,3,8,1000]\n",
    "gr1tos = [-1000,-8,-3,0,3,8,1000]\n",
    "gr2froms = [-1000,-10,-8,-6,-4,-2,0,2,4,6,8,10,1000]\n",
    "gr2tos = [-1000,-10,-8,-6,-4,-2,0,2,4,6,8,10,1000]\n",
    "gr1froms = [-1000,-10,-8,-6,-4,-2,0,2,4,6,8,10,1000]\n",
    "gr1tos = [-1000,-10,-8,-6,-4,-2,0,2,4,6,8,10,1000]\n",
    "starttime = datetime.now()\n",
    "stats = stathyper(alltrades,tradetypes,openhours,closehours,sls,bar2froms,bar2tos,bar1froms,bar1tos,gr2froms,gr2tos,gr1froms,gr1tos)\n",
    "endtime = datetime.now()\n",
    "print(str(endtime - starttime))"
   ]
  },
  {
   "cell_type": "code",
   "execution_count": null,
   "metadata": {
    "scrolled": true
   },
   "outputs": [],
   "source": [
    "importlib.reload(tradestats)\n",
    "from tradestats import *\n",
    "\n",
    "params = {}\n",
    "\n",
    "params['tradetypes'] = [1]\n",
    "params['openhours'] = [5]\n",
    "params['closehours'] = [13]\n",
    "params['sls'] = [60]\n",
    "\n",
    "params['bar2froms'] = [-1000,-8,0,8,1000]\n",
    "params['bar2tos'] = [-1000,-8,0,8,1000]\n",
    "params['bar2froms'] = [-1000]\n",
    "params['bar2tos'] = [1000]\n",
    "\n",
    "params['bar1froms'] = [-1000,-8,0,8,1000]\n",
    "params['bar1tos'] =[-1000,-8,0,8,1000]\n",
    "# params['bar1froms'] = [-1000]\n",
    "# params['bar1tos'] =[1000]\n",
    "\n",
    "params['gr2froms'] = [-1000]\n",
    "params['gr2tos'] = [1000]\n",
    "\n",
    "params['gr1froms'] = [-1000,0,1000]\n",
    "params['gr1tos'] = [-1000,0,1000]\n",
    "# params['gr1froms'] = [-1000]\n",
    "# params['gr1tos'] = [1000]\n",
    "\n",
    "params['rslopefroms'] = [-1000,-3,0,3,1000]\n",
    "params['rslopetos'] = [-1000,-3,0,3,1000]\n",
    "\n",
    "params['gslopefroms'] = [-1000,-8,-3,0,3,8,1000]\n",
    "params['gslopetos'] = [-1000,-8,-3,0,3,8,1000]\n",
    "\n",
    "params['grcfroms'] = [-1000]\n",
    "params['grctos'] = [1000]\n",
    "\n",
    "params['yearfroms'] = [2015]\n",
    "params['yeartos'] = [2021]\n",
    "\n",
    "params['redfroms'] = [0,40,60,100]\n",
    "params['redtos'] = [0,40,60,100]\n",
    "# params['redfroms'] = [0,100]\n",
    "# params['redtos'] = [0,100]\n",
    "\n",
    "params['barnofroms'] = [1]\n",
    "params['barnotos'] = [1,2,3,100]\n",
    "# params['barnofroms'] = [1,100]\n",
    "# params['barnotos'] = [1,100]\n",
    "\n",
    "params['crossfroms'] = [0,1]\n",
    "params['crosstos'] = [0,1]\n",
    "\n",
    "params['filename'] = '2015_2021_5_13_60'\n",
    "\n",
    "stats = stathyperparams(alltrades,params)"
   ]
  },
  {
   "cell_type": "code",
   "execution_count": null,
   "metadata": {},
   "outputs": [],
   "source": [
    "stats.sort_values(\"profit_sum\",ascending=False)"
   ]
  },
  {
   "cell_type": "code",
   "execution_count": null,
   "metadata": {},
   "outputs": [],
   "source": [
    "stats0.to_csv(sep=';',path_or_buf='../Data/stats0.csv',date_format=\"%Y-%m-%d\",index = False,na_rep='')"
   ]
  },
  {
   "cell_type": "code",
   "execution_count": null,
   "metadata": {},
   "outputs": [],
   "source": []
  }
 ],
 "metadata": {
  "kernelspec": {
   "display_name": "Python 3",
   "language": "python",
   "name": "python3"
  },
  "language_info": {
   "codemirror_mode": {
    "name": "ipython",
    "version": 3
   },
   "file_extension": ".py",
   "mimetype": "text/x-python",
   "name": "python",
   "nbconvert_exporter": "python",
   "pygments_lexer": "ipython3",
   "version": "3.7.3"
  }
 },
 "nbformat": 4,
 "nbformat_minor": 2
}
