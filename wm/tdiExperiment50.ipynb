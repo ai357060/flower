{
 "cells": [
  {
   "cell_type": "code",
   "execution_count": null,
   "metadata": {},
   "outputs": [],
   "source": [
    "import os\n",
    "cwd = os.getcwd()\n",
    "if cwd[0:2] != \"C:\":\n",
    "    from google.colab import drive\n",
    "    drive.mount('/content/gdrive',force_remount=True)\n",
    "    %cd \"/content/gdrive/My Drive/Projects\"\n",
    "    !git clone https://github.com/ai357060/modelF.git\n",
    "    import sys\n",
    "    root_dir=\"/content/gdrive/My Drive/Projects/modelF\"\n",
    "    sys.path.append(root_dir)\n",
    "    %cd \"/content/gdrive/My Drive/Projects/modelF/wm\"\n",
    "    !git fetch --all\n",
    "    !git reset --hard origin/master"
   ]
  },
  {
   "cell_type": "code",
   "execution_count": null,
   "metadata": {},
   "outputs": [],
   "source": [
    "import os\n",
    "cwd = os.getcwd()\n",
    "if cwd[0:2] != \"C:\":\n",
    "    from google.colab import drive\n",
    "    drive.mount('/content/gdrive',force_remount=True)\n",
    "    %cd \"/content/gdrive/My Drive/Projects\"\n",
    "#     !git clone https://github.com/ai357060/modelF.git\n",
    "    import sys\n",
    "    root_dir=\"/content/gdrive/My Drive/Projects/modelF\"\n",
    "    sys.path.append(root_dir)\n",
    "    %cd \"/content/gdrive/My Drive/Projects/modelF/wm\"\n",
    "#     !git pull"
   ]
  },
  {
   "cell_type": "code",
   "execution_count": null,
   "metadata": {},
   "outputs": [],
   "source": [
    "import os\n",
    "import sys\n",
    "module_path = os.path.abspath(os.path.join('..'))\n",
    "if module_path not in sys.path:\n",
    "    sys.path.append(module_path)"
   ]
  },
  {
   "cell_type": "code",
   "execution_count": null,
   "metadata": {},
   "outputs": [],
   "source": [
    "import pandas as pd\n",
    "import numpy as np\n",
    "import datetime as dt\n",
    "import importlib\n",
    "import tradestats\n",
    "import pandas as pd\n",
    "from datetime import datetime"
   ]
  },
  {
   "cell_type": "code",
   "execution_count": null,
   "metadata": {},
   "outputs": [],
   "source": [
    "from sklearn import datasets\n",
    "from sklearn.tree import DecisionTreeRegressor\n",
    "from sklearn.tree import DecisionTreeClassifier \n",
    "from sklearn import tree\n",
    "import graphviz"
   ]
  },
  {
   "cell_type": "code",
   "execution_count": null,
   "metadata": {},
   "outputs": [],
   "source": [
    "importlib.reload(tradestats)\n",
    "from tradestats import *"
   ]
  },
  {
   "cell_type": "code",
   "execution_count": null,
   "metadata": {},
   "outputs": [],
   "source": [
    "prices = loaddata_4h('AUDUSD_Candlestick_4_Hour_BID_03.08.2003-04.09.2021_EEF_GMT.csv')"
   ]
  },
  {
   "cell_type": "code",
   "execution_count": null,
   "metadata": {},
   "outputs": [],
   "source": [
    "rsiKey = [13]\n",
    "tdiKey = [13]\n",
    "dictList = []\n",
    "colFeat = []\n",
    "keyList = []\n",
    "# rsiDict   = rsi(prices, rsiKey)\n",
    "tdiDict   = tdi1(prices, tdiKey)\n",
    "# dictList.append(rsiDict.df); colFeat.append('rsi'); keyList.append(rsiKey) \n",
    "dictList.append(tdiDict.df); colFeat.append('tdi'); keyList.append(tdiKey) "
   ]
  },
  {
   "cell_type": "code",
   "execution_count": null,
   "metadata": {},
   "outputs": [],
   "source": [
    "# prices.dropna(inplace=True)\n",
    "masterFrame = pd.DataFrame(index=prices.index)\n",
    "masterFrame[['id','year','month','day','date','hour','weekday','open','high','low','close','volume']] = prices[['id','year','month','day','date','hour','weekday','open','high','low','close','volume']]   "
   ]
  },
  {
   "cell_type": "code",
   "execution_count": null,
   "metadata": {},
   "outputs": [],
   "source": [
    "for i in range(0,len(dictList)):#iteracja po funkcjach\n",
    "    for j in keyList[i]: #iteracja po okresach\n",
    "        for k in list(dictList[i][j]): #iteracja po kolumnach danej funkcji w okresie\n",
    "            colID = colFeat[i] + str(j) + k\n",
    "            masterFrame[colID] = dictList[i][j][k]"
   ]
  },
  {
   "cell_type": "code",
   "execution_count": null,
   "metadata": {},
   "outputs": [],
   "source": [
    "# masterFrame.to_csv(sep=';',path_or_buf='../Data/masterFrame.csv',date_format=\"%Y-%m-%d\",index = False,na_rep='')"
   ]
  },
  {
   "cell_type": "code",
   "execution_count": null,
   "metadata": {
    "scrolled": true
   },
   "outputs": [],
   "source": [
    "masterFrame = masterFrame.dropna()"
   ]
  },
  {
   "cell_type": "code",
   "execution_count": null,
   "metadata": {},
   "outputs": [],
   "source": [
    "# masterFrame.iloc[0:-50,:20]"
   ]
  },
  {
   "cell_type": "code",
   "execution_count": null,
   "metadata": {},
   "outputs": [],
   "source": []
  },
  {
   "cell_type": "code",
   "execution_count": null,
   "metadata": {},
   "outputs": [],
   "source": [
    "importlib.reload(tradestats)\n",
    "from tradestats import *\n",
    "starttime = datetime.now()\n",
    "# trades,alltrades = preparetrades(masterFrame,[-1,1],[5],[13],[0.003],False)\n",
    "# trades,alltrades = preparetrades(masterFrame,[-1,1],[5,9],[13,17],[0.001,0.002,0.003,0.004,0.005,0.006],True)\n",
    "alltrades = preparetrades(masterFrame,[1],[5],[13],[0.005],2015,2021)\n",
    "trades = cleartrades(alltrades.copy(),True)\n",
    "# trades,alltrades = preparetrades(masterFrame,[-1,1],[5],[13],[0.002],True)\n",
    "endtime = datetime.now()\n",
    "print(str(endtime - starttime))"
   ]
  },
  {
   "cell_type": "code",
   "execution_count": null,
   "metadata": {
    "scrolled": true
   },
   "outputs": [],
   "source": [
    "#____________________________________________________________________________________________________________________\n",
    "#\n",
    "#\n",
    "trades.head(2)"
   ]
  },
  {
   "cell_type": "code",
   "execution_count": null,
   "metadata": {},
   "outputs": [],
   "source": [
    "X = trades.iloc[:, :-1].values\n",
    "feature_names = trades.columns[:-1]\n",
    "y = trades.iloc[:, -1:].values"
   ]
  },
  {
   "cell_type": "code",
   "execution_count": null,
   "metadata": {},
   "outputs": [],
   "source": [
    "# regr = DecisionTreeRegressor(min_samples_leaf=0.001,criterion='mse',max_depth=17, random_state=1234)\n",
    "# criterion{“mse”, “friedman_mse”, “mae”, “poisson”}, default=”mse”\n",
    "regr = DecisionTreeClassifier(min_samples_leaf=1,criterion='gini',max_depth=8, random_state=1234)\n",
    "# criterion{“gini”, “entropy”}, default=”gini”\n",
    "regr.fit(X, y)\n",
    "score = regr.score(X, y)\n",
    "print(score)"
   ]
  },
  {
   "cell_type": "code",
   "execution_count": null,
   "metadata": {},
   "outputs": [],
   "source": [
    "\"\"\"\n",
    "all features mse depth 8 leaf 0.05 =0,0049\n",
    "wyciąłem poniższe mse depth 8 leaf 0.05 =0,0043\n",
    "#     df['green1_red1'] = df.green1 - df.red1\n",
    "#     df['green2_red2'] = df.green2 - df.red2\n",
    "#     df['green_red_change'] = df.green1_red1 - df.green2_red2\n",
    "#     df['green_red_slope_change'] = df.green_slope - df.red_slope\n",
    "all features mse depth 8 leaf 0.1 =0.0028\n",
    "all features friedman_mse depth 8 leaf 0.05 =0.0049\n",
    "all features mse depth 8 leaf 0.03 = 0.0069\n",
    "all features mse depth 8 leaf 0.01 = 0.0074\n",
    "all features mse depth 8 leaf 1 = 0.048\n",
    "all features mse depth 9 leaf 1 = 0.051\n",
    "all features mse depth 15 leaf 1 = 0.11\n",
    "all features mse depth 15 leaf 0.001 = 0.054\n",
    "all features mse depth 15 leaf 0.05 = 0,028\n",
    "all features mse depth 5 leaf 0.05 = 0.0016\n",
    "\"\"\""
   ]
  },
  {
   "cell_type": "code",
   "execution_count": null,
   "metadata": {
    "scrolled": true
   },
   "outputs": [],
   "source": [
    "dd = pd.DataFrame()\n",
    "dd['f'] = feature_names.values\n",
    "dd['i'] = regr.feature_importances_\n",
    "dd.sort_values(by=['i'], ascending=False)"
   ]
  },
  {
   "cell_type": "code",
   "execution_count": null,
   "metadata": {},
   "outputs": [],
   "source": [
    "# text_representation = tree.export_text(regr)\n",
    "# print(text_representation)"
   ]
  },
  {
   "cell_type": "code",
   "execution_count": null,
   "metadata": {},
   "outputs": [],
   "source": [
    "from graphviz import Source\n",
    "from sklearn import tree\n",
    "graph = Source( tree.export_graphviz(regr, out_file=None, feature_names=feature_names,rounded = True, proportion = False, \n",
    "                 filled = True))\n",
    "graph.format = 'png'\n",
    "graph.render('dtree_render',view=True)"
   ]
  },
  {
   "cell_type": "code",
   "execution_count": null,
   "metadata": {},
   "outputs": [],
   "source": [
    "alltrades.head()"
   ]
  },
  {
   "cell_type": "code",
   "execution_count": null,
   "metadata": {},
   "outputs": [],
   "source": [
    "importlib.reload(tradestats)\n",
    "from tradestats import *\n",
    "stats = stattrades(alltrades)"
   ]
  },
  {
   "cell_type": "code",
   "execution_count": null,
   "metadata": {},
   "outputs": [],
   "source": [
    "#######TEST########\n",
    "importlib.reload(tradestats)\n",
    "from tradestats import *\n",
    "stats = runtrades_v1_4h_0(alltrades)"
   ]
  },
  {
   "cell_type": "code",
   "execution_count": null,
   "metadata": {},
   "outputs": [],
   "source": [
    "#######TEST######## v2\n",
    "importlib.reload(tradestats)\n",
    "from tradestats import *\n",
    "stats = runtrades_v2_4h_0(alltrades)"
   ]
  },
  {
   "cell_type": "code",
   "execution_count": null,
   "metadata": {},
   "outputs": [],
   "source": [
    "importlib.reload(tradestats)\n",
    "from tradestats import *\n",
    "stats = runtrades_v2_4h_2(alltrades,1,5,13,50)"
   ]
  },
  {
   "cell_type": "code",
   "execution_count": null,
   "metadata": {},
   "outputs": [],
   "source": []
  }
 ],
 "metadata": {
  "kernelspec": {
   "display_name": "Python 3",
   "language": "python",
   "name": "python3"
  },
  "language_info": {
   "codemirror_mode": {
    "name": "ipython",
    "version": 3
   },
   "file_extension": ".py",
   "mimetype": "text/x-python",
   "name": "python",
   "nbconvert_exporter": "python",
   "pygments_lexer": "ipython3",
   "version": "3.7.3"
  }
 },
 "nbformat": 4,
 "nbformat_minor": 2
}
